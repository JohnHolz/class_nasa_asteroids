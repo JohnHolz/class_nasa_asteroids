{
 "cells": [
  {
   "cell_type": "code",
   "execution_count": 1,
   "id": "1dfa243d-4ef5-4fe0-b21e-e9b90021d37b",
   "metadata": {},
   "outputs": [],
   "source": [
    "## mine\n",
    "from modules.get_data import get_x_y, get_x_y_no_NaNs\n",
    "from jh_utils.data.pandas.preprocessing import make_dummies"
   ]
  },
  {
   "cell_type": "code",
   "execution_count": 2,
   "id": "75d18f33-70f7-491b-82a7-3d2407a90c46",
   "metadata": {},
   "outputs": [],
   "source": [
    "## third\n",
    "import pandas as pd, numpy as np\n",
    "from sklearn.model_selection import train_test_split\n",
    "from sklearn.preprocessing import StandardScaler\n",
    "\n",
    "## models\n",
    "from sklearn.ensemble import RandomForestClassifier\n",
    "from sklearn.tree import DecisionTreeClassifier\n",
    "from sklearn.linear_model import LogisticRegression\n",
    "\n",
    "## pos model\n",
    "from sklearn.metrics import classification_report,confusion_matrix"
   ]
  },
  {
   "cell_type": "code",
   "execution_count": 3,
   "id": "6d04f702-8da9-456f-9a54-17a99d112a26",
   "metadata": {},
   "outputs": [
    {
     "name": "stderr",
     "output_type": "stream",
     "text": [
      "/home/joaoholz/Documents/ufes/trabalho_final/modules/get_data.py:5: DtypeWarning: Columns (3,4,5) have mixed types. Specify dtype option on import or set low_memory=False.\n",
      "  return pd.read_csv('asteroides/asteoides.csv').iloc[:,first_columns:]\n"
     ]
    }
   ],
   "source": [
    "x,y = get_x_y_no_NaNs()"
   ]
  },
  {
   "cell_type": "code",
   "execution_count": 4,
   "id": "cf3e1721-6333-4ed6-bfe7-8e661fafa060",
   "metadata": {},
   "outputs": [],
   "source": [
    "x = pd.concat([x,make_dummies(x['class'])],axis=1)\n",
    "x.drop('class',axis=1,inplace=True)"
   ]
  },
  {
   "cell_type": "code",
   "execution_count": 5,
   "id": "3343ea24-e5ef-4b29-b9c3-e2dc5284a909",
   "metadata": {},
   "outputs": [],
   "source": [
    "y = make_dummies(y)"
   ]
  },
  {
   "cell_type": "markdown",
   "id": "b857ecf1-3f4d-4f98-8e30-bbc43b572152",
   "metadata": {},
   "source": [
    "---\n",
    "model"
   ]
  },
  {
   "cell_type": "code",
   "execution_count": 6,
   "id": "692b0d53-7fa8-46ba-bd40-65c1bb9cac64",
   "metadata": {},
   "outputs": [],
   "source": [
    "x_train,x_test,y_train,y_test = train_test_split(x,y,test_size=0.2,stratify=y)"
   ]
  },
  {
   "cell_type": "code",
   "execution_count": 7,
   "id": "30fa465b-13a9-4687-97ba-8d83850c5cba",
   "metadata": {},
   "outputs": [],
   "source": [
    "standard = StandardScaler()\n",
    "x_train = standard.fit_transform(x_train)\n",
    "x_test = standard.transform(x_test)"
   ]
  },
  {
   "cell_type": "code",
   "execution_count": 8,
   "id": "76a7e443-2196-478a-967d-a3ef1a0cd380",
   "metadata": {},
   "outputs": [],
   "source": [
    "def fit_classify(model):\n",
    "    model.fit(x_train,y_train)\n",
    "    y_pred = model.predict(x_test)\n",
    "    \n",
    "    print(classification_report(y_test,y_pred))\n",
    "    cm = confusion_matrix(y_test,y_pred)\n",
    "    col = ['N','Y']\n",
    "    print(pd.DataFrame(cm,index=col,columns = col))"
   ]
  },
  {
   "cell_type": "code",
   "execution_count": 86,
   "id": "b029c726-3fb1-459f-a69c-302a6ec6ceeb",
   "metadata": {},
   "outputs": [
    {
     "name": "stderr",
     "output_type": "stream",
     "text": [
      "/tmp/ipykernel_65731/2329049293.py:2: DataConversionWarning: A column-vector y was passed when a 1d array was expected. Please change the shape of y to (n_samples,), for example using ravel().\n",
      "  model.fit(x_train,y_train)\n"
     ]
    },
    {
     "name": "stdout",
     "output_type": "stream",
     "text": [
      "              precision    recall  f1-score   support\n",
      "\n",
      "           0       1.00      1.00      1.00    187308\n",
      "           1       0.38      0.05      0.09       413\n",
      "\n",
      "    accuracy                           1.00    187721\n",
      "   macro avg       0.69      0.53      0.54    187721\n",
      "weighted avg       1.00      1.00      1.00    187721\n",
      "\n",
      "        N   Y\n",
      "N  187273  35\n",
      "Y     392  21\n"
     ]
    }
   ],
   "source": [
    "rf = RandomForestClassifier(n_estimators=80)\n",
    "fit_classify(rf)"
   ]
  },
  {
   "cell_type": "code",
   "execution_count": 52,
   "id": "411f1cfc-45dc-48c5-b970-adff9f24bade",
   "metadata": {},
   "outputs": [
    {
     "name": "stdout",
     "output_type": "stream",
     "text": [
      "              precision    recall  f1-score   support\n",
      "\n",
      "           N       1.00      1.00      1.00    187308\n",
      "           Y       0.33      0.36      0.34       413\n",
      "\n",
      "    accuracy                           1.00    187721\n",
      "   macro avg       0.66      0.68      0.67    187721\n",
      "weighted avg       1.00      1.00      1.00    187721\n",
      "\n",
      "        N    Y\n",
      "N  187010  298\n",
      "Y     266  147\n"
     ]
    }
   ],
   "source": [
    "dt = DecisionTreeClassifier()\n",
    "fit_classify(dt)"
   ]
  },
  {
   "cell_type": "code",
   "execution_count": 9,
   "id": "f53b1742-2f90-492c-9c88-b0ce02cd9e43",
   "metadata": {},
   "outputs": [
    {
     "name": "stderr",
     "output_type": "stream",
     "text": [
      "2023-07-05 22:02:44.326334: I tensorflow/core/platform/cpu_feature_guard.cc:193] This TensorFlow binary is optimized with oneAPI Deep Neural Network Library (oneDNN) to use the following CPU instructions in performance-critical operations:  SSE4.1 SSE4.2 AVX AVX2 FMA\n",
      "To enable them in other operations, rebuild TensorFlow with the appropriate compiler flags.\n"
     ]
    }
   ],
   "source": [
    "import tensorflow as tf"
   ]
  },
  {
   "cell_type": "code",
   "execution_count": 26,
   "id": "428d99ca-33c7-4b06-a651-ef6e404ec243",
   "metadata": {},
   "outputs": [],
   "source": [
    "model = tf.keras.Sequential()\n",
    "model.add(tf.keras.layers.Dense(16, activation='relu', input_shape=(25,)))\n",
    "model.add(tf.keras.layers.Dropout(0.35))\n",
    "model.add(tf.keras.layers.Dense(16, activation='relu'))\n",
    "model.add(tf.keras.layers.Dropout(0.35))\n",
    "model.add(tf.keras.layers.Dense(1, activation='sigmoid'))\n",
    "model.compile(optimizer='adam',loss='binary_crossentropy',metrics=['accuracy'])"
   ]
  },
  {
   "cell_type": "code",
   "execution_count": 27,
   "id": "ba210542-541c-4fb0-b1bb-c4145f680901",
   "metadata": {},
   "outputs": [
    {
     "name": "stdout",
     "output_type": "stream",
     "text": [
      "Epoch 1/10\n",
      "23466/23466 [==============================] - 75s 3ms/step - loss: 0.0102 - accuracy: 0.9975\n",
      "Epoch 2/10\n",
      "23466/23466 [==============================] - 71s 3ms/step - loss: 0.0071 - accuracy: 0.9978\n",
      "Epoch 3/10\n",
      "23466/23466 [==============================] - 71s 3ms/step - loss: 0.0069 - accuracy: 0.9978\n",
      "Epoch 4/10\n",
      "23466/23466 [==============================] - 74s 3ms/step - loss: 0.0068 - accuracy: 0.9978\n",
      "Epoch 5/10\n",
      "23466/23466 [==============================] - 71s 3ms/step - loss: 0.0067 - accuracy: 0.9978\n",
      "Epoch 6/10\n",
      "23466/23466 [==============================] - 77s 3ms/step - loss: 0.0067 - accuracy: 0.9978\n",
      "Epoch 7/10\n",
      "23466/23466 [==============================] - 72s 3ms/step - loss: 0.0068 - accuracy: 0.9978\n",
      "Epoch 8/10\n",
      "23466/23466 [==============================] - 70s 3ms/step - loss: 0.0068 - accuracy: 0.9978\n",
      "Epoch 9/10\n",
      "23466/23466 [==============================] - 71s 3ms/step - loss: 0.0068 - accuracy: 0.9978\n",
      "Epoch 10/10\n",
      "23466/23466 [==============================] - 73s 3ms/step - loss: 0.0068 - accuracy: 0.9978\n"
     ]
    },
    {
     "data": {
      "text/plain": [
       "<keras.callbacks.History at 0x7fb739a0d060>"
      ]
     },
     "execution_count": 27,
     "metadata": {},
     "output_type": "execute_result"
    }
   ],
   "source": [
    "model.fit(x_train,y_train, epochs=10, batch_size=32, verbose=1)"
   ]
  },
  {
   "cell_type": "code",
   "execution_count": null,
   "id": "911eb04a-42d5-49b6-8579-0bbeaeb5d4ea",
   "metadata": {},
   "outputs": [],
   "source": [
    "y_pred = model.predict(x_test)"
   ]
  },
  {
   "cell_type": "code",
   "execution_count": 36,
   "id": "e6651cec-a39e-4b12-accc-be962ce8811c",
   "metadata": {},
   "outputs": [
    {
     "name": "stdout",
     "output_type": "stream",
     "text": [
      "              precision    recall  f1-score   support\n",
      "\n",
      "           0       1.00      1.00      1.00    187308\n",
      "           1       0.00      0.00      0.00       413\n",
      "\n",
      "    accuracy                           1.00    187721\n",
      "   macro avg       0.50      0.50      0.50    187721\n",
      "weighted avg       1.00      1.00      1.00    187721\n",
      "\n",
      "        N  Y\n",
      "N  187308  0\n",
      "Y     413  0\n"
     ]
    },
    {
     "name": "stderr",
     "output_type": "stream",
     "text": [
      "/home/joaoholz/miniconda3/envs/tf/lib/python3.10/site-packages/sklearn/metrics/_classification.py:1344: UndefinedMetricWarning: Precision and F-score are ill-defined and being set to 0.0 in labels with no predicted samples. Use `zero_division` parameter to control this behavior.\n",
      "  _warn_prf(average, modifier, msg_start, len(result))\n",
      "/home/joaoholz/miniconda3/envs/tf/lib/python3.10/site-packages/sklearn/metrics/_classification.py:1344: UndefinedMetricWarning: Precision and F-score are ill-defined and being set to 0.0 in labels with no predicted samples. Use `zero_division` parameter to control this behavior.\n",
      "  _warn_prf(average, modifier, msg_start, len(result))\n",
      "/home/joaoholz/miniconda3/envs/tf/lib/python3.10/site-packages/sklearn/metrics/_classification.py:1344: UndefinedMetricWarning: Precision and F-score are ill-defined and being set to 0.0 in labels with no predicted samples. Use `zero_division` parameter to control this behavior.\n",
      "  _warn_prf(average, modifier, msg_start, len(result))\n"
     ]
    }
   ],
   "source": [
    "y_pred = np.argmax(y_pred,axis=1)\n",
    "print(classification_report(y_test,y_pred))\n",
    "cm = confusion_matrix(y_test,y_pred)\n",
    "col = ['N','Y']\n",
    "print(pd.DataFrame(cm,index=col,columns = col))"
   ]
  },
  {
   "cell_type": "code",
   "execution_count": null,
   "id": "884d6ec0-9328-43a4-a19f-e023b73a414a",
   "metadata": {},
   "outputs": [],
   "source": []
  },
  {
   "cell_type": "code",
   "execution_count": null,
   "id": "85063340-c648-4605-8cf0-361a6062d915",
   "metadata": {},
   "outputs": [],
   "source": [
    "25*16 + 16*16 + 16"
   ]
  },
  {
   "cell_type": "code",
   "execution_count": null,
   "id": "706bb69e-b9d5-4169-99ee-2c888d162847",
   "metadata": {},
   "outputs": [],
   "source": []
  },
  {
   "cell_type": "code",
   "execution_count": null,
   "id": "ce19b4dd-a15b-4ef5-aad6-87a7c0dd512b",
   "metadata": {},
   "outputs": [],
   "source": []
  },
  {
   "cell_type": "code",
   "execution_count": null,
   "id": "91e83220-94a1-4b05-8204-50c5560ecf35",
   "metadata": {},
   "outputs": [],
   "source": []
  },
  {
   "cell_type": "code",
   "execution_count": null,
   "id": "b1d544ec-604b-44e7-9471-4325f73fcd75",
   "metadata": {},
   "outputs": [],
   "source": [
    "\n",
    "\n",
    "print(tf.config.list_physical_devices('GPU'))"
   ]
  }
 ],
 "metadata": {
  "kernelspec": {
   "display_name": "Python 3 (ipykernel)",
   "language": "python",
   "name": "python3"
  },
  "language_info": {
   "codemirror_mode": {
    "name": "ipython",
    "version": 3
   },
   "file_extension": ".py",
   "mimetype": "text/x-python",
   "name": "python",
   "nbconvert_exporter": "python",
   "pygments_lexer": "ipython3",
   "version": "3.10.11"
  }
 },
 "nbformat": 4,
 "nbformat_minor": 5
}
