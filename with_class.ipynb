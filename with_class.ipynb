{
 "cells": [
  {
   "cell_type": "code",
   "execution_count": 1,
   "id": "1dee0abd-7e79-4683-b01b-063e51f0679e",
   "metadata": {},
   "outputs": [],
   "source": [
    "from modules.get_data import get_x_y\n",
    "from jh_utils.data.pandas.preprocessing import make_dummies"
   ]
  },
  {
   "cell_type": "code",
   "execution_count": 2,
   "id": "75d18f33-70f7-491b-82a7-3d2407a90c46",
   "metadata": {},
   "outputs": [],
   "source": [
    "## third\n",
    "import pandas as pd, numpy as np\n",
    "from sklearn.model_selection import train_test_split\n",
    "from sklearn.preprocessing import StandardScaler, MinMaxScaler\n",
    "\n",
    "## models\n",
    "from sklearn.ensemble import AdaBoostClassifier, RandomForestClassifier\n",
    "from sklearn.tree import DecisionTreeClassifier\n",
    "from sklearn.linear_model import RidgeClassifier\n",
    "from sklearn.neighbors import KNeighborsClassifier\n",
    "\n",
    "## pos model\n",
    "from sklearn.metrics import classification_report,confusion_matrix"
   ]
  },
  {
   "cell_type": "code",
   "execution_count": 3,
   "id": "6d04f702-8da9-456f-9a54-17a99d112a26",
   "metadata": {},
   "outputs": [
    {
     "name": "stderr",
     "output_type": "stream",
     "text": [
      "/home/joaoholz/Documents/ufes/trabalho_final/modules/get_data.py:5: DtypeWarning: Columns (3,4,5) have mixed types. Specify dtype option on import or set low_memory=False.\n",
      "  return pd.read_csv('asteroides/asteoides.csv').iloc[:,first_columns:]\n"
     ]
    }
   ],
   "source": [
    "x,y = get_x_y()"
   ]
  },
  {
   "cell_type": "code",
   "execution_count": 4,
   "id": "cf3e1721-6333-4ed6-bfe7-8e661fafa060",
   "metadata": {},
   "outputs": [],
   "source": [
    "x = pd.concat([x,make_dummies(x['class'])],axis=1)\n",
    "x.drop('class',axis=1,inplace=True)"
   ]
  },
  {
   "cell_type": "code",
   "execution_count": 5,
   "id": "3343ea24-e5ef-4b29-b9c3-e2dc5284a909",
   "metadata": {},
   "outputs": [],
   "source": [
    "y = make_dummies(y)"
   ]
  },
  {
   "cell_type": "code",
   "execution_count": 10,
   "id": "15b8566e-5efe-42c8-b55d-ff381e947004",
   "metadata": {},
   "outputs": [],
   "source": [
    "def fit_classify(model):\n",
    "    model.fit(x_train,y_train)\n",
    "    y_pred = model.predict(x_test)\n",
    "    \n",
    "    print(classification_report(y_test,y_pred))\n",
    "    cm = confusion_matrix(y_test,y_pred)\n",
    "    col = ['N','Y']\n",
    "    print(pd.DataFrame(cm,index=col,columns = col))"
   ]
  },
  {
   "attachments": {},
   "cell_type": "markdown",
   "id": "b857ecf1-3f4d-4f98-8e30-bbc43b572152",
   "metadata": {},
   "source": [
    "---\n",
    "model"
   ]
  },
  {
   "cell_type": "code",
   "execution_count": 6,
   "id": "692b0d53-7fa8-46ba-bd40-65c1bb9cac64",
   "metadata": {},
   "outputs": [],
   "source": [
    "x_train,x_test,y_train,y_test = train_test_split(x,y,test_size=0.3,stratify=y,random_state=42)"
   ]
  },
  {
   "cell_type": "code",
   "execution_count": null,
   "id": "64f6bbcc-413c-46a6-868d-889ffa7c82ca",
   "metadata": {},
   "outputs": [],
   "source": []
  },
  {
   "cell_type": "code",
   "execution_count": null,
   "id": "5cd52a79-4140-4a34-bf1f-938799ecacc0",
   "metadata": {},
   "outputs": [],
   "source": []
  },
  {
   "cell_type": "code",
   "execution_count": null,
   "id": "30fa465b-13a9-4687-97ba-8d83850c5cba",
   "metadata": {},
   "outputs": [],
   "source": [
    "standard = StandardScaler()\n",
    "x_train = standard.fit_transform(x_train)\n",
    "x_test = standard.transform(x_test)"
   ]
  },
  {
   "cell_type": "code",
   "execution_count": 7,
   "id": "b09bacd2-ba69-40f2-bd22-1913eb3e8c6a",
   "metadata": {},
   "outputs": [],
   "source": [
    "standard = MinMaxScaler()\n",
    "x_train = standard.fit_transform(x_train)\n",
    "x_test = standard.transform(x_test)"
   ]
  },
  {
   "cell_type": "code",
   "execution_count": null,
   "id": "76a7e443-2196-478a-967d-a3ef1a0cd380",
   "metadata": {},
   "outputs": [],
   "source": []
  },
  {
   "cell_type": "code",
   "execution_count": null,
   "id": "f53b1742-2f90-492c-9c88-b0ce02cd9e43",
   "metadata": {},
   "outputs": [],
   "source": [
    "import os\n",
    "os.environ['TF_CPP_MIN_LOG_LEVEL'] = '3' \n",
    "import tensorflow as tf"
   ]
  },
  {
   "cell_type": "code",
   "execution_count": null,
   "id": "0936a867-95f1-4405-b0a8-4c4ee8798ab6",
   "metadata": {},
   "outputs": [],
   "source": [
    "## optimizer\n",
    "rms='rmsprop'\n",
    "adam='adam'\n",
    "\n",
    "## loss\n",
    "SPC = tf.keras.losses.SparseCategoricalCrossentropy(from_logits=True)\n",
    "CC = tf.keras.losses.CategoricalCrossentropy()\n",
    "BC = 'binary_crossentropy'\n",
    "MSE = 'mse'\n",
    "SCC = 'sparse_categorical_crossentropy'\n",
    "\n",
    "## last layer\n",
    "softmax = 'softmax'\n",
    "sigmoid = 'sigmoid'"
   ]
  },
  {
   "cell_type": "markdown",
   "id": "f4d99236-cf6a-4ca9-81db-eed17a2bb544",
   "metadata": {},
   "source": [
    "loss | opt | ll act | metric | dropout | layers | data | epoch | batch\n",
    "---|---|---|---|---|---|---|---|---\n",
    "BC | rms | sigmoid | 143/620  | True | 2 layers\n",
    "mse | adam | sigmoid | 134/620  | True | 2 layers\n",
    "BC | adam | sigmoid | 49/620 | True| 2 layers\n",
    "BC | adam | sigmoid | 58-12/620 | True | 2 layers\n",
    "BC | adam | sigmoid | 78-54/620 | no dropout | 1 layer \n",
    "BC | adam | sigmoid | 26-5/620 | no dropout | 2 layers\n",
    "BC | adam | sigmoid | 48-18/620 | no dropout | 3 layers\n",
    "BC | adam | sigmoid | 40-15/620 | no dropout | 2 layers | full data\n",
    "BC | adam | sigmoid | 18-9/620 | no dropout | 3 layers | full data\n",
    "BC | adam | tanh | 120/620 | no dropout | 3 layers | full data\n",
    "BC | adam | sigmoid | 5-1/620 | no dropout | 3 layers | full data | 20 | 128\n",
    "BC | adam | sigmoid | 5-1/620 | no dropout | 3 layers | full data | 40 | 128\n",
    "BC | adam | sigmoid | 5-1/620 | no dropout | 3 layers | full data | 40 | 64"
   ]
  },
  {
   "cell_type": "markdown",
   "id": "839f9cef-60ea-4fe7-9428-f40301acf246",
   "metadata": {},
   "source": [
    "\n",
    "dropou x 2 layers x activation last layer"
   ]
  },
  {
   "cell_type": "code",
   "execution_count": null,
   "id": "0946fa51-e0aa-4d3f-83ac-8c74dc36cd8b",
   "metadata": {},
   "outputs": [],
   "source": [
    "x_train.shape"
   ]
  },
  {
   "cell_type": "code",
   "execution_count": null,
   "id": "1fc723a6-ec47-4af8-80cd-e6295a522c0c",
   "metadata": {},
   "outputs": [],
   "source": [
    "model_3 = tf.keras.Sequential()\n",
    "model_3.add(tf.keras.layers.Dense(16, activation='relu', input_shape=(43,)))\n",
    "# model_3.add(tf.keras.layers.Dense(16, activation='relu'))\n",
    "model_3.add(tf.keras.layers.Dense(8, activation='relu'))\n",
    "model_3.add(tf.keras.layers.Dense(1, activation='sigmoid'))\n",
    "model_3.compile(loss=BC, optimizer=adam, metrics=[tf.keras.metrics.Precision(),'accuracy'])"
   ]
  },
  {
   "cell_type": "code",
   "execution_count": null,
   "id": "ba210542-541c-4fb0-b1bb-c4145f680901",
   "metadata": {},
   "outputs": [],
   "source": [
    "model_3.fit(x_train,y_train, epochs=25, batch_size=256, verbose=1)"
   ]
  },
  {
   "cell_type": "code",
   "execution_count": null,
   "id": "4ebbc7ca-8191-4b3c-956a-5e8a3a9ec1dd",
   "metadata": {},
   "outputs": [],
   "source": [
    "y_prob = model_3.predict(x_test)\n",
    "y_prob.max()"
   ]
  },
  {
   "cell_type": "code",
   "execution_count": null,
   "id": "e6651cec-a39e-4b12-accc-be962ce8811c",
   "metadata": {},
   "outputs": [],
   "source": [
    "y_pred = list(map(lambda x: x>0.05, y_prob))\n",
    "print(classification_report(y_test,y_pred))\n",
    "cm = confusion_matrix(y_test,y_pred)\n",
    "print(cm)"
   ]
  },
  {
   "cell_type": "code",
   "execution_count": null,
   "id": "4e97ae01-942d-41b4-b910-889fc9926cda",
   "metadata": {},
   "outputs": [],
   "source": []
  },
  {
   "cell_type": "code",
   "execution_count": null,
   "id": "05e931b6-f15a-4bb7-8436-82d30891a9d7",
   "metadata": {},
   "outputs": [],
   "source": []
  },
  {
   "cell_type": "code",
   "execution_count": null,
   "id": "a796f901-c239-4551-b221-e03092c5a97f",
   "metadata": {},
   "outputs": [],
   "source": []
  },
  {
   "cell_type": "code",
   "execution_count": 8,
   "id": "b029c726-3fb1-459f-a69c-302a6ec6ceeb",
   "metadata": {},
   "outputs": [],
   "source": [
    "rf = RandomForestClassifier(n_estimators=80)\n",
    "ada = AdaBoostClassifier()\n",
    "knn = KNeighborsClassifier()\n",
    "ridge = RidgeClassifier()\n",
    "dt = DecisionTreeClassifier()"
   ]
  },
  {
   "cell_type": "code",
   "execution_count": 11,
   "id": "29e6a54f-b2ad-417a-b896-972ba7d9ec29",
   "metadata": {},
   "outputs": [
    {
     "name": "stderr",
     "output_type": "stream",
     "text": [
      "/tmp/ipykernel_245827/2329049293.py:2: DataConversionWarning: A column-vector y was passed when a 1d array was expected. Please change the shape of y to (n_samples,), for example using ravel().\n",
      "  model.fit(x_train,y_train)\n"
     ]
    },
    {
     "name": "stdout",
     "output_type": "stream",
     "text": [
      "              precision    recall  f1-score   support\n",
      "\n",
      "           0       1.00      1.00      1.00    279081\n",
      "           1       0.99      0.98      0.98       620\n",
      "\n",
      "    accuracy                           1.00    279701\n",
      "   macro avg       0.99      0.99      0.99    279701\n",
      "weighted avg       1.00      1.00      1.00    279701\n",
      "\n",
      "        N    Y\n",
      "N  279072    9\n",
      "Y      11  609\n"
     ]
    }
   ],
   "source": [
    "fit_classify(rf)"
   ]
  },
  {
   "cell_type": "code",
   "execution_count": 12,
   "id": "411f1cfc-45dc-48c5-b970-adff9f24bade",
   "metadata": {},
   "outputs": [
    {
     "name": "stderr",
     "output_type": "stream",
     "text": [
      "/home/joaoholz/miniconda3/envs/tf/lib/python3.10/site-packages/sklearn/neighbors/_classification.py:215: DataConversionWarning: A column-vector y was passed when a 1d array was expected. Please change the shape of y to (n_samples,), for example using ravel().\n",
      "  return self._fit(X, y)\n"
     ]
    },
    {
     "name": "stdout",
     "output_type": "stream",
     "text": [
      "              precision    recall  f1-score   support\n",
      "\n",
      "           0       1.00      1.00      1.00    279081\n",
      "           1       0.54      0.28      0.37       620\n",
      "\n",
      "    accuracy                           1.00    279701\n",
      "   macro avg       0.77      0.64      0.69    279701\n",
      "weighted avg       1.00      1.00      1.00    279701\n",
      "\n",
      "        N    Y\n",
      "N  278933  148\n",
      "Y     444  176\n"
     ]
    }
   ],
   "source": [
    "fit_classify(knn)"
   ]
  },
  {
   "cell_type": "code",
   "execution_count": 13,
   "id": "d4035e87-7edc-4830-89c4-815c9345aabf",
   "metadata": {},
   "outputs": [
    {
     "name": "stderr",
     "output_type": "stream",
     "text": [
      "/home/joaoholz/miniconda3/envs/tf/lib/python3.10/site-packages/sklearn/utils/validation.py:1141: DataConversionWarning: A column-vector y was passed when a 1d array was expected. Please change the shape of y to (n_samples, ), for example using ravel().\n",
      "  y = column_or_1d(y, warn=True)\n"
     ]
    },
    {
     "name": "stdout",
     "output_type": "stream",
     "text": [
      "              precision    recall  f1-score   support\n",
      "\n",
      "           0       1.00      1.00      1.00    279081\n",
      "           1       0.98      0.97      0.98       620\n",
      "\n",
      "    accuracy                           1.00    279701\n",
      "   macro avg       0.99      0.98      0.99    279701\n",
      "weighted avg       1.00      1.00      1.00    279701\n",
      "\n",
      "        N    Y\n",
      "N  279071   10\n",
      "Y      19  601\n"
     ]
    }
   ],
   "source": [
    "fit_classify(ada)"
   ]
  },
  {
   "cell_type": "code",
   "execution_count": 14,
   "id": "82d07ddf-3b75-4f6b-8e79-25dc0d99934e",
   "metadata": {},
   "outputs": [
    {
     "name": "stderr",
     "output_type": "stream",
     "text": [
      "/home/joaoholz/miniconda3/envs/tf/lib/python3.10/site-packages/sklearn/linear_model/_ridge.py:1182: DataConversionWarning: A column-vector y was passed when a 1d array was expected. Please change the shape of y to (n_samples, ), for example using ravel().\n",
      "  y = column_or_1d(y, warn=True)\n"
     ]
    },
    {
     "name": "stdout",
     "output_type": "stream",
     "text": [
      "              precision    recall  f1-score   support\n",
      "\n",
      "           0       1.00      1.00      1.00    279081\n",
      "           1       0.00      0.00      0.00       620\n",
      "\n",
      "    accuracy                           1.00    279701\n",
      "   macro avg       0.50      0.50      0.50    279701\n",
      "weighted avg       1.00      1.00      1.00    279701\n",
      "\n",
      "        N  Y\n",
      "N  279080  1\n",
      "Y     620  0\n"
     ]
    }
   ],
   "source": [
    "fit_classify(ridge)"
   ]
  },
  {
   "cell_type": "code",
   "execution_count": null,
   "id": "3f59eddb-5a9c-426f-a0c1-4eb5ab213a1c",
   "metadata": {},
   "outputs": [],
   "source": []
  }
 ],
 "metadata": {
  "kernelspec": {
   "display_name": "Python 3 (ipykernel)",
   "language": "python",
   "name": "python3"
  },
  "language_info": {
   "codemirror_mode": {
    "name": "ipython",
    "version": 3
   },
   "file_extension": ".py",
   "mimetype": "text/x-python",
   "name": "python",
   "nbconvert_exporter": "python",
   "pygments_lexer": "ipython3",
   "version": "3.10.11"
  }
 },
 "nbformat": 4,
 "nbformat_minor": 5
}
