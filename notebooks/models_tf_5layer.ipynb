{
 "cells": [
  {
   "cell_type": "code",
   "execution_count": 1,
   "id": "dce92180-3626-4836-a489-57d7893632c9",
   "metadata": {},
   "outputs": [],
   "source": [
    "import os\n",
    "os.chdir('..')"
   ]
  },
  {
   "cell_type": "code",
   "execution_count": 2,
   "id": "431899f4-c514-41c7-85d9-ac1fbff56106",
   "metadata": {},
   "outputs": [],
   "source": [
    "## it’s mine, my own, \n",
    "from modules.get_data import get_x_y\n",
    "from jh_utils.data.pandas.preprocessing import make_dummies\n",
    "from modules.evaluation import fit_classify, print_2_reports, plot_false_negative_rate"
   ]
  },
  {
   "cell_type": "code",
   "execution_count": 3,
   "id": "c8350f7a-1b6f-41e1-a0ee-8eb81c2063a8",
   "metadata": {},
   "outputs": [],
   "source": [
    "import pandas as pd, numpy as np\n",
    "from sklearn.model_selection import train_test_split\n",
    "from sklearn.preprocessing import StandardScaler, MinMaxScaler\n",
    "## posfit\n",
    "from sklearn.metrics import roc_auc_score, precision_recall_curve, det_curve\n",
    "from sklearn.metrics import RocCurveDisplay, PrecisionRecallDisplay\n",
    "from sklearn.metrics import classification_report,confusion_matrix"
   ]
  },
  {
   "cell_type": "code",
   "execution_count": 4,
   "id": "2d5fe533-6c7e-45c2-951f-c993bf8e13dd",
   "metadata": {},
   "outputs": [
    {
     "name": "stderr",
     "output_type": "stream",
     "text": [
      "2023-07-17 19:07:22.968222: I tensorflow/core/platform/cpu_feature_guard.cc:182] This TensorFlow binary is optimized to use available CPU instructions in performance-critical operations.\n",
      "To enable the following instructions: AVX2 FMA, in other operations, rebuild TensorFlow with the appropriate compiler flags.\n",
      "2023-07-17 19:07:23.585840: W tensorflow/compiler/tf2tensorrt/utils/py_utils.cc:38] TF-TRT Warning: Could not find TensorRT\n"
     ]
    }
   ],
   "source": [
    "import tensorflow as tf\n",
    "from tensorflow.keras.layers import Dense\n",
    "from tensorflow.keras import Sequential"
   ]
  },
  {
   "cell_type": "code",
   "execution_count": 5,
   "id": "e7f090fe-9e98-4700-98ac-8f44764154e2",
   "metadata": {},
   "outputs": [
    {
     "name": "stderr",
     "output_type": "stream",
     "text": [
      "/home/joaoholz/Documents/ufes/trabalho_final/modules/get_data.py:6: DtypeWarning: Columns (3,4,5) have mixed types. Specify dtype option on import or set low_memory=False.\n",
      "  return pd.read_csv(\"asteroides/asteoides.csv\").iloc[:, first_columns:]\n"
     ]
    }
   ],
   "source": [
    "x,y = get_x_y()\n",
    "x_train,x_test,y_train,y_test = train_test_split(x, y, test_size=0.3, stratify=y, random_state=42)\n",
    "scaler = MinMaxScaler()\n",
    "#scaler = StandardScaler()\n",
    "x_train = scaler.fit_transform(x_train)\n",
    "x_test = scaler.transform(x_test)"
   ]
  },
  {
   "cell_type": "code",
   "execution_count": 12,
   "id": "0413fce1-0a4d-40c0-911a-a41679353d85",
   "metadata": {},
   "outputs": [],
   "source": [
    "def declare_model(n_layers=[16,8], loss = \"binary_crossentropy\", optimizer = \"adam\", last_layer_activation = \"sigmoid\"):\n",
    "    tf_model = Sequential()\n",
    "    tf_model.add(Dense(10, activation='relu', input_shape=(38,)))\n",
    "    for i in n_layers:\n",
    "        tf_model.add(Dense(i, activation='relu'))\n",
    "    tf_model.add(Dense(1, activation=last_layer_activation))\n",
    "    tf_model.compile(loss=loss, optimizer=optimizer, metrics = [tf.keras.metrics.Precision(),'accuracy'])\n",
    "    return tf_model"
   ]
  },
  {
   "cell_type": "markdown",
   "id": "9a6624f3-a8ef-4212-b253-9d3da419d862",
   "metadata": {},
   "source": [
    "----"
   ]
  },
  {
   "cell_type": "markdown",
   "id": "ad3a2d07-1413-445d-ac35-2a1a9124cc32",
   "metadata": {},
   "source": [
    "## 5 layer model"
   ]
  },
  {
   "cell_type": "markdown",
   "id": "480dba19-812f-468a-a7db-9114a56451dd",
   "metadata": {},
   "source": [
    "---"
   ]
  },
  {
   "cell_type": "code",
   "execution_count": 28,
   "id": "abcc5c6d-1db4-463f-b3ab-46083fa22252",
   "metadata": {},
   "outputs": [],
   "source": [
    "tf.random.set_seed(2023)\n",
    "tf_model = declare_model([16,16,10])"
   ]
  },
  {
   "cell_type": "code",
   "execution_count": 29,
   "id": "ca54d001-1757-410f-945a-c4c92419721b",
   "metadata": {},
   "outputs": [
    {
     "name": "stdout",
     "output_type": "stream",
     "text": [
      "Model: \"sequential_3\"\n",
      "_________________________________________________________________\n",
      " Layer (type)                Output Shape              Param #   \n",
      "=================================================================\n",
      " dense_13 (Dense)            (None, 10)                390       \n",
      "                                                                 \n",
      " dense_14 (Dense)            (None, 16)                176       \n",
      "                                                                 \n",
      " dense_15 (Dense)            (None, 16)                272       \n",
      "                                                                 \n",
      " dense_16 (Dense)            (None, 10)                170       \n",
      "                                                                 \n",
      " dense_17 (Dense)            (None, 1)                 11        \n",
      "                                                                 \n",
      "=================================================================\n",
      "Total params: 1,019\n",
      "Trainable params: 1,019\n",
      "Non-trainable params: 0\n",
      "_________________________________________________________________\n"
     ]
    }
   ],
   "source": [
    "tf_model.summary()"
   ]
  },
  {
   "cell_type": "code",
   "execution_count": 30,
   "id": "427ffd5b-9464-4869-8712-b0f0ff3726e0",
   "metadata": {},
   "outputs": [
    {
     "data": {
      "text/plain": [
       "1019"
      ]
     },
     "execution_count": 30,
     "metadata": {},
     "output_type": "execute_result"
    }
   ],
   "source": [
    "tf_model.count_params()"
   ]
  },
  {
   "cell_type": "code",
   "execution_count": 31,
   "id": "1dd1c4fe-d073-4859-a5a5-504f725e0a96",
   "metadata": {
    "scrolled": true
   },
   "outputs": [
    {
     "name": "stdout",
     "output_type": "stream",
     "text": [
      "Epoch 1/100\n",
      "5099/5099 [==============================] - 16s 3ms/step - loss: 0.0120 - precision_3: 0.0233 - accuracy: 0.9977\n",
      "Epoch 2/100\n",
      "5099/5099 [==============================] - 15s 3ms/step - loss: 0.0051 - precision_3: 0.0000e+00 - accuracy: 0.9978\n",
      "Epoch 3/100\n",
      "5099/5099 [==============================] - 15s 3ms/step - loss: 0.0048 - precision_3: 0.0000e+00 - accuracy: 0.9978\n",
      "Epoch 4/100\n",
      "5099/5099 [==============================] - 15s 3ms/step - loss: 0.0046 - precision_3: 0.5965 - accuracy: 0.9979\n",
      "Epoch 5/100\n",
      "5099/5099 [==============================] - 15s 3ms/step - loss: 0.0044 - precision_3: 0.5792 - accuracy: 0.9979\n",
      "Epoch 6/100\n",
      "5099/5099 [==============================] - 14s 3ms/step - loss: 0.0043 - precision_3: 0.5631 - accuracy: 0.9979\n",
      "Epoch 7/100\n",
      "5099/5099 [==============================] - 15s 3ms/step - loss: 0.0042 - precision_3: 0.5940 - accuracy: 0.9980\n",
      "Epoch 8/100\n",
      "5099/5099 [==============================] - 15s 3ms/step - loss: 0.0040 - precision_3: 0.5953 - accuracy: 0.9981\n",
      "Epoch 9/100\n",
      "5099/5099 [==============================] - 15s 3ms/step - loss: 0.0039 - precision_3: 0.6064 - accuracy: 0.9981\n",
      "Epoch 10/100\n",
      "5099/5099 [==============================] - 16s 3ms/step - loss: 0.0038 - precision_3: 0.6341 - accuracy: 0.9982\n",
      "Epoch 11/100\n",
      "5099/5099 [==============================] - 16s 3ms/step - loss: 0.0037 - precision_3: 0.6368 - accuracy: 0.9983\n",
      "Epoch 12/100\n",
      "5099/5099 [==============================] - 16s 3ms/step - loss: 0.0036 - precision_3: 0.6273 - accuracy: 0.9982\n",
      "Epoch 13/100\n",
      "5099/5099 [==============================] - 16s 3ms/step - loss: 0.0035 - precision_3: 0.6598 - accuracy: 0.9984\n",
      "Epoch 14/100\n",
      "5099/5099 [==============================] - 17s 3ms/step - loss: 0.0034 - precision_3: 0.6705 - accuracy: 0.9984\n",
      "Epoch 15/100\n",
      "5099/5099 [==============================] - 16s 3ms/step - loss: 0.0033 - precision_3: 0.6699 - accuracy: 0.9984\n",
      "Epoch 16/100\n",
      "5099/5099 [==============================] - 16s 3ms/step - loss: 0.0032 - precision_3: 0.6787 - accuracy: 0.9985\n",
      "Epoch 17/100\n",
      "5099/5099 [==============================] - 15s 3ms/step - loss: 0.0031 - precision_3: 0.6940 - accuracy: 0.9985\n",
      "Epoch 18/100\n",
      "5099/5099 [==============================] - 16s 3ms/step - loss: 0.0031 - precision_3: 0.6973 - accuracy: 0.9986\n",
      "Epoch 19/100\n",
      "5099/5099 [==============================] - 16s 3ms/step - loss: 0.0030 - precision_3: 0.6989 - accuracy: 0.9986\n",
      "Epoch 20/100\n",
      "5099/5099 [==============================] - 19s 4ms/step - loss: 0.0029 - precision_3: 0.7180 - accuracy: 0.9987\n",
      "Epoch 21/100\n",
      "5099/5099 [==============================] - 18s 4ms/step - loss: 0.0028 - precision_3: 0.7353 - accuracy: 0.9987\n",
      "Epoch 22/100\n",
      "5099/5099 [==============================] - 15s 3ms/step - loss: 0.0027 - precision_3: 0.7363 - accuracy: 0.9987\n",
      "Epoch 23/100\n",
      "5099/5099 [==============================] - 15s 3ms/step - loss: 0.0027 - precision_3: 0.7538 - accuracy: 0.9988\n",
      "Epoch 24/100\n",
      "5099/5099 [==============================] - 14s 3ms/step - loss: 0.0026 - precision_3: 0.7706 - accuracy: 0.9989\n",
      "Epoch 25/100\n",
      "5099/5099 [==============================] - 14s 3ms/step - loss: 0.0025 - precision_3: 0.7601 - accuracy: 0.9989\n",
      "Epoch 26/100\n",
      "5099/5099 [==============================] - 14s 3ms/step - loss: 0.0024 - precision_3: 0.7738 - accuracy: 0.9989\n",
      "Epoch 27/100\n",
      "5099/5099 [==============================] - 14s 3ms/step - loss: 0.0024 - precision_3: 0.7798 - accuracy: 0.9989\n",
      "Epoch 28/100\n",
      "5099/5099 [==============================] - 15s 3ms/step - loss: 0.0022 - precision_3: 0.7889 - accuracy: 0.9990\n",
      "Epoch 29/100\n",
      "5099/5099 [==============================] - 15s 3ms/step - loss: 0.0022 - precision_3: 0.7991 - accuracy: 0.9991\n",
      "Epoch 30/100\n",
      "5099/5099 [==============================] - 14s 3ms/step - loss: 0.0021 - precision_3: 0.8130 - accuracy: 0.9991\n",
      "Epoch 31/100\n",
      "5099/5099 [==============================] - 14s 3ms/step - loss: 0.0021 - precision_3: 0.8061 - accuracy: 0.9991\n",
      "Epoch 32/100\n",
      "5099/5099 [==============================] - 14s 3ms/step - loss: 0.0020 - precision_3: 0.8221 - accuracy: 0.9991\n",
      "Epoch 33/100\n",
      "5099/5099 [==============================] - 14s 3ms/step - loss: 0.0019 - precision_3: 0.8341 - accuracy: 0.9992\n",
      "Epoch 34/100\n",
      "5099/5099 [==============================] - 14s 3ms/step - loss: 0.0020 - precision_3: 0.8192 - accuracy: 0.9991\n",
      "Epoch 35/100\n",
      "5099/5099 [==============================] - 15s 3ms/step - loss: 0.0019 - precision_3: 0.8185 - accuracy: 0.9992\n",
      "Epoch 36/100\n",
      "5099/5099 [==============================] - 14s 3ms/step - loss: 0.0019 - precision_3: 0.8236 - accuracy: 0.9992\n",
      "Epoch 37/100\n",
      "5099/5099 [==============================] - 14s 3ms/step - loss: 0.0018 - precision_3: 0.8484 - accuracy: 0.9993\n",
      "Epoch 38/100\n",
      "5099/5099 [==============================] - 14s 3ms/step - loss: 0.0018 - precision_3: 0.8477 - accuracy: 0.9992\n",
      "Epoch 39/100\n",
      "5099/5099 [==============================] - 14s 3ms/step - loss: 0.0018 - precision_3: 0.8338 - accuracy: 0.9992\n",
      "Epoch 40/100\n",
      "5099/5099 [==============================] - 14s 3ms/step - loss: 0.0017 - precision_3: 0.8322 - accuracy: 0.9992\n",
      "Epoch 41/100\n",
      "5099/5099 [==============================] - 14s 3ms/step - loss: 0.0018 - precision_3: 0.8357 - accuracy: 0.9992\n",
      "Epoch 42/100\n",
      "5099/5099 [==============================] - 14s 3ms/step - loss: 0.0017 - precision_3: 0.8342 - accuracy: 0.9992\n",
      "Epoch 43/100\n",
      "5099/5099 [==============================] - 14s 3ms/step - loss: 0.0018 - precision_3: 0.8290 - accuracy: 0.9992\n",
      "Epoch 44/100\n",
      "5099/5099 [==============================] - 14s 3ms/step - loss: 0.0018 - precision_3: 0.8393 - accuracy: 0.9992\n",
      "Epoch 45/100\n",
      "5099/5099 [==============================] - 14s 3ms/step - loss: 0.0017 - precision_3: 0.8403 - accuracy: 0.9992\n",
      "Epoch 46/100\n",
      "5099/5099 [==============================] - 14s 3ms/step - loss: 0.0017 - precision_3: 0.8524 - accuracy: 0.9993\n",
      "Epoch 47/100\n",
      "5099/5099 [==============================] - 14s 3ms/step - loss: 0.0017 - precision_3: 0.8411 - accuracy: 0.9993\n",
      "Epoch 48/100\n",
      "5099/5099 [==============================] - 14s 3ms/step - loss: 0.0017 - precision_3: 0.8467 - accuracy: 0.9993\n",
      "Epoch 49/100\n",
      "5099/5099 [==============================] - 14s 3ms/step - loss: 0.0017 - precision_3: 0.8345 - accuracy: 0.9993\n",
      "Epoch 50/100\n",
      "5099/5099 [==============================] - 14s 3ms/step - loss: 0.0017 - precision_3: 0.8315 - accuracy: 0.9993\n",
      "Epoch 51/100\n",
      "5099/5099 [==============================] - 15s 3ms/step - loss: 0.0016 - precision_3: 0.8621 - accuracy: 0.9993\n",
      "Epoch 52/100\n",
      "5099/5099 [==============================] - 14s 3ms/step - loss: 0.0016 - precision_3: 0.8398 - accuracy: 0.9993\n",
      "Epoch 53/100\n",
      "5099/5099 [==============================] - 14s 3ms/step - loss: 0.0016 - precision_3: 0.8560 - accuracy: 0.9993\n",
      "Epoch 54/100\n",
      "5099/5099 [==============================] - 14s 3ms/step - loss: 0.0016 - precision_3: 0.8540 - accuracy: 0.9993\n",
      "Epoch 55/100\n",
      "5099/5099 [==============================] - 14s 3ms/step - loss: 0.0016 - precision_3: 0.8602 - accuracy: 0.9993\n",
      "Epoch 56/100\n",
      "5099/5099 [==============================] - 15s 3ms/step - loss: 0.0016 - precision_3: 0.8533 - accuracy: 0.9993\n",
      "Epoch 57/100\n",
      "5099/5099 [==============================] - 14s 3ms/step - loss: 0.0016 - precision_3: 0.8591 - accuracy: 0.9994\n",
      "Epoch 58/100\n",
      "5099/5099 [==============================] - 14s 3ms/step - loss: 0.0016 - precision_3: 0.8437 - accuracy: 0.9993\n",
      "Epoch 59/100\n",
      "5099/5099 [==============================] - 14s 3ms/step - loss: 0.0015 - precision_3: 0.8678 - accuracy: 0.9994\n",
      "Epoch 60/100\n",
      "5099/5099 [==============================] - 14s 3ms/step - loss: 0.0015 - precision_3: 0.8546 - accuracy: 0.9993\n",
      "Epoch 61/100\n",
      "5099/5099 [==============================] - 14s 3ms/step - loss: 0.0015 - precision_3: 0.8621 - accuracy: 0.9993\n",
      "Epoch 62/100\n",
      "5099/5099 [==============================] - 14s 3ms/step - loss: 0.0014 - precision_3: 0.8691 - accuracy: 0.9994\n",
      "Epoch 63/100\n",
      "5099/5099 [==============================] - 14s 3ms/step - loss: 0.0015 - precision_3: 0.8740 - accuracy: 0.9994\n",
      "Epoch 64/100\n",
      "5099/5099 [==============================] - 14s 3ms/step - loss: 0.0015 - precision_3: 0.8741 - accuracy: 0.9994\n",
      "Epoch 65/100\n",
      "5099/5099 [==============================] - 14s 3ms/step - loss: 0.0015 - precision_3: 0.8636 - accuracy: 0.9994\n",
      "Epoch 66/100\n",
      "5099/5099 [==============================] - 14s 3ms/step - loss: 0.0015 - precision_3: 0.8509 - accuracy: 0.9993\n",
      "Epoch 67/100\n",
      "5099/5099 [==============================] - 14s 3ms/step - loss: 0.0015 - precision_3: 0.8641 - accuracy: 0.9994\n",
      "Epoch 68/100\n",
      "5099/5099 [==============================] - 14s 3ms/step - loss: 0.0015 - precision_3: 0.8677 - accuracy: 0.9994\n",
      "Epoch 69/100\n",
      "5099/5099 [==============================] - 14s 3ms/step - loss: 0.0015 - precision_3: 0.8679 - accuracy: 0.9994\n",
      "Epoch 70/100\n",
      "5099/5099 [==============================] - 14s 3ms/step - loss: 0.0014 - precision_3: 0.8932 - accuracy: 0.9994\n",
      "Epoch 71/100\n",
      "5099/5099 [==============================] - 14s 3ms/step - loss: 0.0014 - precision_3: 0.8709 - accuracy: 0.9994\n",
      "Epoch 72/100\n",
      "5099/5099 [==============================] - 14s 3ms/step - loss: 0.0014 - precision_3: 0.8728 - accuracy: 0.9994\n",
      "Epoch 73/100\n",
      "5099/5099 [==============================] - 14s 3ms/step - loss: 0.0013 - precision_3: 0.8741 - accuracy: 0.9994\n",
      "Epoch 74/100\n",
      "5099/5099 [==============================] - 14s 3ms/step - loss: 0.0013 - precision_3: 0.8771 - accuracy: 0.9994\n",
      "Epoch 75/100\n",
      "5099/5099 [==============================] - 14s 3ms/step - loss: 0.0013 - precision_3: 0.8645 - accuracy: 0.9994\n",
      "Epoch 76/100\n",
      "5099/5099 [==============================] - 14s 3ms/step - loss: 0.0013 - precision_3: 0.8677 - accuracy: 0.9994\n",
      "Epoch 77/100\n",
      "5099/5099 [==============================] - 14s 3ms/step - loss: 0.0014 - precision_3: 0.8854 - accuracy: 0.9995\n",
      "Epoch 78/100\n",
      "5099/5099 [==============================] - 14s 3ms/step - loss: 0.0013 - precision_3: 0.8875 - accuracy: 0.9995\n",
      "Epoch 79/100\n",
      "5099/5099 [==============================] - 14s 3ms/step - loss: 0.0014 - precision_3: 0.8650 - accuracy: 0.9994\n",
      "Epoch 80/100\n",
      "5099/5099 [==============================] - 14s 3ms/step - loss: 0.0013 - precision_3: 0.8886 - accuracy: 0.9994\n",
      "Epoch 81/100\n",
      "5099/5099 [==============================] - 14s 3ms/step - loss: 0.0013 - precision_3: 0.8817 - accuracy: 0.9994\n",
      "Epoch 82/100\n",
      "5099/5099 [==============================] - 14s 3ms/step - loss: 0.0014 - precision_3: 0.8740 - accuracy: 0.9994\n",
      "Epoch 83/100\n",
      "5099/5099 [==============================] - 14s 3ms/step - loss: 0.0013 - precision_3: 0.8731 - accuracy: 0.9994\n",
      "Epoch 84/100\n",
      "5099/5099 [==============================] - 14s 3ms/step - loss: 0.0013 - precision_3: 0.8742 - accuracy: 0.9994\n",
      "Epoch 85/100\n",
      "5099/5099 [==============================] - 14s 3ms/step - loss: 0.0013 - precision_3: 0.8776 - accuracy: 0.9994\n",
      "Epoch 86/100\n",
      "5099/5099 [==============================] - 14s 3ms/step - loss: 0.0014 - precision_3: 0.8605 - accuracy: 0.9994\n",
      "Epoch 87/100\n",
      "5099/5099 [==============================] - 14s 3ms/step - loss: 0.0013 - precision_3: 0.8875 - accuracy: 0.9995\n",
      "Epoch 88/100\n",
      "5099/5099 [==============================] - 14s 3ms/step - loss: 0.0012 - precision_3: 0.8906 - accuracy: 0.9995\n",
      "Epoch 89/100\n",
      "5099/5099 [==============================] - 14s 3ms/step - loss: 0.0013 - precision_3: 0.8752 - accuracy: 0.9994\n",
      "Epoch 90/100\n",
      "5099/5099 [==============================] - 14s 3ms/step - loss: 0.0013 - precision_3: 0.8857 - accuracy: 0.9995\n",
      "Epoch 91/100\n",
      "5099/5099 [==============================] - 14s 3ms/step - loss: 0.0013 - precision_3: 0.8778 - accuracy: 0.9994\n",
      "Epoch 92/100\n",
      "5099/5099 [==============================] - 14s 3ms/step - loss: 0.0013 - precision_3: 0.8778 - accuracy: 0.9995\n",
      "Epoch 93/100\n",
      "5099/5099 [==============================] - 14s 3ms/step - loss: 0.0013 - precision_3: 0.8785 - accuracy: 0.9995\n",
      "Epoch 94/100\n",
      "5099/5099 [==============================] - 14s 3ms/step - loss: 0.0013 - precision_3: 0.8931 - accuracy: 0.9995\n",
      "Epoch 95/100\n",
      "5099/5099 [==============================] - 14s 3ms/step - loss: 0.0013 - precision_3: 0.8887 - accuracy: 0.9995\n",
      "Epoch 96/100\n",
      "5099/5099 [==============================] - 14s 3ms/step - loss: 0.0013 - precision_3: 0.8935 - accuracy: 0.9995\n",
      "Epoch 97/100\n",
      "5099/5099 [==============================] - 14s 3ms/step - loss: 0.0012 - precision_3: 0.8850 - accuracy: 0.9995\n",
      "Epoch 98/100\n",
      "5099/5099 [==============================] - 14s 3ms/step - loss: 0.0012 - precision_3: 0.8830 - accuracy: 0.9995\n",
      "Epoch 99/100\n",
      "5099/5099 [==============================] - 14s 3ms/step - loss: 0.0012 - precision_3: 0.8869 - accuracy: 0.9995\n",
      "Epoch 100/100\n",
      "5099/5099 [==============================] - 14s 3ms/step - loss: 0.0012 - precision_3: 0.8933 - accuracy: 0.9995\n"
     ]
    },
    {
     "data": {
      "text/plain": [
       "<keras.callbacks.History at 0x7f5cb95349a0>"
      ]
     },
     "execution_count": 31,
     "metadata": {},
     "output_type": "execute_result"
    }
   ],
   "source": [
    "tf_model.fit(x_train,y_train, epochs=100, batch_size=128, verbose=1)"
   ]
  },
  {
   "cell_type": "code",
   "execution_count": 32,
   "id": "720b71fb-a1e9-4dd1-aa54-19c6c1d2ee27",
   "metadata": {},
   "outputs": [
    {
     "name": "stdout",
     "output_type": "stream",
     "text": [
      "8741/8741 [==============================] - 8s 878us/step\n"
     ]
    }
   ],
   "source": [
    "y_prob = tf_model.predict(x_test)"
   ]
  },
  {
   "cell_type": "code",
   "execution_count": 33,
   "id": "5c178daa-7cf4-4be4-bda9-7d3250c3c6cf",
   "metadata": {},
   "outputs": [
    {
     "data": {
      "image/png": "[encoded data removed]",
      "text/plain": [
       "<Figure size 640x480 with 1 Axes>"
      ]
     },
     "metadata": {},
     "output_type": "display_data"
    }
   ],
   "source": [
    "plot_false_negative_rate(y_test,y_prob)"
   ]
  },
  {
   "cell_type": "code",
   "execution_count": 34,
   "id": "3304a792-bd31-46d5-b03d-7ddb3dbdc663",
   "metadata": {},
   "outputs": [
    {
     "name": "stdout",
     "output_type": "stream",
     "text": [
      "              precision    recall  f1-score   support\n",
      "\n",
      "           0       1.00      1.00      1.00    279081\n",
      "           1       0.88      0.96      0.92       620\n",
      "\n",
      "    accuracy                           1.00    279701\n",
      "   macro avg       0.94      0.98      0.96    279701\n",
      "weighted avg       1.00      1.00      1.00    279701\n",
      "\n",
      "        N    Y\n",
      "N  279002   79\n",
      "Y      25  595\n",
      "              precision    recall  f1-score   support\n",
      "\n",
      "           0       1.00      1.00      1.00    279081\n",
      "           1       0.77      1.00      0.87       620\n",
      "\n",
      "    accuracy                           1.00    279701\n",
      "   macro avg       0.88      1.00      0.93    279701\n",
      "weighted avg       1.00      1.00      1.00    279701\n",
      "\n",
      "        N    Y\n",
      "N  278895  186\n",
      "Y       3  617\n"
     ]
    }
   ],
   "source": [
    "y_pred = list(map(lambda x: x>0.5, y_prob))\n",
    "print_2_reports(y_test,y_pred)\n",
    "\n",
    "y_pred = list(map(lambda x: x>0.25, y_prob))\n",
    "print_2_reports(y_test,y_pred)"
   ]
  },
  {
   "cell_type": "code",
   "execution_count": 35,
   "id": "921bfbc9-9d1a-46e6-b401-a58dc6183362",
   "metadata": {},
   "outputs": [
    {
     "name": "stdout",
     "output_type": "stream",
     "text": [
      "              precision    recall  f1-score   support\n",
      "\n",
      "           0       1.00      1.00      1.00    279081\n",
      "           1       0.70      1.00      0.83       620\n",
      "\n",
      "    accuracy                           1.00    279701\n",
      "   macro avg       0.85      1.00      0.91    279701\n",
      "weighted avg       1.00      1.00      1.00    279701\n",
      "\n",
      "        N    Y\n",
      "N  278819  262\n",
      "Y       0  620\n",
      "              precision    recall  f1-score   support\n",
      "\n",
      "           0       1.00      1.00      1.00    279081\n",
      "           1       0.61      1.00      0.76       620\n",
      "\n",
      "    accuracy                           1.00    279701\n",
      "   macro avg       0.80      1.00      0.88    279701\n",
      "weighted avg       1.00      1.00      1.00    279701\n",
      "\n",
      "        N    Y\n",
      "N  278679  402\n",
      "Y       0  620\n"
     ]
    }
   ],
   "source": [
    "y_pred = list(map(lambda x: x>0.15, y_prob))\n",
    "print_2_reports(y_test,y_pred)\n",
    "\n",
    "y_pred = list(map(lambda x: x>0.05, y_prob))\n",
    "print_2_reports(y_test,y_pred)"
   ]
  },
  {
   "cell_type": "code",
   "execution_count": 36,
   "id": "08bb5d34-b028-4d43-990a-b772b0ac76ca",
   "metadata": {},
   "outputs": [],
   "source": [
    "tf_model.save_weights('models/tf_model_5layers')"
   ]
  },
  {
   "cell_type": "code",
   "execution_count": null,
   "id": "ebb567a5-d5ad-48a7-a01c-919a3f8772e1",
   "metadata": {},
   "outputs": [],
   "source": []
  }
 ],
 "metadata": {
  "kernelspec": {
   "display_name": "Python 3 (ipykernel)",
   "language": "python",
   "name": "python3"
  },
  "language_info": {
   "codemirror_mode": {
    "name": "ipython",
    "version": 3
   },
   "file_extension": ".py",
   "mimetype": "text/x-python",
   "name": "python",
   "nbconvert_exporter": "python",
   "pygments_lexer": "ipython3",
   "version": "3.10.11"
  }
 },
 "nbformat": 4,
 "nbformat_minor": 5
}
