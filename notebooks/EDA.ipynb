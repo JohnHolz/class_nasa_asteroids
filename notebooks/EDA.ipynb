{
 "cells": [
  {
   "cell_type": "code",
   "execution_count": 2,
   "id": "45a39967-f8df-4f47-8bbc-8a7f2884b69d",
   "metadata": {},
   "outputs": [],
   "source": [
    "import os\n",
    "os.chdir('..')\n",
    "import pandas as pd, numpy as np\n",
    "from jh_utils.data.pandas.preprocessing import make_dummies\n",
    "from modules.get_data import get_x_y,get_x_y_test"
   ]
  },
  {
   "cell_type": "code",
   "execution_count": null,
   "id": "df113448-4a49-4e44-83ce-a1c17784d0bb",
   "metadata": {},
   "outputs": [],
   "source": []
  }
 ],
 "metadata": {
  "kernelspec": {
   "display_name": "Python 3 (ipykernel)",
   "language": "python",
   "name": "python3"
  },
  "language_info": {
   "codemirror_mode": {
    "name": "ipython",
    "version": 3
   },
   "file_extension": ".py",
   "mimetype": "text/x-python",
   "name": "python",
   "nbconvert_exporter": "python",
   "pygments_lexer": "ipython3",
   "version": "3.10.11"
  }
 },
 "nbformat": 4,
 "nbformat_minor": 5
}
