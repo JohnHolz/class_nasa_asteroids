{
 "cells": [
  {
   "cell_type": "code",
   "execution_count": 1,
   "id": "67e45086-ae3d-4a0d-adec-a00f0fa7acea",
   "metadata": {},
   "outputs": [],
   "source": [
    "import os\n",
    "os.chdir('..')"
   ]
  },
  {
   "cell_type": "code",
   "execution_count": 2,
   "id": "faebd18f-f098-4764-b67c-e2751412cf92",
   "metadata": {},
   "outputs": [
    {
     "name": "stderr",
     "output_type": "stream",
     "text": [
      "2023-07-17 22:50:43.792878: I tensorflow/core/platform/cpu_feature_guard.cc:182] This TensorFlow binary is optimized to use available CPU instructions in performance-critical operations.\n",
      "To enable the following instructions: AVX2 FMA, in other operations, rebuild TensorFlow with the appropriate compiler flags.\n",
      "2023-07-17 22:50:44.497556: W tensorflow/compiler/tf2tensorrt/utils/py_utils.cc:38] TF-TRT Warning: Could not find TensorRT\n"
     ]
    }
   ],
   "source": [
    "## it’s mine, my own, \n",
    "from modules.get_data import get_x_y\n",
    "from jh_utils.data.pandas.preprocessing import make_dummies\n",
    "from modules.evaluation import fit_classify, print_2_reports, plot_false_negative_rate\n",
    "from modules.models import multi_layer_model "
   ]
  },
  {
   "cell_type": "code",
   "execution_count": 3,
   "id": "fee69409-0ff7-499e-aeb8-cd7d2f82013e",
   "metadata": {},
   "outputs": [],
   "source": [
    "import pandas as pd, numpy as np\n",
    "from sklearn.model_selection import train_test_split\n",
    "from sklearn.preprocessing import StandardScaler, MinMaxScaler\n",
    "from sklearn.model_selection import KFold, StratifiedKFold\n",
    "## posfit\n",
    "from sklearn.metrics import roc_auc_score, precision_recall_curve, det_curve\n",
    "from sklearn.metrics import RocCurveDisplay, PrecisionRecallDisplay\n",
    "from sklearn.metrics import classification_report,confusion_matrix"
   ]
  },
  {
   "cell_type": "code",
   "execution_count": 4,
   "id": "29a26413-5973-498f-9b3d-4a7953ed0b76",
   "metadata": {},
   "outputs": [],
   "source": [
    "## models\n",
    "from sklearn.ensemble import AdaBoostClassifier, RandomForestClassifier\n",
    "import tensorflow as tf\n",
    "from tensorflow.keras.layers import Dense\n",
    "from tensorflow.keras import Sequential"
   ]
  },
  {
   "cell_type": "markdown",
   "id": "0838df0b-5b91-48e3-b2b8-2cb4fb48f74a",
   "metadata": {},
   "source": [
    "---"
   ]
  },
  {
   "cell_type": "code",
   "execution_count": 5,
   "id": "d1e6e1fe-d4cd-45cd-a4e1-7d91fa710a57",
   "metadata": {},
   "outputs": [],
   "source": [
    "kfold = StratifiedKFold(n_splits=10,random_state=42,shuffle=True)"
   ]
  },
  {
   "cell_type": "code",
   "execution_count": 6,
   "id": "a99e0756-417c-4a15-a201-f003242f114f",
   "metadata": {},
   "outputs": [
    {
     "name": "stderr",
     "output_type": "stream",
     "text": [
      "/home/joaoholz/Documents/ufes/trabalho_final/modules/get_data.py:6: DtypeWarning: Columns (3,4,5) have mixed types. Specify dtype option on import or set low_memory=False.\n",
      "  return pd.read_csv(\"asteroides/asteoides.csv\").iloc[:, first_columns:]\n"
     ]
    }
   ],
   "source": [
    "x,y = get_x_y()"
   ]
  },
  {
   "cell_type": "code",
   "execution_count": 9,
   "id": "959acd29-275f-4c54-ad29-607a7ec2949c",
   "metadata": {},
   "outputs": [],
   "source": [
    "def notes(thr, y_prob, y_test):\n",
    "    y_pred = list(map(lambda x: x > thr, y_prob))\n",
    "    cm = confusion_matrix(y_test, y_pred)\n",
    "    nota = [cm[1,0],sum(cm[1,:]), thr]\n",
    "    return nota\n",
    "\n",
    "\n",
    "def run_3_models(i):\n",
    "    x_train, x_test = x.iloc[i[0]], x.iloc[i[1]]\n",
    "    y_train, y_test = y.iloc[i[0]], y.iloc[i[1]]\n",
    "    \n",
    "    # ### ada\n",
    "    # ada = AdaBoostClassifier()\n",
    "    # ada.fit(x_train, y_train)\n",
    "    # y_prob = ada.predict_proba(x_test)[:,1]\n",
    "    # save.append(notes(thr=0.5, y_prob=y_prob, y_test = y_test)+['ADA'])\n",
    "    # save.append(notes(thr=0.05, y_prob=y_prob, y_test = y_test)+['ADA'])\n",
    "    \n",
    "    # ### rf\n",
    "    # rf = RandomForestClassifier(50)\n",
    "    # rf.fit(x_train, y_train)\n",
    "    # y_prob = rf.predict_proba(x_test)[:,1]\n",
    "    # save.append(notes(thr=0.5, y_prob=y_prob, y_test = y_test)+['RF'])\n",
    "    # save.append(notes(thr=0.05, y_prob=y_prob, y_test = y_test)+['RF'])\n",
    "\n",
    "    ### tf\n",
    "    tf = multi_layer_model([16,16,10])\n",
    "    tf.fit(x_train, y_train, epochs=50, batch_size=128, verbose=0)\n",
    "    y_prob = tf.predict(x_test)\n",
    "    save.append(notes(thr=0.5, y_prob=y_prob, y_test = y_test)+['TF'])\n",
    "    save.append(notes(thr=0.05,y_prob=y_prob, y_test = y_test)+['TF'])"
   ]
  },
  {
   "cell_type": "code",
   "execution_count": 9,
   "id": "d1377af2-6ed8-4e18-8345-bd6c6cc077f5",
   "metadata": {},
   "outputs": [
    {
     "name": "stderr",
     "output_type": "stream",
     "text": [
      "2023-07-17 22:51:42.879218: I tensorflow/compiler/xla/stream_executor/cuda/cuda_gpu_executor.cc:996] successful NUMA node read from SysFS had negative value (-1), but there must be at least one NUMA node, so returning NUMA node zero. See more at https://github.com/torvalds/linux/blob/v6.0/Documentation/ABI/testing/sysfs-bus-pci#L344-L355\n",
      "2023-07-17 22:51:42.902219: I tensorflow/compiler/xla/stream_executor/cuda/cuda_gpu_executor.cc:996] successful NUMA node read from SysFS had negative value (-1), but there must be at least one NUMA node, so returning NUMA node zero. See more at https://github.com/torvalds/linux/blob/v6.0/Documentation/ABI/testing/sysfs-bus-pci#L344-L355\n",
      "2023-07-17 22:51:42.902448: I tensorflow/compiler/xla/stream_executor/cuda/cuda_gpu_executor.cc:996] successful NUMA node read from SysFS had negative value (-1), but there must be at least one NUMA node, so returning NUMA node zero. See more at https://github.com/torvalds/linux/blob/v6.0/Documentation/ABI/testing/sysfs-bus-pci#L344-L355\n",
      "2023-07-17 22:51:42.903764: I tensorflow/compiler/xla/stream_executor/cuda/cuda_gpu_executor.cc:996] successful NUMA node read from SysFS had negative value (-1), but there must be at least one NUMA node, so returning NUMA node zero. See more at https://github.com/torvalds/linux/blob/v6.0/Documentation/ABI/testing/sysfs-bus-pci#L344-L355\n",
      "2023-07-17 22:51:42.904178: I tensorflow/compiler/xla/stream_executor/cuda/cuda_gpu_executor.cc:996] successful NUMA node read from SysFS had negative value (-1), but there must be at least one NUMA node, so returning NUMA node zero. See more at https://github.com/torvalds/linux/blob/v6.0/Documentation/ABI/testing/sysfs-bus-pci#L344-L355\n",
      "2023-07-17 22:51:42.904356: I tensorflow/compiler/xla/stream_executor/cuda/cuda_gpu_executor.cc:996] successful NUMA node read from SysFS had negative value (-1), but there must be at least one NUMA node, so returning NUMA node zero. See more at https://github.com/torvalds/linux/blob/v6.0/Documentation/ABI/testing/sysfs-bus-pci#L344-L355\n",
      "2023-07-17 22:51:42.997716: I tensorflow/compiler/xla/stream_executor/cuda/cuda_gpu_executor.cc:996] successful NUMA node read from SysFS had negative value (-1), but there must be at least one NUMA node, so returning NUMA node zero. See more at https://github.com/torvalds/linux/blob/v6.0/Documentation/ABI/testing/sysfs-bus-pci#L344-L355\n",
      "2023-07-17 22:51:42.997927: I tensorflow/compiler/xla/stream_executor/cuda/cuda_gpu_executor.cc:996] successful NUMA node read from SysFS had negative value (-1), but there must be at least one NUMA node, so returning NUMA node zero. See more at https://github.com/torvalds/linux/blob/v6.0/Documentation/ABI/testing/sysfs-bus-pci#L344-L355\n",
      "2023-07-17 22:51:42.998079: I tensorflow/compiler/xla/stream_executor/cuda/cuda_gpu_executor.cc:996] successful NUMA node read from SysFS had negative value (-1), but there must be at least one NUMA node, so returning NUMA node zero. See more at https://github.com/torvalds/linux/blob/v6.0/Documentation/ABI/testing/sysfs-bus-pci#L344-L355\n",
      "2023-07-17 22:51:42.998194: I tensorflow/core/common_runtime/gpu/gpu_device.cc:1635] Created device /job:localhost/replica:0/task:0/device:GPU:0 with 4398 MB memory:  -> device: 0, name: NVIDIA GeForce RTX 2060, pci bus id: 0000:01:00.0, compute capability: 7.5\n"
     ]
    },
    {
     "name": "stdout",
     "output_type": "stream",
     "text": [
      "Epoch 1/15\n"
     ]
    },
    {
     "name": "stderr",
     "output_type": "stream",
     "text": [
      "2023-07-17 22:51:43.995138: I tensorflow/compiler/xla/service/service.cc:169] XLA service 0x7ffa243957b0 initialized for platform CUDA (this does not guarantee that XLA will be used). Devices:\n",
      "2023-07-17 22:51:43.995162: I tensorflow/compiler/xla/service/service.cc:177]   StreamExecutor device (0): NVIDIA GeForce RTX 2060, Compute Capability 7.5\n",
      "2023-07-17 22:51:43.999113: I tensorflow/compiler/mlir/tensorflow/utils/dump_mlir_util.cc:269] disabling MLIR crash reproducer, set env var `MLIR_CRASH_REPRODUCER_DIRECTORY` to enable.\n",
      "2023-07-17 22:51:44.013228: I tensorflow/compiler/xla/stream_executor/cuda/cuda_dnn.cc:424] Loaded cuDNN version 8902\n",
      "2023-07-17 22:51:44.077790: I tensorflow/tsl/platform/default/subprocess.cc:304] Start cannot spawn child process: No such file or directory\n",
      "2023-07-17 22:51:44.133730: I ./tensorflow/compiler/jit/device_compiler.h:180] Compiled cluster using XLA!  This line is logged at most once for the lifetime of the process.\n"
     ]
    },
    {
     "name": "stdout",
     "output_type": "stream",
     "text": [
      "6556/6556 [==============================] - 20s 3ms/step - loss: 0.0138 - precision: 0.0019 - accuracy: 0.9959\n",
      "Epoch 2/15\n",
      "6556/6556 [==============================] - 18s 3ms/step - loss: 0.0052 - precision: 0.0000e+00 - accuracy: 0.9978\n",
      "Epoch 3/15\n",
      "6556/6556 [==============================] - 18s 3ms/step - loss: 0.0048 - precision: 0.0000e+00 - accuracy: 0.9978\n",
      "Epoch 4/15\n",
      "6556/6556 [==============================] - 17s 3ms/step - loss: 0.0047 - precision: 0.0000e+00 - accuracy: 0.9978\n",
      "Epoch 5/15\n",
      "6556/6556 [==============================] - 19s 3ms/step - loss: 0.0046 - precision: 0.0000e+00 - accuracy: 0.9978\n",
      "Epoch 6/15\n",
      "6556/6556 [==============================] - 19s 3ms/step - loss: 0.0044 - precision: 0.4762 - accuracy: 0.9978\n",
      "Epoch 7/15\n",
      "6556/6556 [==============================] - 18s 3ms/step - loss: 0.0043 - precision: 0.5738 - accuracy: 0.9979\n",
      "Epoch 8/15\n",
      "6556/6556 [==============================] - 18s 3ms/step - loss: 0.0041 - precision: 0.6092 - accuracy: 0.9980\n",
      "Epoch 9/15\n",
      "6556/6556 [==============================] - 19s 3ms/step - loss: 0.0040 - precision: 0.6071 - accuracy: 0.9981\n",
      "Epoch 10/15\n",
      "6556/6556 [==============================] - 18s 3ms/step - loss: 0.0038 - precision: 0.6066 - accuracy: 0.9982\n",
      "Epoch 11/15\n",
      "6556/6556 [==============================] - 19s 3ms/step - loss: 0.0037 - precision: 0.6300 - accuracy: 0.9982\n",
      "Epoch 12/15\n",
      "6556/6556 [==============================] - 17s 3ms/step - loss: 0.0036 - precision: 0.6458 - accuracy: 0.9983\n",
      "Epoch 13/15\n",
      "6556/6556 [==============================] - 18s 3ms/step - loss: 0.0034 - precision: 0.6632 - accuracy: 0.9984\n",
      "Epoch 14/15\n",
      "6556/6556 [==============================] - 19s 3ms/step - loss: 0.0032 - precision: 0.6947 - accuracy: 0.9985\n",
      "Epoch 15/15\n",
      "6556/6556 [==============================] - 18s 3ms/step - loss: 0.0029 - precision: 0.7232 - accuracy: 0.9987\n",
      "2914/2914 [==============================] - 3s 893us/step\n",
      "0\n"
     ]
    }
   ],
   "source": [
    "save = []\n",
    "n_splits = 10\n",
    "kfold = StratifiedKFold(n_splits=10,random_state=42,shuffle=True)\n",
    "for i in kfold.split(x,y):\n",
    "    scaler = MinMaxScaler()\n",
    "    x_train, x_test = x.iloc[i[0]].to_numpy(), x.iloc[i[1]].to_numpy()\n",
    "    y_train, y_test = y.iloc[i[0]].to_numpy()[:,0], y.iloc[i[1]].to_numpy()[:,0]\n",
    "\n",
    "    x_train = scaler.fit_transform(x_train)\n",
    "    x_test = scaler.transform(x_test)\n",
    "    \n",
    "    model = multi_layer_model([16,16,10])\n",
    "    model.fit(x_train, y_train, epochs=15, batch_size=128, verbose=1)\n",
    "    y_prob = model.predict(x_test)\n",
    "    thr = 0.05\n",
    "    y_pred = list(map(lambda x: x > thr, y_prob))\n",
    "    cm = confusion_matrix(y_test, y_pred)\n",
    "    nota = [cm[1,0],sum(cm[1,:]), thr]\n",
    "    print('0')\n",
    "    break"
   ]
  },
  {
   "cell_type": "code",
   "execution_count": 10,
   "id": "10f1596f-d49d-4d3f-acd8-46b425b8e1fb",
   "metadata": {},
   "outputs": [
    {
     "data": {
      "text/plain": [
       "array([[92655,   372],\n",
       "       [    0,   207]])"
      ]
     },
     "execution_count": 10,
     "metadata": {},
     "output_type": "execute_result"
    }
   ],
   "source": [
    "cm"
   ]
  },
  {
   "cell_type": "code",
   "execution_count": null,
   "id": "ee566693-6513-4f17-b065-426f08c02f8f",
   "metadata": {},
   "outputs": [
    {
     "name": "stdout",
     "output_type": "stream",
     "text": [
      "Epoch 1/15\n",
      "6556/6556 [==============================] - 20s 3ms/step - loss: 81.4935 - precision_4: 0.0038 - accuracy: 0.9950\n",
      "Epoch 2/15\n",
      "6556/6556 [==============================] - 20s 3ms/step - loss: 6.1535 - precision_4: 0.0017 - accuracy: 0.9957\n",
      "Epoch 3/15\n",
      "6556/6556 [==============================] - 20s 3ms/step - loss: 2.6006 - precision_4: 0.0029 - accuracy: 0.9970\n",
      "Epoch 4/15\n",
      "6556/6556 [==============================] - 19s 3ms/step - loss: 0.0226 - precision_4: 0.0000e+00 - accuracy: 0.9978\n",
      "Epoch 5/15\n",
      "4689/6556 [====================>.........] - ETA: 5s - loss: 0.0205 - precision_4: 0.0000e+00 - accuracy: 0.9978"
     ]
    }
   ],
   "source": [
    "x_train, x_test = x.iloc[i[0]].to_numpy(), x.iloc[i[1]].to_numpy()\n",
    "y_train, y_test = y.iloc[i[0]].to_numpy()[:,0], y.iloc[i[1]].to_numpy()[:,0]\n",
    "\n",
    "model = multi_layer_model([16,16,10])\n",
    "model.fit(x_train, y_train, epochs=15, batch_size=128, verbose=1)\n",
    "y_prob = model.predict(x_test)\n",
    "thr = 0.05\n",
    "y_pred = list(map(lambda x: x > thr, y_prob))\n",
    "cm = confusion_matrix(y_test, y_pred)\n",
    "nota = [cm[1,0],sum(cm[1,:]), thr]"
   ]
  },
  {
   "cell_type": "code",
   "execution_count": null,
   "id": "8d07e59e-26f8-49c4-a91c-1033f3605555",
   "metadata": {},
   "outputs": [
    {
     "name": "stderr",
     "output_type": "stream",
     "text": [
      "/home/joaoholz/miniconda3/envs/tf/lib/python3.10/site-packages/sklearn/utils/validation.py:1141: DataConversionWarning: A column-vector y was passed when a 1d array was expected. Please change the shape of y to (n_samples, ), for example using ravel().\n",
      "  y = column_or_1d(y, warn=True)\n",
      "/tmp/ipykernel_94773/4130852246.py:22: DataConversionWarning: A column-vector y was passed when a 1d array was expected. Please change the shape of y to (n_samples,), for example using ravel().\n",
      "  models[1].fit(x_train, y_train)\n"
     ]
    }
   ],
   "source": [
    "n_splits = 10\n",
    "for i in kfold.split(x,y):\n",
    "    run_3_models(i)\n",
    "    print('0')\n",
    "    break"
   ]
  },
  {
   "cell_type": "code",
   "execution_count": null,
   "id": "392ef9c8-dfed-4123-a701-6f2b6c907e32",
   "metadata": {},
   "outputs": [],
   "source": []
  },
  {
   "cell_type": "code",
   "execution_count": 37,
   "id": "afa52d29-15b2-4d49-90c8-74f83c223986",
   "metadata": {},
   "outputs": [
    {
     "data": {
      "text/plain": [
       "array([[93027,     0],\n",
       "       [  207,     0]])"
      ]
     },
     "execution_count": 37,
     "metadata": {},
     "output_type": "execute_result"
    }
   ],
   "source": [
    "cm"
   ]
  },
  {
   "cell_type": "code",
   "execution_count": 38,
   "id": "97b4c13b-630e-4d63-844d-06e5b036f606",
   "metadata": {},
   "outputs": [
    {
     "data": {
      "text/plain": [
       "2"
      ]
     },
     "execution_count": 38,
     "metadata": {},
     "output_type": "execute_result"
    }
   ],
   "source": [
    "1+1"
   ]
  },
  {
   "cell_type": "code",
   "execution_count": null,
   "id": "66bdb3d3-c858-4c46-b3aa-ea8334c86480",
   "metadata": {},
   "outputs": [],
   "source": [
    "n_splits = 10\n",
    "kfold = StratifiedKFold(n_splits=10,random_state=42,shuffle=True)\n",
    "for i in kfold.split(x,y):\n",
    "    run_3_models(i)\n",
    "    print('0')\n",
    "    break"
   ]
  },
  {
   "cell_type": "code",
   "execution_count": null,
   "id": "fb8cd1e3-ee46-466c-abb7-71fef3715cfa",
   "metadata": {},
   "outputs": [],
   "source": [
    "pd.DataFrame(save)"
   ]
  },
  {
   "cell_type": "code",
   "execution_count": null,
   "id": "3d2ba4d1-3325-432b-8f08-f0380f58ed15",
   "metadata": {},
   "outputs": [],
   "source": [
    "print(save)"
   ]
  },
  {
   "cell_type": "code",
   "execution_count": null,
   "id": "95f7f888-bf85-46d7-b572-3fde6255fa88",
   "metadata": {},
   "outputs": [],
   "source": []
  }
 ],
 "metadata": {
  "kernelspec": {
   "display_name": "Python 3 (ipykernel)",
   "language": "python",
   "name": "python3"
  },
  "language_info": {
   "codemirror_mode": {
    "name": "ipython",
    "version": 3
   },
   "file_extension": ".py",
   "mimetype": "text/x-python",
   "name": "python",
   "nbconvert_exporter": "python",
   "pygments_lexer": "ipython3",
   "version": "3.10.11"
  }
 },
 "nbformat": 4,
 "nbformat_minor": 5
}
