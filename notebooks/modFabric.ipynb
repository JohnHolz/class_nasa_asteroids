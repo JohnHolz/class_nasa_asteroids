{
 "cells": [
  {
   "cell_type": "code",
   "execution_count": 4,
   "id": "074c3fe3-8a42-4ea8-ae68-dd82961d9e2b",
   "metadata": {},
   "outputs": [],
   "source": [
    "from jh_utils.data.pandas.preprocessing import make_dummies\n",
    "from modules.get_data import get_data\n",
    "\n",
    "import pandas as pd, numpy as np"
   ]
  },
  {
   "cell_type": "code",
   "execution_count": 5,
   "id": "6221bd18-f512-4cee-a342-ea2c0b21e71a",
   "metadata": {},
   "outputs": [
    {
     "name": "stderr",
     "output_type": "stream",
     "text": [
      "/home/joaoholz/Documents/ufes/trabalho_final/modules/get_data.py:5: DtypeWarning: Columns (3,4,5) have mixed types. Specify dtype option on import or set low_memory=False.\n",
      "  return pd.read_csv('asteroides/asteoides.csv').iloc[:,first_columns:]\n"
     ]
    }
   ],
   "source": [
    "df = get_data()"
   ]
  },
  {
   "cell_type": "code",
   "execution_count": 6,
   "id": "1e25a833-3bd5-4fe6-851e-a11b773ad549",
   "metadata": {},
   "outputs": [
    {
     "data": {
      "text/plain": [
       "N    935625\n",
       "Y     22895\n",
       "Name: neo, dtype: int64"
      ]
     },
     "execution_count": 6,
     "metadata": {},
     "output_type": "execute_result"
    }
   ],
   "source": [
    "df.neo.value_counts()"
   ]
  },
  {
   "cell_type": "code",
   "execution_count": 7,
   "id": "b23aed63-78fe-451a-869d-a2d17abc7780",
   "metadata": {},
   "outputs": [
    {
     "data": {
      "text/plain": [
       "0.004892939561242076"
      ]
     },
     "execution_count": 7,
     "metadata": {},
     "output_type": "execute_result"
    }
   ],
   "source": [
    "4690/958_524"
   ]
  },
  {
   "cell_type": "code",
   "execution_count": 9,
   "id": "7dd389f4-7a7d-4a25-a405-5f58138e353c",
   "metadata": {},
   "outputs": [
    {
     "data": {
      "text/plain": [
       "n                 0.000000\n",
       "i                 0.000000\n",
       "q                 0.000000\n",
       "a                 0.000000\n",
       "e                 0.000000\n",
       "equinox           0.000000\n",
       "epoch_cal         0.000000\n",
       "om                0.000000\n",
       "epoch_mjd         0.000000\n",
       "orbit_id          0.000000\n",
       "class             0.000000\n",
       "tp                0.000000\n",
       "tp_cal            0.000000\n",
       "epoch             0.000000\n",
       "w                 0.000000\n",
       "ma                0.000001\n",
       "per_y             0.000001\n",
       "rms               0.000002\n",
       "ad                0.000004\n",
       "per               0.000004\n",
       "neo               0.000004\n",
       "moid_ld           0.000132\n",
       "H                 0.006534\n",
       "pha               0.020783\n",
       "moid              0.020783\n",
       "sigma_tp          0.020784\n",
       "sigma_n           0.020784\n",
       "sigma_ma          0.020784\n",
       "sigma_w           0.020784\n",
       "sigma_om          0.020784\n",
       "sigma_i           0.020784\n",
       "sigma_a           0.020784\n",
       "sigma_e           0.020784\n",
       "sigma_q           0.020784\n",
       "sigma_ad          0.020788\n",
       "sigma_per         0.020788\n",
       "diameter          0.857897\n",
       "diameter_sigma    0.858031\n",
       "albedo            0.859051\n",
       "dtype: float64"
      ]
     },
     "execution_count": 9,
     "metadata": {},
     "output_type": "execute_result"
    }
   ],
   "source": [
    "(df.isna().sum()/df.shape[0]).sort_values()"
   ]
  },
  {
   "cell_type": "code",
   "execution_count": 18,
   "id": "ae5c8ecf-3f2c-4a0c-b489-ee99b943d8c0",
   "metadata": {},
   "outputs": [
    {
     "data": {
      "text/plain": [
       "1            50142\n",
       "JPL 1        47484\n",
       "JPL 2        34566\n",
       "JPL 3        29929\n",
       "11           26304\n",
       "             ...  \n",
       "MPO485475        1\n",
       "MPO485480        1\n",
       "MPO485483        1\n",
       "MPO485484        1\n",
       "E2020J48         1\n",
       "Name: orbit_id, Length: 4623, dtype: int64"
      ]
     },
     "execution_count": 18,
     "metadata": {},
     "output_type": "execute_result"
    }
   ],
   "source": [
    "df[df.diameter_sigma.isna()].orbit_id.value_counts()"
   ]
  },
  {
   "cell_type": "code",
   "execution_count": 2,
   "id": "a7a1794e-6d9b-4007-b5c6-8539535f799d",
   "metadata": {},
   "outputs": [
    {
     "name": "stderr",
     "output_type": "stream",
     "text": [
      "/home/joaoholz/Documents/ufes/trabalho_final/modules/get_data.py:5: DtypeWarning: Columns (3,4,5) have mixed types. Specify dtype option on import or set low_memory=False.\n",
      "  return pd.read_csv('asteroides/asteoides.csv').iloc[:,first_columns:]\n"
     ]
    }
   ],
   "source": [
    "df = get_data_dropped()"
   ]
  },
  {
   "cell_type": "code",
   "execution_count": 6,
   "id": "1ddab0cf-6c16-4fef-a9d8-22430765f046",
   "metadata": {},
   "outputs": [
    {
     "data": {
      "text/plain": [
       "J2000    958524\n",
       "Name: equinox, dtype: int64"
      ]
     },
     "execution_count": 6,
     "metadata": {},
     "output_type": "execute_result"
    }
   ],
   "source": [
    "df.equinox.value_counts()"
   ]
  },
  {
   "cell_type": "code",
   "execution_count": 7,
   "id": "2d670bb8-61e5-492f-8499-099d80904715",
   "metadata": {},
   "outputs": [
    {
     "data": {
      "text/plain": [
       "array(['J2000'], dtype=object)"
      ]
     },
     "execution_count": 7,
     "metadata": {},
     "output_type": "execute_result"
    }
   ],
   "source": [
    "df.equinox.unique()"
   ]
  },
  {
   "cell_type": "code",
   "execution_count": 9,
   "id": "f2ed3d1a-1544-45ea-99c6-607da297912f",
   "metadata": {},
   "outputs": [
    {
     "data": {
      "text/html": [
       "<div>\n",
       "<style scoped>\n",
       "    .dataframe tbody tr th:only-of-type {\n",
       "        vertical-align: middle;\n",
       "    }\n",
       "\n",
       "    .dataframe tbody tr th {\n",
       "        vertical-align: top;\n",
       "    }\n",
       "\n",
       "    .dataframe thead th {\n",
       "        text-align: right;\n",
       "    }\n",
       "</style>\n",
       "<table border=\"1\" class=\"dataframe\">\n",
       "  <thead>\n",
       "    <tr style=\"text-align: right;\">\n",
       "      <th></th>\n",
       "      <th>neo</th>\n",
       "      <th>pha</th>\n",
       "      <th>H</th>\n",
       "      <th>epoch</th>\n",
       "      <th>epoch_mjd</th>\n",
       "      <th>epoch_cal</th>\n",
       "      <th>equinox</th>\n",
       "      <th>e</th>\n",
       "      <th>a</th>\n",
       "      <th>q</th>\n",
       "      <th>...</th>\n",
       "      <th>sigma_q</th>\n",
       "      <th>sigma_i</th>\n",
       "      <th>sigma_om</th>\n",
       "      <th>sigma_w</th>\n",
       "      <th>sigma_ma</th>\n",
       "      <th>sigma_ad</th>\n",
       "      <th>sigma_n</th>\n",
       "      <th>sigma_tp</th>\n",
       "      <th>sigma_per</th>\n",
       "      <th>rms</th>\n",
       "    </tr>\n",
       "  </thead>\n",
       "  <tbody>\n",
       "    <tr>\n",
       "      <th>0</th>\n",
       "      <td>0</td>\n",
       "      <td>0</td>\n",
       "      <td>3.400</td>\n",
       "      <td>2458600.5</td>\n",
       "      <td>58600</td>\n",
       "      <td>20190427.0</td>\n",
       "      <td>J2000</td>\n",
       "      <td>0.076009</td>\n",
       "      <td>2.769165</td>\n",
       "      <td>2.558684</td>\n",
       "      <td>...</td>\n",
       "      <td>1.956900e-11</td>\n",
       "      <td>4.608900e-09</td>\n",
       "      <td>6.168800e-08</td>\n",
       "      <td>6.624800e-08</td>\n",
       "      <td>7.820700e-09</td>\n",
       "      <td>1.111300e-11</td>\n",
       "      <td>1.196500e-12</td>\n",
       "      <td>3.782900e-08</td>\n",
       "      <td>9.415900e-09</td>\n",
       "      <td>0.43301</td>\n",
       "    </tr>\n",
       "    <tr>\n",
       "      <th>1</th>\n",
       "      <td>0</td>\n",
       "      <td>0</td>\n",
       "      <td>4.200</td>\n",
       "      <td>2459000.5</td>\n",
       "      <td>59000</td>\n",
       "      <td>20200531.0</td>\n",
       "      <td>J2000</td>\n",
       "      <td>0.229972</td>\n",
       "      <td>2.773841</td>\n",
       "      <td>2.135935</td>\n",
       "      <td>...</td>\n",
       "      <td>8.832200e-08</td>\n",
       "      <td>3.469400e-06</td>\n",
       "      <td>6.272400e-06</td>\n",
       "      <td>9.128200e-06</td>\n",
       "      <td>8.859100e-06</td>\n",
       "      <td>4.961300e-09</td>\n",
       "      <td>4.653600e-10</td>\n",
       "      <td>4.078700e-05</td>\n",
       "      <td>3.680700e-06</td>\n",
       "      <td>0.35936</td>\n",
       "    </tr>\n",
       "    <tr>\n",
       "      <th>2</th>\n",
       "      <td>0</td>\n",
       "      <td>0</td>\n",
       "      <td>5.330</td>\n",
       "      <td>2459000.5</td>\n",
       "      <td>59000</td>\n",
       "      <td>20200531.0</td>\n",
       "      <td>J2000</td>\n",
       "      <td>0.256936</td>\n",
       "      <td>2.668285</td>\n",
       "      <td>1.982706</td>\n",
       "      <td>...</td>\n",
       "      <td>8.139200e-08</td>\n",
       "      <td>3.223100e-06</td>\n",
       "      <td>1.664600e-05</td>\n",
       "      <td>1.772100e-05</td>\n",
       "      <td>8.110400e-06</td>\n",
       "      <td>4.363900e-09</td>\n",
       "      <td>4.413400e-10</td>\n",
       "      <td>3.528800e-05</td>\n",
       "      <td>3.107200e-06</td>\n",
       "      <td>0.33848</td>\n",
       "    </tr>\n",
       "    <tr>\n",
       "      <th>3</th>\n",
       "      <td>0</td>\n",
       "      <td>0</td>\n",
       "      <td>3.000</td>\n",
       "      <td>2458600.5</td>\n",
       "      <td>58600</td>\n",
       "      <td>20190427.0</td>\n",
       "      <td>J2000</td>\n",
       "      <td>0.088721</td>\n",
       "      <td>2.361418</td>\n",
       "      <td>2.151909</td>\n",
       "      <td>...</td>\n",
       "      <td>1.928600e-09</td>\n",
       "      <td>2.170600e-07</td>\n",
       "      <td>3.880800e-07</td>\n",
       "      <td>1.789300e-07</td>\n",
       "      <td>1.206800e-06</td>\n",
       "      <td>1.648600e-09</td>\n",
       "      <td>2.612500e-10</td>\n",
       "      <td>4.103700e-06</td>\n",
       "      <td>1.274900e-06</td>\n",
       "      <td>0.39980</td>\n",
       "    </tr>\n",
       "    <tr>\n",
       "      <th>4</th>\n",
       "      <td>0</td>\n",
       "      <td>0</td>\n",
       "      <td>6.900</td>\n",
       "      <td>2459000.5</td>\n",
       "      <td>59000</td>\n",
       "      <td>20200531.0</td>\n",
       "      <td>J2000</td>\n",
       "      <td>0.190913</td>\n",
       "      <td>2.574037</td>\n",
       "      <td>2.082619</td>\n",
       "      <td>...</td>\n",
       "      <td>6.092400e-08</td>\n",
       "      <td>2.740800e-06</td>\n",
       "      <td>2.894900e-05</td>\n",
       "      <td>2.984200e-05</td>\n",
       "      <td>8.303800e-06</td>\n",
       "      <td>4.729000e-09</td>\n",
       "      <td>5.522700e-10</td>\n",
       "      <td>3.474300e-05</td>\n",
       "      <td>3.490500e-06</td>\n",
       "      <td>0.52191</td>\n",
       "    </tr>\n",
       "    <tr>\n",
       "      <th>...</th>\n",
       "      <td>...</td>\n",
       "      <td>...</td>\n",
       "      <td>...</td>\n",
       "      <td>...</td>\n",
       "      <td>...</td>\n",
       "      <td>...</td>\n",
       "      <td>...</td>\n",
       "      <td>...</td>\n",
       "      <td>...</td>\n",
       "      <td>...</td>\n",
       "      <td>...</td>\n",
       "      <td>...</td>\n",
       "      <td>...</td>\n",
       "      <td>...</td>\n",
       "      <td>...</td>\n",
       "      <td>...</td>\n",
       "      <td>...</td>\n",
       "      <td>...</td>\n",
       "      <td>...</td>\n",
       "      <td>...</td>\n",
       "      <td>...</td>\n",
       "    </tr>\n",
       "    <tr>\n",
       "      <th>958519</th>\n",
       "      <td>0</td>\n",
       "      <td>0</td>\n",
       "      <td>17.135</td>\n",
       "      <td>2437203.5</td>\n",
       "      <td>37203</td>\n",
       "      <td>19600926.0</td>\n",
       "      <td>J2000</td>\n",
       "      <td>0.185919</td>\n",
       "      <td>2.280861</td>\n",
       "      <td>1.856807</td>\n",
       "      <td>...</td>\n",
       "      <td>7.299800e-01</td>\n",
       "      <td>6.969000e+00</td>\n",
       "      <td>7.433000e+00</td>\n",
       "      <td>4.631100e+01</td>\n",
       "      <td>2.738300e+01</td>\n",
       "      <td>1.041200e+00</td>\n",
       "      <td>1.652100e-01</td>\n",
       "      <td>1.309700e+02</td>\n",
       "      <td>7.264900e+02</td>\n",
       "      <td>0.23839</td>\n",
       "    </tr>\n",
       "    <tr>\n",
       "      <th>958520</th>\n",
       "      <td>0</td>\n",
       "      <td>0</td>\n",
       "      <td>18.500</td>\n",
       "      <td>2459000.5</td>\n",
       "      <td>59000</td>\n",
       "      <td>20200531.0</td>\n",
       "      <td>J2000</td>\n",
       "      <td>0.282920</td>\n",
       "      <td>2.334910</td>\n",
       "      <td>1.674319</td>\n",
       "      <td>...</td>\n",
       "      <td>6.256300e-07</td>\n",
       "      <td>1.563500e-05</td>\n",
       "      <td>5.598600e-05</td>\n",
       "      <td>2.380400e-04</td>\n",
       "      <td>1.298200e-04</td>\n",
       "      <td>2.418900e-08</td>\n",
       "      <td>3.346100e-09</td>\n",
       "      <td>4.690200e-04</td>\n",
       "      <td>1.578500e-05</td>\n",
       "      <td>0.53633</td>\n",
       "    </tr>\n",
       "    <tr>\n",
       "      <th>958521</th>\n",
       "      <td>1</td>\n",
       "      <td>1</td>\n",
       "      <td>20.400</td>\n",
       "      <td>2459000.5</td>\n",
       "      <td>59000</td>\n",
       "      <td>20200531.0</td>\n",
       "      <td>J2000</td>\n",
       "      <td>0.662446</td>\n",
       "      <td>2.817152</td>\n",
       "      <td>0.950941</td>\n",
       "      <td>...</td>\n",
       "      <td>1.687100e-07</td>\n",
       "      <td>1.853300e-05</td>\n",
       "      <td>5.691700e-05</td>\n",
       "      <td>8.969200e-05</td>\n",
       "      <td>5.272600e-05</td>\n",
       "      <td>1.650100e-07</td>\n",
       "      <td>1.101600e-08</td>\n",
       "      <td>2.830600e-04</td>\n",
       "      <td>9.127500e-05</td>\n",
       "      <td>0.51556</td>\n",
       "    </tr>\n",
       "    <tr>\n",
       "      <th>958522</th>\n",
       "      <td>0</td>\n",
       "      <td>0</td>\n",
       "      <td>18.071</td>\n",
       "      <td>2441956.5</td>\n",
       "      <td>41956</td>\n",
       "      <td>19731001.0</td>\n",
       "      <td>J2000</td>\n",
       "      <td>0.202053</td>\n",
       "      <td>2.373137</td>\n",
       "      <td>1.893638</td>\n",
       "      <td>...</td>\n",
       "      <td>5.478400e-01</td>\n",
       "      <td>5.448800e-01</td>\n",
       "      <td>4.391600e+00</td>\n",
       "      <td>1.898800e+01</td>\n",
       "      <td>1.083800e+01</td>\n",
       "      <td>7.171600e-01</td>\n",
       "      <td>1.016700e-01</td>\n",
       "      <td>3.898400e+01</td>\n",
       "      <td>5.035500e+02</td>\n",
       "      <td>0.25641</td>\n",
       "    </tr>\n",
       "    <tr>\n",
       "      <th>958523</th>\n",
       "      <td>0</td>\n",
       "      <td>0</td>\n",
       "      <td>18.060</td>\n",
       "      <td>2443429.5</td>\n",
       "      <td>43429</td>\n",
       "      <td>19771013.0</td>\n",
       "      <td>J2000</td>\n",
       "      <td>0.258348</td>\n",
       "      <td>2.260404</td>\n",
       "      <td>1.676433</td>\n",
       "      <td>...</td>\n",
       "      <td>6.252600e-02</td>\n",
       "      <td>1.102300e+00</td>\n",
       "      <td>3.117000e-01</td>\n",
       "      <td>1.284300e+00</td>\n",
       "      <td>4.736100e-01</td>\n",
       "      <td>1.626700e-01</td>\n",
       "      <td>2.487900e-02</td>\n",
       "      <td>5.523600e+00</td>\n",
       "      <td>1.064800e+02</td>\n",
       "      <td>0.26980</td>\n",
       "    </tr>\n",
       "  </tbody>\n",
       "</table>\n",
       "<p>958524 rows × 34 columns</p>\n",
       "</div>"
      ],
      "text/plain": [
       "        neo  pha       H      epoch  epoch_mjd   epoch_cal equinox         e  \\\n",
       "0         0    0   3.400  2458600.5      58600  20190427.0   J2000  0.076009   \n",
       "1         0    0   4.200  2459000.5      59000  20200531.0   J2000  0.229972   \n",
       "2         0    0   5.330  2459000.5      59000  20200531.0   J2000  0.256936   \n",
       "3         0    0   3.000  2458600.5      58600  20190427.0   J2000  0.088721   \n",
       "4         0    0   6.900  2459000.5      59000  20200531.0   J2000  0.190913   \n",
       "...     ...  ...     ...        ...        ...         ...     ...       ...   \n",
       "958519    0    0  17.135  2437203.5      37203  19600926.0   J2000  0.185919   \n",
       "958520    0    0  18.500  2459000.5      59000  20200531.0   J2000  0.282920   \n",
       "958521    1    1  20.400  2459000.5      59000  20200531.0   J2000  0.662446   \n",
       "958522    0    0  18.071  2441956.5      41956  19731001.0   J2000  0.202053   \n",
       "958523    0    0  18.060  2443429.5      43429  19771013.0   J2000  0.258348   \n",
       "\n",
       "               a         q  ...       sigma_q       sigma_i      sigma_om  \\\n",
       "0       2.769165  2.558684  ...  1.956900e-11  4.608900e-09  6.168800e-08   \n",
       "1       2.773841  2.135935  ...  8.832200e-08  3.469400e-06  6.272400e-06   \n",
       "2       2.668285  1.982706  ...  8.139200e-08  3.223100e-06  1.664600e-05   \n",
       "3       2.361418  2.151909  ...  1.928600e-09  2.170600e-07  3.880800e-07   \n",
       "4       2.574037  2.082619  ...  6.092400e-08  2.740800e-06  2.894900e-05   \n",
       "...          ...       ...  ...           ...           ...           ...   \n",
       "958519  2.280861  1.856807  ...  7.299800e-01  6.969000e+00  7.433000e+00   \n",
       "958520  2.334910  1.674319  ...  6.256300e-07  1.563500e-05  5.598600e-05   \n",
       "958521  2.817152  0.950941  ...  1.687100e-07  1.853300e-05  5.691700e-05   \n",
       "958522  2.373137  1.893638  ...  5.478400e-01  5.448800e-01  4.391600e+00   \n",
       "958523  2.260404  1.676433  ...  6.252600e-02  1.102300e+00  3.117000e-01   \n",
       "\n",
       "             sigma_w      sigma_ma      sigma_ad       sigma_n      sigma_tp  \\\n",
       "0       6.624800e-08  7.820700e-09  1.111300e-11  1.196500e-12  3.782900e-08   \n",
       "1       9.128200e-06  8.859100e-06  4.961300e-09  4.653600e-10  4.078700e-05   \n",
       "2       1.772100e-05  8.110400e-06  4.363900e-09  4.413400e-10  3.528800e-05   \n",
       "3       1.789300e-07  1.206800e-06  1.648600e-09  2.612500e-10  4.103700e-06   \n",
       "4       2.984200e-05  8.303800e-06  4.729000e-09  5.522700e-10  3.474300e-05   \n",
       "...              ...           ...           ...           ...           ...   \n",
       "958519  4.631100e+01  2.738300e+01  1.041200e+00  1.652100e-01  1.309700e+02   \n",
       "958520  2.380400e-04  1.298200e-04  2.418900e-08  3.346100e-09  4.690200e-04   \n",
       "958521  8.969200e-05  5.272600e-05  1.650100e-07  1.101600e-08  2.830600e-04   \n",
       "958522  1.898800e+01  1.083800e+01  7.171600e-01  1.016700e-01  3.898400e+01   \n",
       "958523  1.284300e+00  4.736100e-01  1.626700e-01  2.487900e-02  5.523600e+00   \n",
       "\n",
       "           sigma_per      rms  \n",
       "0       9.415900e-09  0.43301  \n",
       "1       3.680700e-06  0.35936  \n",
       "2       3.107200e-06  0.33848  \n",
       "3       1.274900e-06  0.39980  \n",
       "4       3.490500e-06  0.52191  \n",
       "...              ...      ...  \n",
       "958519  7.264900e+02  0.23839  \n",
       "958520  1.578500e-05  0.53633  \n",
       "958521  9.127500e-05  0.51556  \n",
       "958522  5.035500e+02  0.25641  \n",
       "958523  1.064800e+02  0.26980  \n",
       "\n",
       "[958524 rows x 34 columns]"
      ]
     },
     "execution_count": 9,
     "metadata": {},
     "output_type": "execute_result"
    }
   ],
   "source": [
    "df.drop('class',axis=1)"
   ]
  },
  {
   "cell_type": "code",
   "execution_count": 10,
   "id": "bb7fcbb1-ec63-4889-a2c4-0e7b2a44e93f",
   "metadata": {},
   "outputs": [],
   "source": [
    "import matplotlib.pyplot as plt"
   ]
  },
  {
   "cell_type": "code",
   "execution_count": 16,
   "id": "fe809e93-b1c4-4bb3-ad27-cd9b6bb656b0",
   "metadata": {},
   "outputs": [
    {
     "data": {
      "text/plain": [
       "Index(['H', 'epoch', 'epoch_mjd', 'epoch_cal', 'equinox', 'e', 'a', 'q', 'i',\n",
       "       'om', 'w', 'ma', 'ad', 'n', 'tp', 'tp_cal', 'per', 'per_y', 'moid',\n",
       "       'moid_ld', 'sigma_e', 'sigma_a', 'sigma_q', 'sigma_i', 'sigma_om',\n",
       "       'sigma_w', 'sigma_ma', 'sigma_ad', 'sigma_n', 'sigma_tp', 'sigma_per',\n",
       "       'class', 'rms'],\n",
       "      dtype='object')"
      ]
     },
     "execution_count": 16,
     "metadata": {},
     "output_type": "execute_result"
    }
   ],
   "source": [
    "df.columns[2:]"
   ]
  },
  {
   "cell_type": "code",
   "execution_count": 31,
   "id": "3a4e70de-f6af-46a4-b6cb-e165cfa1ee22",
   "metadata": {},
   "outputs": [
    {
     "data": {
      "image/png": "[encoded data removed]",
      "text/plain": [
       "<Figure size 640x480 with 1 Axes>"
      ]
     },
     "metadata": {},
     "output_type": "display_data"
    }
   ],
   "source": [
    "_ = plt.hist(df.sigma_n,30)"
   ]
  },
  {
   "cell_type": "code",
   "execution_count": null,
   "id": "d3e8d738-4308-4722-9f2f-b994e47d01bd",
   "metadata": {},
   "outputs": [],
   "source": []
  }
 ],
 "metadata": {
  "kernelspec": {
   "display_name": "Python 3 (ipykernel)",
   "language": "python",
   "name": "python3"
  },
  "language_info": {
   "codemirror_mode": {
    "name": "ipython",
    "version": 3
   },
   "file_extension": ".py",
   "mimetype": "text/x-python",
   "name": "python",
   "nbconvert_exporter": "python",
   "pygments_lexer": "ipython3",
   "version": "3.10.11"
  }
 },
 "nbformat": 4,
 "nbformat_minor": 5
}
