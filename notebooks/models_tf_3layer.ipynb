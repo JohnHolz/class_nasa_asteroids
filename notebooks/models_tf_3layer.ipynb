{
 "cells": [
  {
   "cell_type": "code",
   "execution_count": 1,
   "id": "dce92180-3626-4836-a489-57d7893632c9",
   "metadata": {},
   "outputs": [],
   "source": [
    "import os\n",
    "os.chdir('..')"
   ]
  },
  {
   "cell_type": "code",
   "execution_count": 2,
   "id": "431899f4-c514-41c7-85d9-ac1fbff56106",
   "metadata": {},
   "outputs": [],
   "source": [
    "## it’s mine, my own, \n",
    "from modules.get_data import get_x_y\n",
    "from jh_utils.data.pandas.preprocessing import make_dummies\n",
    "from modules.evaluation import fit_classify, print_2_reports, plot_false_negative_rate"
   ]
  },
  {
   "cell_type": "code",
   "execution_count": 3,
   "id": "c8350f7a-1b6f-41e1-a0ee-8eb81c2063a8",
   "metadata": {},
   "outputs": [],
   "source": [
    "import pandas as pd, numpy as np\n",
    "from sklearn.model_selection import train_test_split\n",
    "from sklearn.preprocessing import StandardScaler, MinMaxScaler\n",
    "## posfit\n",
    "from sklearn.metrics import roc_auc_score, precision_recall_curve, det_curve\n",
    "from sklearn.metrics import RocCurveDisplay, PrecisionRecallDisplay\n",
    "from sklearn.metrics import classification_report,confusion_matrix"
   ]
  },
  {
   "cell_type": "code",
   "execution_count": 4,
   "id": "2d5fe533-6c7e-45c2-951f-c993bf8e13dd",
   "metadata": {},
   "outputs": [
    {
     "name": "stderr",
     "output_type": "stream",
     "text": [
      "2023-07-17 18:44:16.652653: I tensorflow/core/platform/cpu_feature_guard.cc:182] This TensorFlow binary is optimized to use available CPU instructions in performance-critical operations.\n",
      "To enable the following instructions: AVX2 FMA, in other operations, rebuild TensorFlow with the appropriate compiler flags.\n",
      "2023-07-17 18:44:17.239532: W tensorflow/compiler/tf2tensorrt/utils/py_utils.cc:38] TF-TRT Warning: Could not find TensorRT\n"
     ]
    }
   ],
   "source": [
    "import tensorflow as tf\n",
    "from tensorflow.keras.layers import Dense\n",
    "from tensorflow.keras import Sequential"
   ]
  },
  {
   "cell_type": "code",
   "execution_count": 5,
   "id": "e7f090fe-9e98-4700-98ac-8f44764154e2",
   "metadata": {},
   "outputs": [
    {
     "name": "stderr",
     "output_type": "stream",
     "text": [
      "/home/joaoholz/Documents/ufes/trabalho_final/modules/get_data.py:6: DtypeWarning: Columns (3,4,5) have mixed types. Specify dtype option on import or set low_memory=False.\n",
      "  return pd.read_csv(\"asteroides/asteoides.csv\").iloc[:, first_columns:]\n"
     ]
    }
   ],
   "source": [
    "x,y = get_x_y()\n",
    "x_train,x_test,y_train,y_test = train_test_split(x, y, test_size=0.3, stratify=y, random_state=42)\n",
    "scaler = MinMaxScaler()\n",
    "#scaler = StandardScaler()\n",
    "x_train = scaler.fit_transform(x_train)\n",
    "x_test = scaler.transform(x_test)"
   ]
  },
  {
   "cell_type": "code",
   "execution_count": 6,
   "id": "0413fce1-0a4d-40c0-911a-a41679353d85",
   "metadata": {},
   "outputs": [],
   "source": [
    "def declare_model(n_layers=[16,8], loss = \"binary_crossentropy\", optimizer = \"adam\", last_layer_activation = \"sigmoid\"):\n",
    "    tf_model = Sequential()\n",
    "    tf_model.add(Dense(10, activation='relu', input_shape=(38,)))\n",
    "    for i in n_layers[1:]:\n",
    "        tf_model.add(Dense(i, activation='relu'))\n",
    "    tf_model.add(Dense(1, activation=last_layer_activation))\n",
    "    tf_model.compile(loss=loss, optimizer=optimizer, metrics = [tf.keras.metrics.Precision(),'accuracy'])\n",
    "    return tf_model"
   ]
  },
  {
   "cell_type": "code",
   "execution_count": 7,
   "id": "ffe46d88-b8f7-46a6-9f51-2e6162362203",
   "metadata": {
    "collapsed": true,
    "jupyter": {
     "outputs_hidden": true
    }
   },
   "outputs": [
    {
     "name": "stderr",
     "output_type": "stream",
     "text": [
      "2023-07-17 18:44:25.741019: I tensorflow/compiler/xla/stream_executor/cuda/cuda_gpu_executor.cc:996] successful NUMA node read from SysFS had negative value (-1), but there must be at least one NUMA node, so returning NUMA node zero. See more at https://github.com/torvalds/linux/blob/v6.0/Documentation/ABI/testing/sysfs-bus-pci#L344-L355\n",
      "2023-07-17 18:44:25.768008: I tensorflow/compiler/xla/stream_executor/cuda/cuda_gpu_executor.cc:996] successful NUMA node read from SysFS had negative value (-1), but there must be at least one NUMA node, so returning NUMA node zero. See more at https://github.com/torvalds/linux/blob/v6.0/Documentation/ABI/testing/sysfs-bus-pci#L344-L355\n",
      "2023-07-17 18:44:25.768266: I tensorflow/compiler/xla/stream_executor/cuda/cuda_gpu_executor.cc:996] successful NUMA node read from SysFS had negative value (-1), but there must be at least one NUMA node, so returning NUMA node zero. See more at https://github.com/torvalds/linux/blob/v6.0/Documentation/ABI/testing/sysfs-bus-pci#L344-L355\n",
      "2023-07-17 18:44:25.769271: I tensorflow/compiler/xla/stream_executor/cuda/cuda_gpu_executor.cc:996] successful NUMA node read from SysFS had negative value (-1), but there must be at least one NUMA node, so returning NUMA node zero. See more at https://github.com/torvalds/linux/blob/v6.0/Documentation/ABI/testing/sysfs-bus-pci#L344-L355\n",
      "2023-07-17 18:44:25.769470: I tensorflow/compiler/xla/stream_executor/cuda/cuda_gpu_executor.cc:996] successful NUMA node read from SysFS had negative value (-1), but there must be at least one NUMA node, so returning NUMA node zero. See more at https://github.com/torvalds/linux/blob/v6.0/Documentation/ABI/testing/sysfs-bus-pci#L344-L355\n",
      "2023-07-17 18:44:25.769689: I tensorflow/compiler/xla/stream_executor/cuda/cuda_gpu_executor.cc:996] successful NUMA node read from SysFS had negative value (-1), but there must be at least one NUMA node, so returning NUMA node zero. See more at https://github.com/torvalds/linux/blob/v6.0/Documentation/ABI/testing/sysfs-bus-pci#L344-L355\n",
      "2023-07-17 18:44:25.854155: I tensorflow/compiler/xla/stream_executor/cuda/cuda_gpu_executor.cc:996] successful NUMA node read from SysFS had negative value (-1), but there must be at least one NUMA node, so returning NUMA node zero. See more at https://github.com/torvalds/linux/blob/v6.0/Documentation/ABI/testing/sysfs-bus-pci#L344-L355\n",
      "2023-07-17 18:44:25.854376: I tensorflow/compiler/xla/stream_executor/cuda/cuda_gpu_executor.cc:996] successful NUMA node read from SysFS had negative value (-1), but there must be at least one NUMA node, so returning NUMA node zero. See more at https://github.com/torvalds/linux/blob/v6.0/Documentation/ABI/testing/sysfs-bus-pci#L344-L355\n",
      "2023-07-17 18:44:25.854536: I tensorflow/compiler/xla/stream_executor/cuda/cuda_gpu_executor.cc:996] successful NUMA node read from SysFS had negative value (-1), but there must be at least one NUMA node, so returning NUMA node zero. See more at https://github.com/torvalds/linux/blob/v6.0/Documentation/ABI/testing/sysfs-bus-pci#L344-L355\n",
      "2023-07-17 18:44:25.854660: I tensorflow/core/common_runtime/gpu/gpu_device.cc:1635] Created device /job:localhost/replica:0/task:0/device:GPU:0 with 4297 MB memory:  -> device: 0, name: NVIDIA GeForce RTX 2060, pci bus id: 0000:01:00.0, compute capability: 7.5\n"
     ]
    }
   ],
   "source": [
    "tf.random.set_seed(2023)\n",
    "tf_model = declare_model([16,8])"
   ]
  },
  {
   "cell_type": "code",
   "execution_count": 8,
   "id": "82fd6c2f-730d-4dd4-81f1-1ad71de70887",
   "metadata": {
    "scrolled": true
   },
   "outputs": [
    {
     "name": "stdout",
     "output_type": "stream",
     "text": [
      "Epoch 1/50\n"
     ]
    },
    {
     "name": "stderr",
     "output_type": "stream",
     "text": [
      "2023-07-17 18:44:26.953810: I tensorflow/compiler/xla/service/service.cc:169] XLA service 0x7fa951e77d50 initialized for platform CUDA (this does not guarantee that XLA will be used). Devices:\n",
      "2023-07-17 18:44:26.953836: I tensorflow/compiler/xla/service/service.cc:177]   StreamExecutor device (0): NVIDIA GeForce RTX 2060, Compute Capability 7.5\n",
      "2023-07-17 18:44:26.959276: I tensorflow/compiler/mlir/tensorflow/utils/dump_mlir_util.cc:269] disabling MLIR crash reproducer, set env var `MLIR_CRASH_REPRODUCER_DIRECTORY` to enable.\n",
      "2023-07-17 18:44:26.975171: I tensorflow/compiler/xla/stream_executor/cuda/cuda_dnn.cc:424] Loaded cuDNN version 8902\n",
      "2023-07-17 18:44:27.049496: I tensorflow/tsl/platform/default/subprocess.cc:304] Start cannot spawn child process: No such file or directory\n",
      "2023-07-17 18:44:27.118184: I ./tensorflow/compiler/jit/device_compiler.h:180] Compiled cluster using XLA!  This line is logged at most once for the lifetime of the process.\n"
     ]
    },
    {
     "name": "stdout",
     "output_type": "stream",
     "text": [
      "10198/10198 [==============================] - 29s 3ms/step - loss: 0.0171 - precision: 0.0035 - accuracy: 0.9952\n",
      "Epoch 2/50\n",
      "10198/10198 [==============================] - 25s 2ms/step - loss: 0.0058 - precision: 0.0000e+00 - accuracy: 0.9978\n",
      "Epoch 3/50\n",
      "10198/10198 [==============================] - 25s 2ms/step - loss: 0.0053 - precision: 0.0000e+00 - accuracy: 0.9978\n",
      "Epoch 4/50\n",
      "10198/10198 [==============================] - 25s 2ms/step - loss: 0.0048 - precision: 0.0000e+00 - accuracy: 0.9978\n",
      "Epoch 5/50\n",
      "10198/10198 [==============================] - 24s 2ms/step - loss: 0.0046 - precision: 0.0000e+00 - accuracy: 0.9978\n",
      "Epoch 6/50\n",
      "10198/10198 [==============================] - 25s 2ms/step - loss: 0.0044 - precision: 0.4524 - accuracy: 0.9978\n",
      "Epoch 7/50\n",
      "10198/10198 [==============================] - 25s 2ms/step - loss: 0.0043 - precision: 0.5010 - accuracy: 0.9978\n",
      "Epoch 8/50\n",
      "10198/10198 [==============================] - 25s 2ms/step - loss: 0.0042 - precision: 0.5299 - accuracy: 0.9979\n",
      "Epoch 9/50\n",
      "10198/10198 [==============================] - 26s 3ms/step - loss: 0.0041 - precision: 0.5456 - accuracy: 0.9980\n",
      "Epoch 10/50\n",
      "10198/10198 [==============================] - 28s 3ms/step - loss: 0.0040 - precision: 0.5673 - accuracy: 0.9981\n",
      "Epoch 11/50\n",
      "10198/10198 [==============================] - 25s 2ms/step - loss: 0.0039 - precision: 0.5897 - accuracy: 0.9981\n",
      "Epoch 12/50\n",
      "10198/10198 [==============================] - 29s 3ms/step - loss: 0.0038 - precision: 0.5942 - accuracy: 0.9982\n",
      "Epoch 13/50\n",
      "10198/10198 [==============================] - 27s 3ms/step - loss: 0.0036 - precision: 0.6244 - accuracy: 0.9983\n",
      "Epoch 14/50\n",
      "10198/10198 [==============================] - 23s 2ms/step - loss: 0.0035 - precision: 0.6391 - accuracy: 0.9983\n",
      "Epoch 15/50\n",
      "10198/10198 [==============================] - 24s 2ms/step - loss: 0.0035 - precision: 0.6398 - accuracy: 0.9983\n",
      "Epoch 16/50\n",
      "10198/10198 [==============================] - 23s 2ms/step - loss: 0.0033 - precision: 0.6580 - accuracy: 0.9985\n",
      "Epoch 17/50\n",
      "10198/10198 [==============================] - 23s 2ms/step - loss: 0.0032 - precision: 0.6710 - accuracy: 0.9985\n",
      "Epoch 18/50\n",
      "10198/10198 [==============================] - 23s 2ms/step - loss: 0.0032 - precision: 0.6803 - accuracy: 0.9986\n",
      "Epoch 19/50\n",
      "10198/10198 [==============================] - 23s 2ms/step - loss: 0.0031 - precision: 0.6801 - accuracy: 0.9985\n",
      "Epoch 20/50\n",
      "10198/10198 [==============================] - 23s 2ms/step - loss: 0.0031 - precision: 0.6940 - accuracy: 0.9986\n",
      "Epoch 21/50\n",
      "10198/10198 [==============================] - 23s 2ms/step - loss: 0.0030 - precision: 0.7100 - accuracy: 0.9987\n",
      "Epoch 22/50\n",
      "10198/10198 [==============================] - 24s 2ms/step - loss: 0.0030 - precision: 0.7034 - accuracy: 0.9987\n",
      "Epoch 23/50\n",
      "10198/10198 [==============================] - 24s 2ms/step - loss: 0.0030 - precision: 0.7011 - accuracy: 0.9986\n",
      "Epoch 24/50\n",
      "10198/10198 [==============================] - 23s 2ms/step - loss: 0.0029 - precision: 0.7124 - accuracy: 0.9987\n",
      "Epoch 25/50\n",
      "10198/10198 [==============================] - 23s 2ms/step - loss: 0.0029 - precision: 0.7058 - accuracy: 0.9987\n",
      "Epoch 26/50\n",
      "10198/10198 [==============================] - 25s 2ms/step - loss: 0.0029 - precision: 0.7315 - accuracy: 0.9988\n",
      "Epoch 27/50\n",
      "10198/10198 [==============================] - 25s 2ms/step - loss: 0.0028 - precision: 0.7385 - accuracy: 0.9988\n",
      "Epoch 28/50\n",
      "10198/10198 [==============================] - 25s 2ms/step - loss: 0.0028 - precision: 0.7447 - accuracy: 0.9988\n",
      "Epoch 29/50\n",
      "10198/10198 [==============================] - 24s 2ms/step - loss: 0.0028 - precision: 0.7373 - accuracy: 0.9988\n",
      "Epoch 30/50\n",
      "10198/10198 [==============================] - 25s 2ms/step - loss: 0.0027 - precision: 0.7436 - accuracy: 0.9988\n",
      "Epoch 31/50\n",
      "10198/10198 [==============================] - 25s 2ms/step - loss: 0.0027 - precision: 0.7513 - accuracy: 0.9988\n",
      "Epoch 32/50\n",
      "10198/10198 [==============================] - 23s 2ms/step - loss: 0.0027 - precision: 0.7381 - accuracy: 0.9988\n",
      "Epoch 33/50\n",
      "10198/10198 [==============================] - 23s 2ms/step - loss: 0.0027 - precision: 0.7319 - accuracy: 0.9988\n",
      "Epoch 34/50\n",
      "10198/10198 [==============================] - 23s 2ms/step - loss: 0.0027 - precision: 0.7473 - accuracy: 0.9988\n",
      "Epoch 35/50\n",
      "10198/10198 [==============================] - 23s 2ms/step - loss: 0.0027 - precision: 0.7351 - accuracy: 0.9988\n",
      "Epoch 36/50\n",
      "10198/10198 [==============================] - 23s 2ms/step - loss: 0.0027 - precision: 0.7474 - accuracy: 0.9988\n",
      "Epoch 37/50\n",
      "10198/10198 [==============================] - 27s 3ms/step - loss: 0.0026 - precision: 0.7359 - accuracy: 0.9988\n",
      "Epoch 38/50\n",
      "10198/10198 [==============================] - 22s 2ms/step - loss: 0.0026 - precision: 0.7315 - accuracy: 0.9988\n",
      "Epoch 39/50\n",
      "10198/10198 [==============================] - 21s 2ms/step - loss: 0.0026 - precision: 0.7487 - accuracy: 0.9988\n",
      "Epoch 40/50\n",
      "10198/10198 [==============================] - 26s 3ms/step - loss: 0.0025 - precision: 0.7458 - accuracy: 0.9988\n",
      "Epoch 41/50\n",
      "10198/10198 [==============================] - 24s 2ms/step - loss: 0.0026 - precision: 0.7367 - accuracy: 0.9988\n",
      "Epoch 42/50\n",
      "10198/10198 [==============================] - 23s 2ms/step - loss: 0.0025 - precision: 0.7513 - accuracy: 0.9989\n",
      "Epoch 43/50\n",
      "10198/10198 [==============================] - 23s 2ms/step - loss: 0.0025 - precision: 0.7545 - accuracy: 0.9989\n",
      "Epoch 44/50\n",
      "10198/10198 [==============================] - 23s 2ms/step - loss: 0.0025 - precision: 0.7573 - accuracy: 0.9989\n",
      "Epoch 45/50\n",
      "10198/10198 [==============================] - 25s 2ms/step - loss: 0.0024 - precision: 0.7654 - accuracy: 0.9989\n",
      "Epoch 46/50\n",
      "10198/10198 [==============================] - 30s 3ms/step - loss: 0.0024 - precision: 0.7645 - accuracy: 0.9989\n",
      "Epoch 47/50\n",
      "10198/10198 [==============================] - 29s 3ms/step - loss: 0.0024 - precision: 0.7662 - accuracy: 0.9989\n",
      "Epoch 48/50\n",
      "10198/10198 [==============================] - 25s 2ms/step - loss: 0.0023 - precision: 0.7892 - accuracy: 0.9990\n",
      "Epoch 49/50\n",
      "10198/10198 [==============================] - 26s 3ms/step - loss: 0.0022 - precision: 0.7893 - accuracy: 0.9990\n",
      "Epoch 50/50\n",
      "10198/10198 [==============================] - 28s 3ms/step - loss: 0.0021 - precision: 0.7855 - accuracy: 0.9991\n"
     ]
    },
    {
     "data": {
      "text/plain": [
       "<keras.callbacks.History at 0x7faad1439870>"
      ]
     },
     "execution_count": 8,
     "metadata": {},
     "output_type": "execute_result"
    }
   ],
   "source": [
    "tf_model.fit(x_train,y_train, epochs=50, batch_size=64, verbose=1)"
   ]
  },
  {
   "cell_type": "code",
   "execution_count": 9,
   "id": "4661b449-428f-43d0-96cd-0890daa5557c",
   "metadata": {},
   "outputs": [
    {
     "name": "stdout",
     "output_type": "stream",
     "text": [
      "8741/8741 [==============================] - 9s 1ms/step\n"
     ]
    }
   ],
   "source": [
    "y_prob = tf_model.predict(x_test)"
   ]
  },
  {
   "cell_type": "code",
   "execution_count": 10,
   "id": "4f810d0a-11f9-4172-be68-7bc0135c3dea",
   "metadata": {},
   "outputs": [
    {
     "name": "stdout",
     "output_type": "stream",
     "text": [
      "              precision    recall  f1-score   support\n",
      "\n",
      "           0       1.00      1.00      1.00    279081\n",
      "           1       0.95      0.63      0.76       620\n",
      "\n",
      "    accuracy                           1.00    279701\n",
      "   macro avg       0.98      0.81      0.88    279701\n",
      "weighted avg       1.00      1.00      1.00    279701\n",
      "\n",
      "        N    Y\n",
      "N  279062   19\n",
      "Y     232  388\n",
      "              precision    recall  f1-score   support\n",
      "\n",
      "           0       1.00      1.00      1.00    279081\n",
      "           1       0.87      0.80      0.83       620\n",
      "\n",
      "    accuracy                           1.00    279701\n",
      "   macro avg       0.93      0.90      0.92    279701\n",
      "weighted avg       1.00      1.00      1.00    279701\n",
      "\n",
      "        N    Y\n",
      "N  279007   74\n",
      "Y     125  495\n",
      "              precision    recall  f1-score   support\n",
      "\n",
      "           0       1.00      1.00      1.00    279081\n",
      "           1       0.70      0.95      0.80       620\n",
      "\n",
      "    accuracy                           1.00    279701\n",
      "   macro avg       0.85      0.97      0.90    279701\n",
      "weighted avg       1.00      1.00      1.00    279701\n",
      "\n",
      "        N    Y\n",
      "N  278825  256\n",
      "Y      33  587\n"
     ]
    }
   ],
   "source": [
    "y_pred = list(map(lambda x: x>0.5, y_prob))\n",
    "print_2_reports(y_test,y_pred)\n",
    "\n",
    "y_pred = list(map(lambda x: x>0.25, y_prob))\n",
    "print_2_reports(y_test,y_pred)\n",
    "\n",
    "y_pred = list(map(lambda x: x>0.05, y_prob))\n",
    "print_2_reports(y_test,y_pred)"
   ]
  },
  {
   "cell_type": "code",
   "execution_count": null,
   "id": "1ffe203d-3f24-40fb-89f9-a737573e1e4a",
   "metadata": {},
   "outputs": [],
   "source": []
  },
  {
   "cell_type": "markdown",
   "id": "9a6624f3-a8ef-4212-b253-9d3da419d862",
   "metadata": {},
   "source": [
    "----"
   ]
  },
  {
   "cell_type": "markdown",
   "id": "ad3a2d07-1413-445d-ac35-2a1a9124cc32",
   "metadata": {},
   "source": [
    "## 5 layer model"
   ]
  },
  {
   "cell_type": "markdown",
   "id": "480dba19-812f-468a-a7db-9114a56451dd",
   "metadata": {},
   "source": [
    "---"
   ]
  },
  {
   "cell_type": "code",
   "execution_count": 11,
   "id": "2a600bcf-3343-42ce-939c-fae59157795d",
   "metadata": {
    "scrolled": true
   },
   "outputs": [
    {
     "name": "stdout",
     "output_type": "stream",
     "text": [
      "Epoch 1/25\n",
      "5099/5099 [==============================] - 12s 2ms/step - loss: 0.0028 - precision: 0.7219 - accuracy: 0.9987\n",
      "Epoch 2/25\n",
      "5099/5099 [==============================] - 13s 2ms/step - loss: 0.0029 - precision: 0.7076 - accuracy: 0.9987\n",
      "Epoch 3/25\n",
      "5099/5099 [==============================] - 12s 2ms/step - loss: 0.0028 - precision: 0.7205 - accuracy: 0.9987\n",
      "Epoch 4/25\n",
      "5099/5099 [==============================] - 12s 2ms/step - loss: 0.0028 - precision: 0.7222 - accuracy: 0.9987\n",
      "Epoch 5/25\n",
      "5099/5099 [==============================] - 12s 2ms/step - loss: 0.0028 - precision: 0.7264 - accuracy: 0.9988\n",
      "Epoch 6/25\n",
      "5099/5099 [==============================] - 12s 2ms/step - loss: 0.0027 - precision: 0.7435 - accuracy: 0.9988\n",
      "Epoch 7/25\n",
      "5099/5099 [==============================] - 13s 3ms/step - loss: 0.0027 - precision: 0.7331 - accuracy: 0.9988\n",
      "Epoch 8/25\n",
      "5099/5099 [==============================] - 14s 3ms/step - loss: 0.0026 - precision: 0.7408 - accuracy: 0.9988\n",
      "Epoch 9/25\n",
      "5099/5099 [==============================] - 13s 2ms/step - loss: 0.0027 - precision: 0.7310 - accuracy: 0.9988\n",
      "Epoch 10/25\n",
      "5099/5099 [==============================] - 13s 3ms/step - loss: 0.0026 - precision: 0.7400 - accuracy: 0.9988\n",
      "Epoch 11/25\n",
      "5099/5099 [==============================] - 12s 2ms/step - loss: 0.0026 - precision: 0.7509 - accuracy: 0.9989\n",
      "Epoch 12/25\n",
      "5099/5099 [==============================] - 12s 2ms/step - loss: 0.0026 - precision: 0.7393 - accuracy: 0.9988\n",
      "Epoch 13/25\n",
      "5099/5099 [==============================] - 12s 2ms/step - loss: 0.0026 - precision: 0.7467 - accuracy: 0.9989\n",
      "Epoch 14/25\n",
      "5099/5099 [==============================] - 12s 2ms/step - loss: 0.0025 - precision: 0.7408 - accuracy: 0.9988\n",
      "Epoch 15/25\n",
      "5099/5099 [==============================] - 12s 2ms/step - loss: 0.0025 - precision: 0.7458 - accuracy: 0.9989\n",
      "Epoch 16/25\n",
      "5099/5099 [==============================] - 12s 2ms/step - loss: 0.0025 - precision: 0.7525 - accuracy: 0.9989\n",
      "Epoch 17/25\n",
      "5099/5099 [==============================] - 12s 2ms/step - loss: 0.0025 - precision: 0.7444 - accuracy: 0.9989\n",
      "Epoch 18/25\n",
      "5099/5099 [==============================] - 12s 2ms/step - loss: 0.0025 - precision: 0.7516 - accuracy: 0.9989\n",
      "Epoch 19/25\n",
      "5099/5099 [==============================] - 12s 2ms/step - loss: 0.0025 - precision: 0.7418 - accuracy: 0.9989\n",
      "Epoch 20/25\n",
      "5099/5099 [==============================] - 12s 2ms/step - loss: 0.0025 - precision: 0.7495 - accuracy: 0.9989\n",
      "Epoch 21/25\n",
      "5099/5099 [==============================] - 12s 2ms/step - loss: 0.0024 - precision: 0.7593 - accuracy: 0.9989\n",
      "Epoch 22/25\n",
      "5099/5099 [==============================] - 12s 2ms/step - loss: 0.0024 - precision: 0.7632 - accuracy: 0.9989\n",
      "Epoch 23/25\n",
      "5099/5099 [==============================] - 12s 2ms/step - loss: 0.0024 - precision: 0.7562 - accuracy: 0.9989\n",
      "Epoch 24/25\n",
      "5099/5099 [==============================] - 12s 2ms/step - loss: 0.0024 - precision: 0.7676 - accuracy: 0.9990\n",
      "Epoch 25/25\n",
      "5099/5099 [==============================] - 12s 2ms/step - loss: 0.0024 - precision: 0.7618 - accuracy: 0.9989\n"
     ]
    },
    {
     "data": {
      "text/plain": [
       "<keras.callbacks.History at 0x7f1cbb344820>"
      ]
     },
     "execution_count": 11,
     "metadata": {},
     "output_type": "execute_result"
    }
   ],
   "source": [
    "tf_model.fit(x_train,y_train, epochs=25, batch_size=128, verbose=1)"
   ]
  },
  {
   "cell_type": "code",
   "execution_count": 12,
   "id": "be005606-4b13-465d-9c07-bede413d3d93",
   "metadata": {},
   "outputs": [
    {
     "name": "stdout",
     "output_type": "stream",
     "text": [
      "8741/8741 [==============================] - 8s 871us/step\n"
     ]
    }
   ],
   "source": [
    "y_prob = tf_model.predict(x_test)"
   ]
  },
  {
   "cell_type": "code",
   "execution_count": 15,
   "id": "46ac9686-585e-4837-a6ca-e6c7c68d2c08",
   "metadata": {},
   "outputs": [
    {
     "name": "stdout",
     "output_type": "stream",
     "text": [
      "              precision    recall  f1-score   support\n",
      "\n",
      "           0       1.00      1.00      1.00    279081\n",
      "           1       0.76      0.86      0.81       620\n",
      "\n",
      "    accuracy                           1.00    279701\n",
      "   macro avg       0.88      0.93      0.90    279701\n",
      "weighted avg       1.00      1.00      1.00    279701\n",
      "\n",
      "        N    Y\n",
      "N  278916  165\n",
      "Y      89  531\n",
      "              precision    recall  f1-score   support\n",
      "\n",
      "           0       1.00      1.00      1.00    279081\n",
      "           1       0.64      0.95      0.77       620\n",
      "\n",
      "    accuracy                           1.00    279701\n",
      "   macro avg       0.82      0.97      0.88    279701\n",
      "weighted avg       1.00      1.00      1.00    279701\n",
      "\n",
      "        N    Y\n",
      "N  278755  326\n",
      "Y      31  589\n",
      "              precision    recall  f1-score   support\n",
      "\n",
      "           0       1.00      1.00      1.00    279081\n",
      "           1       0.47      1.00      0.64       620\n",
      "\n",
      "    accuracy                           1.00    279701\n",
      "   macro avg       0.73      1.00      0.82    279701\n",
      "weighted avg       1.00      1.00      1.00    279701\n",
      "\n",
      "        N    Y\n",
      "N  278374  707\n",
      "Y       1  619\n"
     ]
    }
   ],
   "source": [
    "y_pred = list(map(lambda x: x>0.5, y_prob))\n",
    "print_2_reports(y_test,y_pred)\n",
    "\n",
    "y_pred = list(map(lambda x: x>0.25, y_prob))\n",
    "print_2_reports(y_test,y_pred)\n",
    "\n",
    "y_pred = list(map(lambda x: x>0.05, y_prob))\n",
    "print_2_reports(y_test,y_pred)"
   ]
  },
  {
   "cell_type": "code",
   "execution_count": null,
   "id": "a17c2e1f-6dd3-4416-abb8-dbe988f75a7a",
   "metadata": {},
   "outputs": [],
   "source": []
  },
  {
   "cell_type": "markdown",
   "id": "f21126eb-94c1-409c-a559-c74fbf038390",
   "metadata": {},
   "source": [
    "Em especial para chegar no modelo de rede escolhido passamos pelas seguintes iterações:\n",
    "\n",
    "| loss | opt  | ll act  | metric    | dropout    | layers   | data      | epoch | batch    |\n",
    "| ---- | ---- | ------- | --------- | ---------- | -------- | --------- | ----- | -------- |\n",
    "| BC   | rms  | sigmoid | 143/620   | True       | 2 layers | no sigmas | ~30   | no notes |\n",
    "| mse  | adam | sigmoid | 134/620   | True       | 2 layers | no sigmas | ~30   | no notes |\n",
    "| BC   | adam | sigmoid | 49/620    | True       | 2 layers | no sigmas | ~30   | no notes |\n",
    "| BC   | adam | sigmoid | 58-12/620 | True       | 2 layers | no sigmas | ~30   | no notes |\n",
    "| BC   | adam | sigmoid | 78-54/620 | no dropout | 1 layer  | no sigmas | ~30   | no notes |\n",
    "| BC   | adam | sigmoid | 26-5/620  | no dropout | 2 layers | no sigmas | ~30   | no notes |\n",
    "| BC   | adam | sigmoid | 48-18/620 | no dropout | 3 layers | no sigmas | ~30   | no notes |\n",
    "| BC   | adam | sigmoid | 40-15/620 | no dropout | 2 layers | full data | ~30   | no notes |\n",
    "| BC   | adam | sigmoid | 18-9/620  | no dropout | 3 layers | full data | ~30   | no notes |\n",
    "| BC   | adam | tanh    | 120/620   | no dropout | 3 layers | full data | ~30   | no notes |\n",
    "| BC   | adam | sigmoid | 5-1/620   | no dropout | 3 layers | full data | 20    | 128      |\n",
    "| BC   | adam | sigmoid | 5-1/620   | no dropout | 3 layers | full data | 40    | 128      |\n",
    "| BC   | adam | sigmoid | 5-1/620   | no dropout | 3 layers | full data | 40    | 64       |"
   ]
  },
  {
   "cell_type": "markdown",
   "id": "c975832a-8efb-4adf-8266-c61b9a9eaeb0",
   "metadata": {},
   "source": [
    "-----"
   ]
  },
  {
   "cell_type": "code",
   "execution_count": 41,
   "id": "abcc5c6d-1db4-463f-b3ab-46083fa22252",
   "metadata": {},
   "outputs": [],
   "source": [
    "tf.random.set_seed(2023)\n",
    "tf_model = declare_model([16,16,10])"
   ]
  },
  {
   "cell_type": "code",
   "execution_count": 42,
   "id": "427ffd5b-9464-4869-8712-b0f0ff3726e0",
   "metadata": {},
   "outputs": [
    {
     "ename": "AttributeError",
     "evalue": "'Sequential' object has no attribute 'n_params'",
     "output_type": "error",
     "traceback": [
      "\u001b[0;31m---------------------------------------------------------------------------\u001b[0m",
      "\u001b[0;31mAttributeError\u001b[0m                            Traceback (most recent call last)",
      "Cell \u001b[0;32mIn[42], line 1\u001b[0m\n\u001b[0;32m----> 1\u001b[0m \u001b[43mtf_model\u001b[49m\u001b[38;5;241;43m.\u001b[39;49m\u001b[43mn_params\u001b[49m()\n",
      "\u001b[0;31mAttributeError\u001b[0m: 'Sequential' object has no attribute 'n_params'"
     ]
    }
   ],
   "source": [
    "tf_model.n_params()"
   ]
  },
  {
   "cell_type": "code",
   "execution_count": 16,
   "id": "1dd1c4fe-d073-4859-a5a5-504f725e0a96",
   "metadata": {
    "scrolled": true
   },
   "outputs": [
    {
     "name": "stdout",
     "output_type": "stream",
     "text": [
      "Epoch 1/100\n",
      "10198/10198 [==============================] - 27s 3ms/step - loss: 0.0085 - precision_1: 0.0000e+00 - accuracy: 0.9978\n",
      "Epoch 2/100\n",
      "10198/10198 [==============================] - 24s 2ms/step - loss: 0.0052 - precision_1: 0.0000e+00 - accuracy: 0.9978\n",
      "Epoch 3/100\n",
      "10198/10198 [==============================] - 28s 3ms/step - loss: 0.0047 - precision_1: 0.6591 - accuracy: 0.9978\n",
      "Epoch 4/100\n",
      "10198/10198 [==============================] - 27s 3ms/step - loss: 0.0045 - precision_1: 0.5290 - accuracy: 0.9978\n",
      "Epoch 5/100\n",
      "10198/10198 [==============================] - 27s 3ms/step - loss: 0.0044 - precision_1: 0.5446 - accuracy: 0.9978\n",
      "Epoch 6/100\n",
      "10198/10198 [==============================] - 28s 3ms/step - loss: 0.0042 - precision_1: 0.5552 - accuracy: 0.9979\n",
      "Epoch 7/100\n",
      "10198/10198 [==============================] - 26s 3ms/step - loss: 0.0041 - precision_1: 0.5785 - accuracy: 0.9980\n",
      "Epoch 8/100\n",
      "10198/10198 [==============================] - 25s 2ms/step - loss: 0.0040 - precision_1: 0.5971 - accuracy: 0.9981\n",
      "Epoch 9/100\n",
      "10198/10198 [==============================] - 25s 2ms/step - loss: 0.0038 - precision_1: 0.6092 - accuracy: 0.9981\n",
      "Epoch 10/100\n",
      "10198/10198 [==============================] - 26s 3ms/step - loss: 0.0038 - precision_1: 0.6168 - accuracy: 0.9982\n",
      "Epoch 11/100\n",
      "10198/10198 [==============================] - 29s 3ms/step - loss: 0.0036 - precision_1: 0.6325 - accuracy: 0.9983\n",
      "Epoch 12/100\n",
      "10198/10198 [==============================] - 25s 2ms/step - loss: 0.0035 - precision_1: 0.6462 - accuracy: 0.9983\n",
      "Epoch 13/100\n",
      "10198/10198 [==============================] - 25s 2ms/step - loss: 0.0034 - precision_1: 0.6773 - accuracy: 0.9985\n",
      "Epoch 14/100\n",
      "10198/10198 [==============================] - 28s 3ms/step - loss: 0.0032 - precision_1: 0.6987 - accuracy: 0.9986\n",
      "Epoch 15/100\n",
      "10198/10198 [==============================] - 28s 3ms/step - loss: 0.0031 - precision_1: 0.6840 - accuracy: 0.9985\n",
      "Epoch 16/100\n",
      "10198/10198 [==============================] - 26s 3ms/step - loss: 0.0030 - precision_1: 0.7061 - accuracy: 0.9986\n",
      "Epoch 17/100\n",
      "10198/10198 [==============================] - 27s 3ms/step - loss: 0.0028 - precision_1: 0.7228 - accuracy: 0.9987\n",
      "Epoch 18/100\n",
      "10198/10198 [==============================] - 28s 3ms/step - loss: 0.0027 - precision_1: 0.7457 - accuracy: 0.9988\n",
      "Epoch 19/100\n",
      "10198/10198 [==============================] - 26s 3ms/step - loss: 0.0025 - precision_1: 0.7592 - accuracy: 0.9989\n",
      "Epoch 20/100\n",
      "10198/10198 [==============================] - 26s 3ms/step - loss: 0.0024 - precision_1: 0.7668 - accuracy: 0.9989\n",
      "Epoch 21/100\n",
      "10198/10198 [==============================] - 26s 3ms/step - loss: 0.0023 - precision_1: 0.7839 - accuracy: 0.9990\n",
      "Epoch 22/100\n",
      "10198/10198 [==============================] - 26s 3ms/step - loss: 0.0023 - precision_1: 0.7811 - accuracy: 0.9990\n",
      "Epoch 23/100\n",
      "10198/10198 [==============================] - 27s 3ms/step - loss: 0.0021 - precision_1: 0.7949 - accuracy: 0.9990\n",
      "Epoch 24/100\n",
      "10198/10198 [==============================] - 29s 3ms/step - loss: 0.0022 - precision_1: 0.8063 - accuracy: 0.9991\n",
      "Epoch 25/100\n",
      "10198/10198 [==============================] - 26s 3ms/step - loss: 0.0020 - precision_1: 0.8148 - accuracy: 0.9991\n",
      "Epoch 26/100\n",
      "10198/10198 [==============================] - 25s 2ms/step - loss: 0.0020 - precision_1: 0.8155 - accuracy: 0.9991\n",
      "Epoch 27/100\n",
      "10198/10198 [==============================] - 25s 2ms/step - loss: 0.0019 - precision_1: 0.8254 - accuracy: 0.9992\n",
      "Epoch 28/100\n",
      "10198/10198 [==============================] - 27s 3ms/step - loss: 0.0020 - precision_1: 0.8049 - accuracy: 0.9991\n",
      "Epoch 29/100\n",
      "10198/10198 [==============================] - 27s 3ms/step - loss: 0.0019 - precision_1: 0.8214 - accuracy: 0.9992\n",
      "Epoch 30/100\n",
      "10198/10198 [==============================] - 27s 3ms/step - loss: 0.0019 - precision_1: 0.8216 - accuracy: 0.9992\n",
      "Epoch 31/100\n",
      "10198/10198 [==============================] - 27s 3ms/step - loss: 0.0019 - precision_1: 0.8145 - accuracy: 0.9992\n",
      "Epoch 32/100\n",
      "10198/10198 [==============================] - 26s 3ms/step - loss: 0.0018 - precision_1: 0.8336 - accuracy: 0.9992\n",
      "Epoch 33/100\n",
      "10198/10198 [==============================] - 27s 3ms/step - loss: 0.0019 - precision_1: 0.8300 - accuracy: 0.9992\n",
      "Epoch 34/100\n",
      "10198/10198 [==============================] - 29s 3ms/step - loss: 0.0018 - precision_1: 0.8339 - accuracy: 0.9992\n",
      "Epoch 35/100\n",
      "10198/10198 [==============================] - 26s 3ms/step - loss: 0.0018 - precision_1: 0.8233 - accuracy: 0.9992\n",
      "Epoch 36/100\n",
      "10198/10198 [==============================] - 29s 3ms/step - loss: 0.0018 - precision_1: 0.8288 - accuracy: 0.9992\n",
      "Epoch 37/100\n",
      "10198/10198 [==============================] - 28s 3ms/step - loss: 0.0017 - precision_1: 0.8374 - accuracy: 0.9993\n",
      "Epoch 38/100\n",
      "10198/10198 [==============================] - 28s 3ms/step - loss: 0.0017 - precision_1: 0.8302 - accuracy: 0.9993\n",
      "Epoch 39/100\n",
      "10198/10198 [==============================] - 26s 3ms/step - loss: 0.0017 - precision_1: 0.8346 - accuracy: 0.9993\n",
      "Epoch 40/100\n",
      "10198/10198 [==============================] - 29s 3ms/step - loss: 0.0016 - precision_1: 0.8365 - accuracy: 0.9993\n",
      "Epoch 41/100\n",
      "10198/10198 [==============================] - 26s 3ms/step - loss: 0.0017 - precision_1: 0.8401 - accuracy: 0.9993\n",
      "Epoch 42/100\n",
      "10198/10198 [==============================] - 27s 3ms/step - loss: 0.0017 - precision_1: 0.8285 - accuracy: 0.9992\n",
      "Epoch 43/100\n",
      "10198/10198 [==============================] - 29s 3ms/step - loss: 0.0016 - precision_1: 0.8428 - accuracy: 0.9993\n",
      "Epoch 44/100\n",
      "10198/10198 [==============================] - 29s 3ms/step - loss: 0.0016 - precision_1: 0.8449 - accuracy: 0.9993\n",
      "Epoch 45/100\n",
      "10198/10198 [==============================] - 31s 3ms/step - loss: 0.0016 - precision_1: 0.8483 - accuracy: 0.9993\n",
      "Epoch 46/100\n",
      "10198/10198 [==============================] - 28s 3ms/step - loss: 0.0016 - precision_1: 0.8537 - accuracy: 0.9993\n",
      "Epoch 47/100\n",
      "10198/10198 [==============================] - 29s 3ms/step - loss: 0.0017 - precision_1: 0.8298 - accuracy: 0.9993\n",
      "Epoch 48/100\n",
      "10198/10198 [==============================] - 30s 3ms/step - loss: 0.0016 - precision_1: 0.8398 - accuracy: 0.9993\n",
      "Epoch 49/100\n",
      "10198/10198 [==============================] - 31s 3ms/step - loss: 0.0016 - precision_1: 0.8457 - accuracy: 0.9993\n",
      "Epoch 50/100\n",
      "10198/10198 [==============================] - 33s 3ms/step - loss: 0.0016 - precision_1: 0.8442 - accuracy: 0.9993\n",
      "Epoch 51/100\n",
      "10198/10198 [==============================] - 30s 3ms/step - loss: 0.0016 - precision_1: 0.8462 - accuracy: 0.9993\n",
      "Epoch 52/100\n",
      "10198/10198 [==============================] - 26s 3ms/step - loss: 0.0016 - precision_1: 0.8358 - accuracy: 0.9993\n",
      "Epoch 53/100\n",
      "10198/10198 [==============================] - 28s 3ms/step - loss: 0.0015 - precision_1: 0.8441 - accuracy: 0.9993\n",
      "Epoch 54/100\n",
      "10198/10198 [==============================] - 27s 3ms/step - loss: 0.0015 - precision_1: 0.8516 - accuracy: 0.9993\n",
      "Epoch 55/100\n",
      "10198/10198 [==============================] - 30s 3ms/step - loss: 0.0016 - precision_1: 0.8442 - accuracy: 0.9993\n",
      "Epoch 56/100\n",
      "10198/10198 [==============================] - 26s 3ms/step - loss: 0.0016 - precision_1: 0.8674 - accuracy: 0.9994\n",
      "Epoch 57/100\n",
      "10198/10198 [==============================] - 24s 2ms/step - loss: 0.0015 - precision_1: 0.8668 - accuracy: 0.9994\n",
      "Epoch 58/100\n",
      "10198/10198 [==============================] - 24s 2ms/step - loss: 0.0016 - precision_1: 0.8509 - accuracy: 0.9993\n",
      "Epoch 59/100\n",
      "10198/10198 [==============================] - 24s 2ms/step - loss: 0.0015 - precision_1: 0.8607 - accuracy: 0.9994\n",
      "Epoch 60/100\n",
      "10198/10198 [==============================] - 24s 2ms/step - loss: 0.0015 - precision_1: 0.8570 - accuracy: 0.9993\n",
      "Epoch 61/100\n",
      "10198/10198 [==============================] - 24s 2ms/step - loss: 0.0015 - precision_1: 0.8709 - accuracy: 0.9994\n",
      "Epoch 62/100\n",
      "10198/10198 [==============================] - 25s 2ms/step - loss: 0.0014 - precision_1: 0.8669 - accuracy: 0.9994\n",
      "Epoch 63/100\n",
      "10198/10198 [==============================] - 28s 3ms/step - loss: 0.0015 - precision_1: 0.8646 - accuracy: 0.9994\n",
      "Epoch 64/100\n",
      "10198/10198 [==============================] - 31s 3ms/step - loss: 0.0014 - precision_1: 0.8708 - accuracy: 0.9994\n",
      "Epoch 65/100\n",
      "10198/10198 [==============================] - 109s 11ms/step - loss: 0.0014 - precision_1: 0.8676 - accuracy: 0.9994\n",
      "Epoch 66/100\n",
      "10198/10198 [==============================] - 117s 11ms/step - loss: 0.0014 - precision_1: 0.8534 - accuracy: 0.9994\n",
      "Epoch 67/100\n",
      "10198/10198 [==============================] - 123s 12ms/step - loss: 0.0015 - precision_1: 0.8489 - accuracy: 0.9994\n",
      "Epoch 68/100\n",
      "10198/10198 [==============================] - 107s 10ms/step - loss: 0.0014 - precision_1: 0.8640 - accuracy: 0.9994\n",
      "Epoch 69/100\n",
      "10198/10198 [==============================] - 105s 10ms/step - loss: 0.0015 - precision_1: 0.8576 - accuracy: 0.9994\n",
      "Epoch 70/100\n",
      "10198/10198 [==============================] - 33s 3ms/step - loss: 0.0013 - precision_1: 0.8714 - accuracy: 0.9994\n",
      "Epoch 71/100\n",
      "10198/10198 [==============================] - 30s 3ms/step - loss: 0.0014 - precision_1: 0.8765 - accuracy: 0.9994\n",
      "Epoch 72/100\n",
      "10198/10198 [==============================] - 27s 3ms/step - loss: 0.0014 - precision_1: 0.8691 - accuracy: 0.9994\n",
      "Epoch 73/100\n",
      "10198/10198 [==============================] - 25s 2ms/step - loss: 0.0015 - precision_1: 0.8735 - accuracy: 0.9994\n",
      "Epoch 74/100\n",
      "10198/10198 [==============================] - 30s 3ms/step - loss: 0.0014 - precision_1: 0.8736 - accuracy: 0.9994\n",
      "Epoch 75/100\n",
      "10198/10198 [==============================] - 26s 3ms/step - loss: 0.0014 - precision_1: 0.8684 - accuracy: 0.9994\n",
      "Epoch 76/100\n",
      "10198/10198 [==============================] - 28s 3ms/step - loss: 0.0014 - precision_1: 0.8736 - accuracy: 0.9994\n",
      "Epoch 77/100\n",
      "10198/10198 [==============================] - 29s 3ms/step - loss: 0.0014 - precision_1: 0.8643 - accuracy: 0.9994\n",
      "Epoch 78/100\n",
      "10198/10198 [==============================] - 29s 3ms/step - loss: 0.0013 - precision_1: 0.8812 - accuracy: 0.9994\n",
      "Epoch 79/100\n",
      "10198/10198 [==============================] - 29s 3ms/step - loss: 0.0014 - precision_1: 0.8722 - accuracy: 0.9994\n",
      "Epoch 80/100\n",
      "10198/10198 [==============================] - 28s 3ms/step - loss: 0.0014 - precision_1: 0.8804 - accuracy: 0.9994\n",
      "Epoch 81/100\n",
      "10198/10198 [==============================] - 29s 3ms/step - loss: 0.0013 - precision_1: 0.8792 - accuracy: 0.9994\n",
      "Epoch 82/100\n",
      "10198/10198 [==============================] - 28s 3ms/step - loss: 0.0014 - precision_1: 0.8651 - accuracy: 0.9994\n",
      "Epoch 83/100\n",
      "10198/10198 [==============================] - 29s 3ms/step - loss: 0.0013 - precision_1: 0.8785 - accuracy: 0.9994\n",
      "Epoch 84/100\n",
      "10198/10198 [==============================] - 28s 3ms/step - loss: 0.0013 - precision_1: 0.8781 - accuracy: 0.9994\n",
      "Epoch 85/100\n",
      "10198/10198 [==============================] - 29s 3ms/step - loss: 0.0013 - precision_1: 0.8768 - accuracy: 0.9994\n",
      "Epoch 86/100\n",
      "10198/10198 [==============================] - 29s 3ms/step - loss: 0.0013 - precision_1: 0.8689 - accuracy: 0.9994\n",
      "Epoch 87/100\n",
      "10198/10198 [==============================] - 28s 3ms/step - loss: 0.0014 - precision_1: 0.8714 - accuracy: 0.9994\n",
      "Epoch 88/100\n",
      "10198/10198 [==============================] - 28s 3ms/step - loss: 0.0013 - precision_1: 0.8828 - accuracy: 0.9994\n",
      "Epoch 89/100\n",
      "10198/10198 [==============================] - 29s 3ms/step - loss: 0.0014 - precision_1: 0.8653 - accuracy: 0.9994\n",
      "Epoch 90/100\n",
      "10198/10198 [==============================] - 29s 3ms/step - loss: 0.0013 - precision_1: 0.8779 - accuracy: 0.9995\n",
      "Epoch 91/100\n",
      "10198/10198 [==============================] - 28s 3ms/step - loss: 0.0013 - precision_1: 0.8746 - accuracy: 0.9994\n",
      "Epoch 92/100\n",
      "10198/10198 [==============================] - 29s 3ms/step - loss: 0.0013 - precision_1: 0.8877 - accuracy: 0.9995\n",
      "Epoch 93/100\n",
      "10198/10198 [==============================] - 28s 3ms/step - loss: 0.0013 - precision_1: 0.8870 - accuracy: 0.9995\n",
      "Epoch 94/100\n",
      "10198/10198 [==============================] - 28s 3ms/step - loss: 0.0013 - precision_1: 0.8916 - accuracy: 0.9995\n",
      "Epoch 95/100\n",
      "10198/10198 [==============================] - 31s 3ms/step - loss: 0.0013 - precision_1: 0.8831 - accuracy: 0.9995\n",
      "Epoch 96/100\n",
      "10198/10198 [==============================] - 27s 3ms/step - loss: 0.0013 - precision_1: 0.8855 - accuracy: 0.9995\n",
      "Epoch 97/100\n",
      "10198/10198 [==============================] - 27s 3ms/step - loss: 0.0013 - precision_1: 0.8787 - accuracy: 0.9994\n",
      "Epoch 98/100\n",
      "10198/10198 [==============================] - 29s 3ms/step - loss: 0.0012 - precision_1: 0.8861 - accuracy: 0.9995\n",
      "Epoch 99/100\n",
      "10198/10198 [==============================] - 29s 3ms/step - loss: 0.0012 - precision_1: 0.8830 - accuracy: 0.9995\n",
      "Epoch 100/100\n",
      "10198/10198 [==============================] - 27s 3ms/step - loss: 0.0013 - precision_1: 0.8811 - accuracy: 0.9995\n"
     ]
    },
    {
     "data": {
      "text/plain": [
       "<keras.callbacks.History at 0x7f1cbb344f70>"
      ]
     },
     "execution_count": 16,
     "metadata": {},
     "output_type": "execute_result"
    }
   ],
   "source": [
    "tf_model.fit(x_train,y_train, epochs=100, batch_size=64, verbose=1)"
   ]
  },
  {
   "cell_type": "code",
   "execution_count": null,
   "id": "720b71fb-a1e9-4dd1-aa54-19c6c1d2ee27",
   "metadata": {},
   "outputs": [],
   "source": [
    "y_prob = tf_model.predict(x_test)"
   ]
  },
  {
   "cell_type": "code",
   "execution_count": null,
   "id": "5c178daa-7cf4-4be4-bda9-7d3250c3c6cf",
   "metadata": {},
   "outputs": [],
   "source": [
    "plot_false_negative_rate(y_test,y_prob)"
   ]
  },
  {
   "cell_type": "code",
   "execution_count": 23,
   "id": "3304a792-bd31-46d5-b03d-7ddb3dbdc663",
   "metadata": {},
   "outputs": [
    {
     "name": "stdout",
     "output_type": "stream",
     "text": [
      "              precision    recall  f1-score   support\n",
      "\n",
      "           0       1.00      1.00      1.00    279081\n",
      "           1       0.92      0.95      0.93       620\n",
      "\n",
      "    accuracy                           1.00    279701\n",
      "   macro avg       0.96      0.98      0.97    279701\n",
      "weighted avg       1.00      1.00      1.00    279701\n",
      "\n",
      "        N    Y\n",
      "N  279028   53\n",
      "Y      30  590\n",
      "              precision    recall  f1-score   support\n",
      "\n",
      "           0       1.00      1.00      1.00    279081\n",
      "           1       0.78      0.99      0.87       620\n",
      "\n",
      "    accuracy                           1.00    279701\n",
      "   macro avg       0.89      1.00      0.94    279701\n",
      "weighted avg       1.00      1.00      1.00    279701\n",
      "\n",
      "        N    Y\n",
      "N  278907  174\n",
      "Y       5  615\n"
     ]
    }
   ],
   "source": [
    "y_pred = list(map(lambda x: x>0.5, y_prob))\n",
    "print_2_reports(y_test,y_pred)\n",
    "\n",
    "y_pred = list(map(lambda x: x>0.25, y_prob))\n",
    "print_2_reports(y_test,y_pred)"
   ]
  },
  {
   "cell_type": "code",
   "execution_count": 22,
   "id": "921bfbc9-9d1a-46e6-b401-a58dc6183362",
   "metadata": {},
   "outputs": [
    {
     "name": "stdout",
     "output_type": "stream",
     "text": [
      "              precision    recall  f1-score   support\n",
      "\n",
      "           0       1.00      1.00      1.00    279081\n",
      "           1       0.72      1.00      0.84       620\n",
      "\n",
      "    accuracy                           1.00    279701\n",
      "   macro avg       0.86      1.00      0.92    279701\n",
      "weighted avg       1.00      1.00      1.00    279701\n",
      "\n",
      "        N    Y\n",
      "N  278838  243\n",
      "Y       1  619\n",
      "              precision    recall  f1-score   support\n",
      "\n",
      "           0       1.00      1.00      1.00    279081\n",
      "           1       0.62      1.00      0.77       620\n",
      "\n",
      "    accuracy                           1.00    279701\n",
      "   macro avg       0.81      1.00      0.88    279701\n",
      "weighted avg       1.00      1.00      1.00    279701\n",
      "\n",
      "        N    Y\n",
      "N  278704  377\n",
      "Y       0  620\n"
     ]
    }
   ],
   "source": [
    "y_pred = list(map(lambda x: x>0.15, y_prob))\n",
    "print_2_reports(y_test,y_pred)\n",
    "\n",
    "y_pred = list(map(lambda x: x>0.05, y_prob))\n",
    "print_2_reports(y_test,y_pred)"
   ]
  },
  {
   "cell_type": "markdown",
   "id": "7f8ff3d1-03ba-4007-9b54-2625b2cb6097",
   "metadata": {},
   "source": [
    "\n",
    "279028   53\n",
    "    30  590\n",
    "278838  243\n",
    "     1  619\n",
    "278704  377\n",
    "     0  620"
   ]
  }
 ],
 "metadata": {
  "kernelspec": {
   "display_name": "Python 3 (ipykernel)",
   "language": "python",
   "name": "python3"
  },
  "language_info": {
   "codemirror_mode": {
    "name": "ipython",
    "version": 3
   },
   "file_extension": ".py",
   "mimetype": "text/x-python",
   "name": "python",
   "nbconvert_exporter": "python",
   "pygments_lexer": "ipython3",
   "version": "3.10.11"
  }
 },
 "nbformat": 4,
 "nbformat_minor": 5
}
