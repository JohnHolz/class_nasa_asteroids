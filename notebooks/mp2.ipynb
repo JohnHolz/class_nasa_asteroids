{
 "cells": [
  {
   "cell_type": "code",
   "execution_count": 1,
   "id": "1dfa243d-4ef5-4fe0-b21e-e9b90021d37b",
   "metadata": {},
   "outputs": [
    {
     "ename": "ModuleNotFoundError",
     "evalue": "No module named 'modules'",
     "output_type": "error",
     "traceback": [
      "\u001b[0;31m---------------------------------------------------------------------------\u001b[0m",
      "\u001b[0;31mModuleNotFoundError\u001b[0m                       Traceback (most recent call last)",
      "Cell \u001b[0;32mIn[1], line 2\u001b[0m\n\u001b[1;32m      1\u001b[0m \u001b[38;5;66;03m## it’s mine, my own, \u001b[39;00m\n\u001b[0;32m----> 2\u001b[0m \u001b[38;5;28;01mfrom\u001b[39;00m \u001b[38;5;21;01mmodules\u001b[39;00m\u001b[38;5;21;01m.\u001b[39;00m\u001b[38;5;21;01mget_data\u001b[39;00m \u001b[38;5;28;01mimport\u001b[39;00m get_x_y\n\u001b[1;32m      3\u001b[0m \u001b[38;5;28;01mfrom\u001b[39;00m \u001b[38;5;21;01mjh_utils\u001b[39;00m\u001b[38;5;21;01m.\u001b[39;00m\u001b[38;5;21;01mdata\u001b[39;00m\u001b[38;5;21;01m.\u001b[39;00m\u001b[38;5;21;01mpandas\u001b[39;00m\u001b[38;5;21;01m.\u001b[39;00m\u001b[38;5;21;01mpreprocessing\u001b[39;00m \u001b[38;5;28;01mimport\u001b[39;00m make_dummies\n",
      "\u001b[0;31mModuleNotFoundError\u001b[0m: No module named 'modules'"
     ]
    }
   ],
   "source": [
    "## it’s mine, my own, \n",
    "from modules.get_data import get_x_y\n",
    "from jh_utils.data.pandas.preprocessing import make_dummies"
   ]
  },
  {
   "cell_type": "code",
   "execution_count": 7,
   "id": "75d18f33-70f7-491b-82a7-3d2407a90c46",
   "metadata": {},
   "outputs": [],
   "source": [
    "## third\n",
    "import pandas as pd, numpy as np\n",
    "from sklearn.model_selection import train_test_split\n",
    "from sklearn.preprocessing import StandardScaler\n",
    "\n",
    "## models\n",
    "from sklearn.ensemble import RandomForestClassifier\n",
    "from sklearn.tree import DecisionTreeClassifier\n",
    "## xgboost\n",
    "from sklearn.linear_model import LogisticRegression\n",
    "\n",
    "## pos model\n",
    "from sklearn.metrics import classification_report,confusion_matrix"
   ]
  },
  {
   "cell_type": "code",
   "execution_count": 8,
   "id": "6d04f702-8da9-456f-9a54-17a99d112a26",
   "metadata": {},
   "outputs": [
    {
     "name": "stderr",
     "output_type": "stream",
     "text": [
      "/home/joaoholz/Documents/ufes/trabalho_final/modules/get_data.py:5: DtypeWarning: Columns (3,4,5) have mixed types. Specify dtype option on import or set low_memory=False.\n",
      "  return pd.read_csv('asteroides/asteoides.csv').iloc[:,first_columns:]\n"
     ]
    }
   ],
   "source": [
    "x,y = get_x_y_no_NaNs()"
   ]
  },
  {
   "cell_type": "code",
   "execution_count": 9,
   "id": "71d1f33e-6f98-4efe-8cdc-9f538efc1837",
   "metadata": {},
   "outputs": [
    {
     "data": {
      "text/html": [
       "<div>\n",
       "<style scoped>\n",
       "    .dataframe tbody tr th:only-of-type {\n",
       "        vertical-align: middle;\n",
       "    }\n",
       "\n",
       "    .dataframe tbody tr th {\n",
       "        vertical-align: top;\n",
       "    }\n",
       "\n",
       "    .dataframe thead th {\n",
       "        text-align: right;\n",
       "    }\n",
       "</style>\n",
       "<table border=\"1\" class=\"dataframe\">\n",
       "  <thead>\n",
       "    <tr style=\"text-align: right;\">\n",
       "      <th></th>\n",
       "      <th>neo</th>\n",
       "      <th>tp_cal</th>\n",
       "      <th>tp</th>\n",
       "      <th>class</th>\n",
       "      <th>w</th>\n",
       "      <th>om</th>\n",
       "      <th>i</th>\n",
       "      <th>q</th>\n",
       "      <th>a</th>\n",
       "      <th>e</th>\n",
       "      <th>n</th>\n",
       "      <th>epoch_cal</th>\n",
       "      <th>epoch_mjd</th>\n",
       "      <th>epoch</th>\n",
       "    </tr>\n",
       "  </thead>\n",
       "  <tbody>\n",
       "    <tr>\n",
       "      <th>0</th>\n",
       "      <td>0</td>\n",
       "      <td>2.018043e+07</td>\n",
       "      <td>2.458239e+06</td>\n",
       "      <td>MBA</td>\n",
       "      <td>73.597695</td>\n",
       "      <td>80.305531</td>\n",
       "      <td>10.594067</td>\n",
       "      <td>2.558684</td>\n",
       "      <td>2.769165</td>\n",
       "      <td>0.076009</td>\n",
       "      <td>0.213885</td>\n",
       "      <td>20190427.0</td>\n",
       "      <td>58600</td>\n",
       "      <td>2458600.5</td>\n",
       "    </tr>\n",
       "    <tr>\n",
       "      <th>1</th>\n",
       "      <td>0</td>\n",
       "      <td>2.018072e+07</td>\n",
       "      <td>2.458321e+06</td>\n",
       "      <td>MBA</td>\n",
       "      <td>310.202392</td>\n",
       "      <td>173.024741</td>\n",
       "      <td>34.832932</td>\n",
       "      <td>2.135935</td>\n",
       "      <td>2.773841</td>\n",
       "      <td>0.229972</td>\n",
       "      <td>0.213345</td>\n",
       "      <td>20200531.0</td>\n",
       "      <td>59000</td>\n",
       "      <td>2459000.5</td>\n",
       "    </tr>\n",
       "    <tr>\n",
       "      <th>2</th>\n",
       "      <td>0</td>\n",
       "      <td>2.018112e+07</td>\n",
       "      <td>2.458446e+06</td>\n",
       "      <td>MBA</td>\n",
       "      <td>248.066193</td>\n",
       "      <td>169.851482</td>\n",
       "      <td>12.991043</td>\n",
       "      <td>1.982706</td>\n",
       "      <td>2.668285</td>\n",
       "      <td>0.256936</td>\n",
       "      <td>0.226129</td>\n",
       "      <td>20200531.0</td>\n",
       "      <td>59000</td>\n",
       "      <td>2459000.5</td>\n",
       "    </tr>\n",
       "    <tr>\n",
       "      <th>3</th>\n",
       "      <td>0</td>\n",
       "      <td>2.018051e+07</td>\n",
       "      <td>2.458248e+06</td>\n",
       "      <td>MBA</td>\n",
       "      <td>150.728541</td>\n",
       "      <td>103.810804</td>\n",
       "      <td>7.141771</td>\n",
       "      <td>2.151909</td>\n",
       "      <td>2.361418</td>\n",
       "      <td>0.088721</td>\n",
       "      <td>0.271609</td>\n",
       "      <td>20190427.0</td>\n",
       "      <td>58600</td>\n",
       "      <td>2458600.5</td>\n",
       "    </tr>\n",
       "    <tr>\n",
       "      <th>4</th>\n",
       "      <td>0</td>\n",
       "      <td>2.020032e+07</td>\n",
       "      <td>2.458926e+06</td>\n",
       "      <td>MBA</td>\n",
       "      <td>358.648418</td>\n",
       "      <td>141.571026</td>\n",
       "      <td>5.367427</td>\n",
       "      <td>2.082619</td>\n",
       "      <td>2.574037</td>\n",
       "      <td>0.190913</td>\n",
       "      <td>0.238661</td>\n",
       "      <td>20200531.0</td>\n",
       "      <td>59000</td>\n",
       "      <td>2459000.5</td>\n",
       "    </tr>\n",
       "    <tr>\n",
       "      <th>...</th>\n",
       "      <td>...</td>\n",
       "      <td>...</td>\n",
       "      <td>...</td>\n",
       "      <td>...</td>\n",
       "      <td>...</td>\n",
       "      <td>...</td>\n",
       "      <td>...</td>\n",
       "      <td>...</td>\n",
       "      <td>...</td>\n",
       "      <td>...</td>\n",
       "      <td>...</td>\n",
       "      <td>...</td>\n",
       "      <td>...</td>\n",
       "      <td>...</td>\n",
       "    </tr>\n",
       "    <tr>\n",
       "      <th>958519</th>\n",
       "      <td>0</td>\n",
       "      <td>1.960113e+07</td>\n",
       "      <td>2.437266e+06</td>\n",
       "      <td>MBA</td>\n",
       "      <td>195.442802</td>\n",
       "      <td>194.229902</td>\n",
       "      <td>5.984416</td>\n",
       "      <td>1.856807</td>\n",
       "      <td>2.280861</td>\n",
       "      <td>0.185919</td>\n",
       "      <td>0.286125</td>\n",
       "      <td>19600926.0</td>\n",
       "      <td>37203</td>\n",
       "      <td>2437203.5</td>\n",
       "    </tr>\n",
       "    <tr>\n",
       "      <th>958520</th>\n",
       "      <td>0</td>\n",
       "      <td>2.021053e+07</td>\n",
       "      <td>2.459362e+06</td>\n",
       "      <td>MBA</td>\n",
       "      <td>5.216223</td>\n",
       "      <td>355.248239</td>\n",
       "      <td>8.082280</td>\n",
       "      <td>1.674319</td>\n",
       "      <td>2.334910</td>\n",
       "      <td>0.282920</td>\n",
       "      <td>0.276248</td>\n",
       "      <td>20200531.0</td>\n",
       "      <td>59000</td>\n",
       "      <td>2459000.5</td>\n",
       "    </tr>\n",
       "    <tr>\n",
       "      <th>958521</th>\n",
       "      <td>1</td>\n",
       "      <td>2.021123e+07</td>\n",
       "      <td>2.459574e+06</td>\n",
       "      <td>APO</td>\n",
       "      <td>234.894852</td>\n",
       "      <td>182.982832</td>\n",
       "      <td>4.679278</td>\n",
       "      <td>0.950941</td>\n",
       "      <td>2.817152</td>\n",
       "      <td>0.662446</td>\n",
       "      <td>0.208444</td>\n",
       "      <td>20200531.0</td>\n",
       "      <td>59000</td>\n",
       "      <td>2459000.5</td>\n",
       "    </tr>\n",
       "    <tr>\n",
       "      <th>958522</th>\n",
       "      <td>0</td>\n",
       "      <td>1.973102e+07</td>\n",
       "      <td>2.441974e+06</td>\n",
       "      <td>MBA</td>\n",
       "      <td>198.026527</td>\n",
       "      <td>176.499082</td>\n",
       "      <td>0.732484</td>\n",
       "      <td>1.893638</td>\n",
       "      <td>2.373137</td>\n",
       "      <td>0.202053</td>\n",
       "      <td>0.269600</td>\n",
       "      <td>19731001.0</td>\n",
       "      <td>41956</td>\n",
       "      <td>2441956.5</td>\n",
       "    </tr>\n",
       "    <tr>\n",
       "      <th>958523</th>\n",
       "      <td>0</td>\n",
       "      <td>1.977082e+07</td>\n",
       "      <td>2.443377e+06</td>\n",
       "      <td>MBA</td>\n",
       "      <td>148.496988</td>\n",
       "      <td>204.512448</td>\n",
       "      <td>9.661947</td>\n",
       "      <td>1.676433</td>\n",
       "      <td>2.260404</td>\n",
       "      <td>0.258348</td>\n",
       "      <td>0.290018</td>\n",
       "      <td>19771013.0</td>\n",
       "      <td>43429</td>\n",
       "      <td>2443429.5</td>\n",
       "    </tr>\n",
       "  </tbody>\n",
       "</table>\n",
       "<p>938603 rows × 14 columns</p>\n",
       "</div>"
      ],
      "text/plain": [
       "        neo        tp_cal            tp class           w          om  \\\n",
       "0         0  2.018043e+07  2.458239e+06   MBA   73.597695   80.305531   \n",
       "1         0  2.018072e+07  2.458321e+06   MBA  310.202392  173.024741   \n",
       "2         0  2.018112e+07  2.458446e+06   MBA  248.066193  169.851482   \n",
       "3         0  2.018051e+07  2.458248e+06   MBA  150.728541  103.810804   \n",
       "4         0  2.020032e+07  2.458926e+06   MBA  358.648418  141.571026   \n",
       "...     ...           ...           ...   ...         ...         ...   \n",
       "958519    0  1.960113e+07  2.437266e+06   MBA  195.442802  194.229902   \n",
       "958520    0  2.021053e+07  2.459362e+06   MBA    5.216223  355.248239   \n",
       "958521    1  2.021123e+07  2.459574e+06   APO  234.894852  182.982832   \n",
       "958522    0  1.973102e+07  2.441974e+06   MBA  198.026527  176.499082   \n",
       "958523    0  1.977082e+07  2.443377e+06   MBA  148.496988  204.512448   \n",
       "\n",
       "                i         q         a         e         n   epoch_cal  \\\n",
       "0       10.594067  2.558684  2.769165  0.076009  0.213885  20190427.0   \n",
       "1       34.832932  2.135935  2.773841  0.229972  0.213345  20200531.0   \n",
       "2       12.991043  1.982706  2.668285  0.256936  0.226129  20200531.0   \n",
       "3        7.141771  2.151909  2.361418  0.088721  0.271609  20190427.0   \n",
       "4        5.367427  2.082619  2.574037  0.190913  0.238661  20200531.0   \n",
       "...           ...       ...       ...       ...       ...         ...   \n",
       "958519   5.984416  1.856807  2.280861  0.185919  0.286125  19600926.0   \n",
       "958520   8.082280  1.674319  2.334910  0.282920  0.276248  20200531.0   \n",
       "958521   4.679278  0.950941  2.817152  0.662446  0.208444  20200531.0   \n",
       "958522   0.732484  1.893638  2.373137  0.202053  0.269600  19731001.0   \n",
       "958523   9.661947  1.676433  2.260404  0.258348  0.290018  19771013.0   \n",
       "\n",
       "        epoch_mjd      epoch  \n",
       "0           58600  2458600.5  \n",
       "1           59000  2459000.5  \n",
       "2           59000  2459000.5  \n",
       "3           58600  2458600.5  \n",
       "4           59000  2459000.5  \n",
       "...           ...        ...  \n",
       "958519      37203  2437203.5  \n",
       "958520      59000  2459000.5  \n",
       "958521      59000  2459000.5  \n",
       "958522      41956  2441956.5  \n",
       "958523      43429  2443429.5  \n",
       "\n",
       "[938603 rows x 14 columns]"
      ]
     },
     "execution_count": 9,
     "metadata": {},
     "output_type": "execute_result"
    }
   ],
   "source": [
    "x"
   ]
  },
  {
   "cell_type": "code",
   "execution_count": 41,
   "id": "cf3e1721-6333-4ed6-bfe7-8e661fafa060",
   "metadata": {},
   "outputs": [],
   "source": [
    "x = pd.concat([x,make_dummies(x['class'])],axis=1)\n",
    "x.drop('class',axis=1,inplace=True)"
   ]
  },
  {
   "cell_type": "code",
   "execution_count": 42,
   "id": "3343ea24-e5ef-4b29-b9c3-e2dc5284a909",
   "metadata": {},
   "outputs": [],
   "source": [
    "y = make_dummies(y)"
   ]
  },
  {
   "attachments": {},
   "cell_type": "markdown",
   "id": "b857ecf1-3f4d-4f98-8e30-bbc43b572152",
   "metadata": {},
   "source": [
    "---\n",
    "model"
   ]
  },
  {
   "cell_type": "code",
   "execution_count": 177,
   "id": "692b0d53-7fa8-46ba-bd40-65c1bb9cac64",
   "metadata": {},
   "outputs": [],
   "source": [
    "x_train,x_test,y_train,y_test = train_test_split(x,y,test_size=0.3,stratify=y)"
   ]
  },
  {
   "cell_type": "code",
   "execution_count": 178,
   "id": "30fa465b-13a9-4687-97ba-8d83850c5cba",
   "metadata": {},
   "outputs": [],
   "source": [
    "standard = StandardScaler()\n",
    "x_train = standard.fit_transform(x_train)\n",
    "x_test = standard.transform(x_test)"
   ]
  },
  {
   "cell_type": "code",
   "execution_count": 137,
   "id": "76a7e443-2196-478a-967d-a3ef1a0cd380",
   "metadata": {},
   "outputs": [],
   "source": [
    "def fit_classify(model):\n",
    "    model.fit(x_train,y_train)\n",
    "    y_pred = model.predict(x_test)\n",
    "    \n",
    "    print(classification_report(y_test,y_pred))\n",
    "    cm = confusion_matrix(y_test,y_pred)\n",
    "    col = ['N','Y']\n",
    "    print(pd.DataFrame(cm,index=col,columns = col))"
   ]
  },
  {
   "cell_type": "code",
   "execution_count": 138,
   "id": "f53b1742-2f90-492c-9c88-b0ce02cd9e43",
   "metadata": {},
   "outputs": [],
   "source": [
    "import os\n",
    "os.environ['TF_CPP_MIN_LOG_LEVEL'] = '3' \n",
    "import tensorflow as tf"
   ]
  },
  {
   "cell_type": "code",
   "execution_count": 179,
   "id": "0936a867-95f1-4405-b0a8-4c4ee8798ab6",
   "metadata": {},
   "outputs": [],
   "source": [
    "## optimizer\n",
    "rms='rmsprop'\n",
    "adam='adam'\n",
    "\n",
    "## loss\n",
    "SPC = tf.keras.losses.SparseCategoricalCrossentropy(from_logits=True)\n",
    "CC = tf.keras.losses.CategoricalCrossentropy()\n",
    "BC = 'binary_crossentropy'\n",
    "MSE = 'mse'\n",
    "SCC = 'sparse_categorical_crossentropy'\n",
    "\n",
    "## last layer\n",
    "softmax = 'softmax'\n",
    "sigmoid = 'sigmoid'"
   ]
  },
  {
   "cell_type": "markdown",
   "id": "55b4513d-01cd-4051-838e-9229265f144e",
   "metadata": {},
   "source": [
    "\n",
    "dropou x 2 layers x activation last layer"
   ]
  },
  {
   "cell_type": "markdown",
   "id": "f4d99236-cf6a-4ca9-81db-eed17a2bb544",
   "metadata": {},
   "source": [
    "loss | opt | ll act | metric | dropout | layers\n",
    "---|---|---|---|---|---\n",
    "BC | rms | sigmoid | 143/620  | True | 2 layers\n",
    "mse | adam | sigmoid | 134/620  | True | 2 layers\n",
    "BC | adam | sigmoid | 49/620 | True| 2 layers\n",
    "BC | adam | sigmoid | 58/620 | True | 2 layers\n",
    "BC | adam | sigmoid | 12/620 >0.025  |True | 2 layers\n",
    "BC | adam | sigmoid | 78-54/620 | no dropout | 1 layer \n",
    "BC | adam | sigmoid | 26-5/620 | no dropout | 2 layers\n",
    "BC | adam | sigmoid | 48-18/620 | no dropout | 3 layers\n"
   ]
  },
  {
   "cell_type": "code",
   "execution_count": 251,
   "id": "1fc723a6-ec47-4af8-80cd-e6295a522c0c",
   "metadata": {},
   "outputs": [],
   "source": [
    "model_3 = tf.keras.Sequential()\n",
    "model_3.add(tf.keras.layers.Dense(10, activation='relu', input_shape=(25,)))\n",
    "model_3.add(tf.keras.layers.Dense(16, activation='relu'))\n",
    "model_3.add(tf.keras.layers.Dense(1, activation='sigmoid'))#sigmoid\n",
    "model_3.compile(loss=BC, optimizer=adam, metrics=[tf.keras.metrics.Precision(),'accuracy'])"
   ]
  },
  {
   "cell_type": "code",
   "execution_count": 252,
   "id": "ba210542-541c-4fb0-b1bb-c4145f680901",
   "metadata": {},
   "outputs": [
    {
     "name": "stdout",
     "output_type": "stream",
     "text": [
      "Epoch 1/8\n",
      "5133/5133 [==============================] - 14s 3ms/step - loss: 0.0164 - precision_7: 0.0021 - accuracy: 0.9964\n",
      "Epoch 2/8\n",
      "5133/5133 [==============================] - 13s 3ms/step - loss: 0.0065 - precision_7: 0.2500 - accuracy: 0.9978\n",
      "Epoch 3/8\n",
      "5133/5133 [==============================] - 14s 3ms/step - loss: 0.0063 - precision_7: 0.0000e+00 - accuracy: 0.9978\n",
      "Epoch 4/8\n",
      "5133/5133 [==============================] - 13s 3ms/step - loss: 0.0063 - precision_7: 0.0000e+00 - accuracy: 0.9978\n",
      "Epoch 5/8\n",
      "5133/5133 [==============================] - 13s 3ms/step - loss: 0.0062 - precision_7: 0.0000e+00 - accuracy: 0.9978\n",
      "Epoch 6/8\n",
      "5133/5133 [==============================] - 13s 3ms/step - loss: 0.0062 - precision_7: 0.0000e+00 - accuracy: 0.9978\n",
      "Epoch 7/8\n",
      "5133/5133 [==============================] - 13s 3ms/step - loss: 0.0061 - precision_7: 0.0000e+00 - accuracy: 0.9978\n",
      "Epoch 8/8\n",
      "5133/5133 [==============================] - 13s 3ms/step - loss: 0.0061 - precision_7: 0.0000e+00 - accuracy: 0.9978\n"
     ]
    },
    {
     "data": {
      "text/plain": [
       "<keras.callbacks.History at 0x7fa2443657e0>"
      ]
     },
     "execution_count": 252,
     "metadata": {},
     "output_type": "execute_result"
    }
   ],
   "source": [
    "model_3.fit(x_train,y_train, epochs=8, batch_size=128, verbose=1)"
   ]
  },
  {
   "cell_type": "code",
   "execution_count": 253,
   "id": "4ebbc7ca-8191-4b3c-956a-5e8a3a9ec1dd",
   "metadata": {},
   "outputs": [
    {
     "name": "stdout",
     "output_type": "stream",
     "text": [
      "8800/8800 [==============================] - 8s 861us/step\n"
     ]
    },
    {
     "data": {
      "text/plain": [
       "0.62538904"
      ]
     },
     "execution_count": 253,
     "metadata": {},
     "output_type": "execute_result"
    }
   ],
   "source": [
    "y_prob = model_3.predict(x_test)\n",
    "y_prob.max()"
   ]
  },
  {
   "cell_type": "code",
   "execution_count": 256,
   "id": "e6651cec-a39e-4b12-accc-be962ce8811c",
   "metadata": {},
   "outputs": [
    {
     "name": "stdout",
     "output_type": "stream",
     "text": [
      "              precision    recall  f1-score   support\n",
      "\n",
      "           0       1.00      0.99      0.99    280961\n",
      "           1       0.14      0.98      0.24       620\n",
      "\n",
      "    accuracy                           0.99    281581\n",
      "   macro avg       0.57      0.98      0.62    281581\n",
      "weighted avg       1.00      0.99      0.99    281581\n",
      "\n",
      "        N     Y\n",
      "N  277104  3857\n",
      "Y      14   606\n"
     ]
    }
   ],
   "source": [
    "y_pred = list(map(lambda x: x>0.025, y_prob))\n",
    "print(classification_report(y_test,y_pred))\n",
    "cm = confusion_matrix(y_test,y_pred)\n",
    "col = ['N','Y']\n",
    "print(pd.DataFrame(cm,index=col,columns = col))"
   ]
  },
  {
   "cell_type": "code",
   "execution_count": null,
   "id": "706bb69e-b9d5-4169-99ee-2c888d162847",
   "metadata": {},
   "outputs": [],
   "source": []
  },
  {
   "cell_type": "code",
   "execution_count": null,
   "id": "5d394cfa-6687-4bd7-bde1-89ddfdaf73b8",
   "metadata": {},
   "outputs": [],
   "source": []
  },
  {
   "cell_type": "code",
   "execution_count": null,
   "id": "0f641419-c82a-4676-8fc4-2ec916617c5f",
   "metadata": {},
   "outputs": [],
   "source": []
  },
  {
   "cell_type": "code",
   "execution_count": 9,
   "id": "b029c726-3fb1-459f-a69c-302a6ec6ceeb",
   "metadata": {},
   "outputs": [
    {
     "name": "stderr",
     "output_type": "stream",
     "text": [
      "/tmp/ipykernel_171056/2329049293.py:2: DataConversionWarning: A column-vector y was passed when a 1d array was expected. Please change the shape of y to (n_samples,), for example using ravel().\n",
      "  model.fit(x_train,y_train)\n"
     ]
    },
    {
     "name": "stdout",
     "output_type": "stream",
     "text": [
      "              precision    recall  f1-score   support\n",
      "\n",
      "           0       1.00      1.00      1.00    187308\n",
      "           1       0.61      0.06      0.10       413\n",
      "\n",
      "    accuracy                           1.00    187721\n",
      "   macro avg       0.80      0.53      0.55    187721\n",
      "weighted avg       1.00      1.00      1.00    187721\n",
      "\n",
      "        N   Y\n",
      "N  187293  15\n",
      "Y     390  23\n"
     ]
    }
   ],
   "source": [
    "rf = RandomForestClassifier(n_estimators=80)\n",
    "fit_classify(rf)"
   ]
  },
  {
   "cell_type": "code",
   "execution_count": 10,
   "id": "411f1cfc-45dc-48c5-b970-adff9f24bade",
   "metadata": {},
   "outputs": [
    {
     "name": "stdout",
     "output_type": "stream",
     "text": [
      "              precision    recall  f1-score   support\n",
      "\n",
      "           0       1.00      1.00      1.00    187308\n",
      "           1       0.26      0.27      0.27       413\n",
      "\n",
      "    accuracy                           1.00    187721\n",
      "   macro avg       0.63      0.64      0.63    187721\n",
      "weighted avg       1.00      1.00      1.00    187721\n",
      "\n",
      "        N    Y\n",
      "N  186991  317\n",
      "Y     300  113\n"
     ]
    }
   ],
   "source": [
    "dt = DecisionTreeClassifier()\n",
    "fit_classify(dt)"
   ]
  }
 ],
 "metadata": {
  "kernelspec": {
   "display_name": "Python 3 (ipykernel)",
   "language": "python",
   "name": "python3"
  },
  "language_info": {
   "codemirror_mode": {
    "name": "ipython",
    "version": 3
   },
   "file_extension": ".py",
   "mimetype": "text/x-python",
   "name": "python",
   "nbconvert_exporter": "python",
   "pygments_lexer": "ipython3",
   "version": "3.11.4"
  }
 },
 "nbformat": 4,
 "nbformat_minor": 5
}
