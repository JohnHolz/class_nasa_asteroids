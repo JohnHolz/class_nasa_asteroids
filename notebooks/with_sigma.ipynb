{
 "cells": [
  {
   "cell_type": "code",
   "execution_count": 10,
   "id": "1dfa243d-4ef5-4fe0-b21e-e9b90021d37b",
   "metadata": {},
   "outputs": [],
   "source": [
    "## mine\n",
    "## wd to root folder\n",
    "import os\n",
    "os.chdir(\"..\")\n",
    "from modules.get_data import get_x_y\n",
    "from jh_utils.data.pandas.preprocessing import make_dummies"
   ]
  },
  {
   "cell_type": "code",
   "execution_count": 11,
   "id": "75d18f33-70f7-491b-82a7-3d2407a90c46",
   "metadata": {},
   "outputs": [],
   "source": [
    "## third\n",
    "import pandas as pd, numpy as np\n",
    "from sklearn.model_selection import train_test_split\n",
    "from sklearn.preprocessing import StandardScaler, MinMaxScaler\n",
    "\n",
    "## models\n",
    "from sklearn.ensemble import RandomForestClassifier\n",
    "from sklearn.tree import DecisionTreeClassifier\n",
    "from sklearn.linear_model import LogisticRegression\n",
    "\n",
    "## pos model\n",
    "from sklearn.metrics import classification_report,confusion_matrix"
   ]
  },
  {
   "cell_type": "code",
   "execution_count": 12,
   "id": "6d04f702-8da9-456f-9a54-17a99d112a26",
   "metadata": {},
   "outputs": [
    {
     "name": "stderr",
     "output_type": "stream",
     "text": [
      "/home/joaoholz/Documents/ufes/trabalho_final/notebooks/../modules/get_data.py:5: DtypeWarning: Columns (3,4,5) have mixed types. Specify dtype option on import or set low_memory=False.\n",
      "  return pd.read_csv(asteroids_csv).iloc[:,first_columns:]\n"
     ]
    }
   ],
   "source": [
    "x,y = get_x_y()"
   ]
  },
  {
   "cell_type": "code",
   "execution_count": 13,
   "id": "cf3e1721-6333-4ed6-bfe7-8e661fafa060",
   "metadata": {},
   "outputs": [],
   "source": [
    "x = pd.concat([x,make_dummies(x['class'])],axis=1)\n",
    "x.drop('class',axis=1,inplace=True)"
   ]
  },
  {
   "cell_type": "code",
   "execution_count": 14,
   "id": "3343ea24-e5ef-4b29-b9c3-e2dc5284a909",
   "metadata": {},
   "outputs": [],
   "source": [
    "y = make_dummies(y)"
   ]
  },
  {
   "attachments": {},
   "cell_type": "markdown",
   "id": "b857ecf1-3f4d-4f98-8e30-bbc43b572152",
   "metadata": {},
   "source": [
    "---\n",
    "model"
   ]
  },
  {
   "cell_type": "code",
   "execution_count": 12,
   "id": "692b0d53-7fa8-46ba-bd40-65c1bb9cac64",
   "metadata": {},
   "outputs": [],
   "source": [
    "x_train,x_test,y_train,y_test = train_test_split(x,y,test_size=0.3,stratify=y,random_state=42)"
   ]
  },
  {
   "cell_type": "code",
   "execution_count": 9,
   "id": "30fa465b-13a9-4687-97ba-8d83850c5cba",
   "metadata": {},
   "outputs": [],
   "source": [
    "standard = StandardScaler()\n",
    "x_train = standard.fit_transform(x_train)\n",
    "x_test = standard.transform(x_test)"
   ]
  },
  {
   "cell_type": "code",
   "execution_count": 13,
   "id": "9d3edfab-3f6e-4a3c-9a15-4a8e8d9f11ba",
   "metadata": {},
   "outputs": [],
   "source": [
    "standard = MinMaxScaler()\n",
    "x_train = standard.fit_transform(x_train)\n",
    "x_test = standard.transform(x_test)"
   ]
  },
  {
   "cell_type": "code",
   "execution_count": 14,
   "id": "76a7e443-2196-478a-967d-a3ef1a0cd380",
   "metadata": {},
   "outputs": [],
   "source": [
    "def fit_classify(model):\n",
    "    model.fit(x_train,y_train)\n",
    "    y_pred = model.predict(x_test)\n",
    "    \n",
    "    print(classification_report(y_test,y_pred))\n",
    "    cm = confusion_matrix(y_test,y_pred)\n",
    "    col = ['N','Y']\n",
    "    print(pd.DataFrame(cm,index=col,columns = col))"
   ]
  },
  {
   "cell_type": "code",
   "execution_count": 15,
   "id": "5c389966-7766-4fd8-b21f-4fa8c44835db",
   "metadata": {},
   "outputs": [
    {
     "data": {
      "text/plain": [
       "(932335, 43)"
      ]
     },
     "execution_count": 15,
     "metadata": {},
     "output_type": "execute_result"
    }
   ],
   "source": [
    "x.shape"
   ]
  },
  {
   "cell_type": "code",
   "execution_count": 16,
   "id": "f53b1742-2f90-492c-9c88-b0ce02cd9e43",
   "metadata": {},
   "outputs": [],
   "source": [
    "import os\n",
    "os.environ['TF_CPP_MIN_LOG_LEVEL'] = '3' \n",
    "import tensorflow as tf"
   ]
  },
  {
   "cell_type": "code",
   "execution_count": 17,
   "id": "0936a867-95f1-4405-b0a8-4c4ee8798ab6",
   "metadata": {},
   "outputs": [],
   "source": [
    "## optimizer\n",
    "rms='rmsprop'\n",
    "adam='adam'\n",
    "\n",
    "## loss\n",
    "SPC = tf.keras.losses.SparseCategoricalCrossentropy(from_logits=True)\n",
    "CC = tf.keras.losses.CategoricalCrossentropy()\n",
    "BC = 'binary_crossentropy'\n",
    "MSE = 'mse'\n",
    "SCC = 'sparse_categorical_crossentropy'\n",
    "\n",
    "## last layer\n",
    "softmax = 'softmax'\n",
    "sigmoid = 'sigmoid'"
   ]
  },
  {
   "cell_type": "markdown",
   "id": "55b4513d-01cd-4051-838e-9229265f144e",
   "metadata": {},
   "source": [
    "\n",
    "dropou x 2 layers x activation last layer"
   ]
  },
  {
   "cell_type": "markdown",
   "id": "f4d99236-cf6a-4ca9-81db-eed17a2bb544",
   "metadata": {},
   "source": [
    "loss | opt | ll act | metric | dropout | layers | data | epoch | batch\n",
    "---|---|---|---|---|---|---|---|---\n",
    "BC | rms | sigmoid | 143/620  | True | 2 layers\n",
    "mse | adam | sigmoid | 134/620  | True | 2 layers\n",
    "BC | adam | sigmoid | 49/620 | True| 2 layers\n",
    "BC | adam | sigmoid | 58-12/620 | True | 2 layers\n",
    "BC | adam | sigmoid | 78-54/620 | no dropout | 1 layer \n",
    "BC | adam | sigmoid | 26-5/620 | no dropout | 2 layers\n",
    "BC | adam | sigmoid | 48-18/620 | no dropout | 3 layers\n",
    "BC | adam | sigmoid | 40-15/620 | no dropout | 2 layers | full data\n",
    "BC | adam | sigmoid | 18-9/620 | no dropout | 3 layers | full data\n",
    "BC | adam | tanh | 120/620 | no dropout | 3 layers | full data\n",
    "BC | adam | sigmoid | 5-1/620 | no dropout | 3 layers | full data | 20 | 128\n",
    "BC | adam | sigmoid | 5-1/620 | no dropout | 3 layers | full data | 40 | 128\n",
    "BC | adam | sigmoid | 5-1/620 | no dropout | 3 layers | full data | 40 | 64"
   ]
  },
  {
   "cell_type": "code",
   "execution_count": 18,
   "id": "1fc723a6-ec47-4af8-80cd-e6295a522c0c",
   "metadata": {},
   "outputs": [],
   "source": [
    "model_3 = tf.keras.Sequential()\n",
    "model_3.add(tf.keras.layers.Dense(10, activation='relu', input_shape=(43,)))\n",
    "model_3.add(tf.keras.layers.Dense(16, activation='relu'))\n",
    "model_3.add(tf.keras.layers.Dense(8, activation='relu'))\n",
    "model_3.add(tf.keras.layers.Dense(1, activation='sigmoid'))#sigmoid\n",
    "model_3.compile(loss=BC, optimizer=adam, metrics=[tf.keras.metrics.Precision(),'accuracy'])"
   ]
  },
  {
   "cell_type": "code",
   "execution_count": 22,
   "id": "ba210542-541c-4fb0-b1bb-c4145f680901",
   "metadata": {},
   "outputs": [
    {
     "name": "stdout",
     "output_type": "stream",
     "text": [
      "Epoch 1/10\n",
      "5099/5099 [==============================] - 14s 3ms/step - loss: 0.0023 - precision: 0.7736 - accuracy: 0.9990\n",
      "Epoch 2/10\n",
      "5099/5099 [==============================] - 14s 3ms/step - loss: 0.0023 - precision: 0.7761 - accuracy: 0.9990\n",
      "Epoch 3/10\n",
      "5099/5099 [==============================] - 14s 3ms/step - loss: 0.0022 - precision: 0.7918 - accuracy: 0.9990\n",
      "Epoch 4/10\n",
      "5099/5099 [==============================] - 14s 3ms/step - loss: 0.0021 - precision: 0.7975 - accuracy: 0.9991\n",
      "Epoch 5/10\n",
      "5099/5099 [==============================] - 14s 3ms/step - loss: 0.0022 - precision: 0.7844 - accuracy: 0.9990\n",
      "Epoch 6/10\n",
      "5099/5099 [==============================] - 15s 3ms/step - loss: 0.0020 - precision: 0.8086 - accuracy: 0.9991\n",
      "Epoch 7/10\n",
      "5099/5099 [==============================] - 13s 3ms/step - loss: 0.0019 - precision: 0.8188 - accuracy: 0.9992\n",
      "Epoch 8/10\n",
      "5099/5099 [==============================] - 14s 3ms/step - loss: 0.0019 - precision: 0.8184 - accuracy: 0.9992\n",
      "Epoch 9/10\n",
      "5099/5099 [==============================] - 15s 3ms/step - loss: 0.0019 - precision: 0.8184 - accuracy: 0.9992\n",
      "Epoch 10/10\n",
      "5099/5099 [==============================] - 14s 3ms/step - loss: 0.0019 - precision: 0.8183 - accuracy: 0.9992\n"
     ]
    },
    {
     "data": {
      "text/plain": [
       "<keras.callbacks.History at 0x7f805fc1ac80>"
      ]
     },
     "execution_count": 22,
     "metadata": {},
     "output_type": "execute_result"
    }
   ],
   "source": [
    "model_3.fit(x_train,y_train, epochs=10, batch_size=128, verbose=1)"
   ]
  },
  {
   "cell_type": "code",
   "execution_count": 23,
   "id": "4ebbc7ca-8191-4b3c-956a-5e8a3a9ec1dd",
   "metadata": {},
   "outputs": [
    {
     "name": "stdout",
     "output_type": "stream",
     "text": [
      "8741/8741 [==============================] - 9s 1ms/step\n"
     ]
    },
    {
     "data": {
      "text/plain": [
       "0.93297255"
      ]
     },
     "execution_count": 23,
     "metadata": {},
     "output_type": "execute_result"
    }
   ],
   "source": [
    "y_prob = model_3.predict(x_test)\n",
    "y_prob.max()"
   ]
  },
  {
   "cell_type": "code",
   "execution_count": 24,
   "id": "e6651cec-a39e-4b12-accc-be962ce8811c",
   "metadata": {},
   "outputs": [
    {
     "name": "stdout",
     "output_type": "stream",
     "text": [
      "              precision    recall  f1-score   support\n",
      "\n",
      "           0       1.00      1.00      1.00    279081\n",
      "           1       0.56      1.00      0.72       620\n",
      "\n",
      "    accuracy                           1.00    279701\n",
      "   macro avg       0.78      1.00      0.86    279701\n",
      "weighted avg       1.00      1.00      1.00    279701\n",
      "\n",
      "        N    Y\n",
      "N  278595  486\n",
      "Y       3  617\n"
     ]
    }
   ],
   "source": [
    "y_pred = list(map(lambda x: x>0.05, y_prob))\n",
    "print(classification_report(y_test,y_pred))\n",
    "cm = confusion_matrix(y_test,y_pred)\n",
    "col = ['N','Y']\n",
    "print(pd.DataFrame(cm,index=col,columns = col))"
   ]
  },
  {
   "cell_type": "code",
   "execution_count": null,
   "id": "24771cee-17b7-4bf8-8833-e25e7414edf8",
   "metadata": {},
   "outputs": [],
   "source": []
  },
  {
   "cell_type": "code",
   "execution_count": null,
   "id": "168235cd-4619-4c1e-9553-577bcfbae1c1",
   "metadata": {},
   "outputs": [],
   "source": []
  },
  {
   "cell_type": "code",
   "execution_count": 25,
   "id": "5d394cfa-6687-4bd7-bde1-89ddfdaf73b8",
   "metadata": {},
   "outputs": [],
   "source": [
    "#model_3.save_weights('models/best_model_o3')"
   ]
  },
  {
   "cell_type": "code",
   "execution_count": null,
   "id": "0f641419-c82a-4676-8fc4-2ec916617c5f",
   "metadata": {},
   "outputs": [],
   "source": []
  },
  {
   "cell_type": "code",
   "execution_count": 9,
   "id": "b029c726-3fb1-459f-a69c-302a6ec6ceeb",
   "metadata": {},
   "outputs": [
    {
     "name": "stderr",
     "output_type": "stream",
     "text": [
      "/tmp/ipykernel_171056/2329049293.py:2: DataConversionWarning: A column-vector y was passed when a 1d array was expected. Please change the shape of y to (n_samples,), for example using ravel().\n",
      "  model.fit(x_train,y_train)\n"
     ]
    },
    {
     "name": "stdout",
     "output_type": "stream",
     "text": [
      "              precision    recall  f1-score   support\n",
      "\n",
      "           0       1.00      1.00      1.00    187308\n",
      "           1       0.61      0.06      0.10       413\n",
      "\n",
      "    accuracy                           1.00    187721\n",
      "   macro avg       0.80      0.53      0.55    187721\n",
      "weighted avg       1.00      1.00      1.00    187721\n",
      "\n",
      "        N   Y\n",
      "N  187293  15\n",
      "Y     390  23\n"
     ]
    }
   ],
   "source": [
    "rf = RandomForestClassifier(n_estimators=80)\n",
    "fit_classify(rf)"
   ]
  },
  {
   "cell_type": "code",
   "execution_count": 10,
   "id": "411f1cfc-45dc-48c5-b970-adff9f24bade",
   "metadata": {},
   "outputs": [
    {
     "name": "stdout",
     "output_type": "stream",
     "text": [
      "              precision    recall  f1-score   support\n",
      "\n",
      "           0       1.00      1.00      1.00    187308\n",
      "           1       0.26      0.27      0.27       413\n",
      "\n",
      "    accuracy                           1.00    187721\n",
      "   macro avg       0.63      0.64      0.63    187721\n",
      "weighted avg       1.00      1.00      1.00    187721\n",
      "\n",
      "        N    Y\n",
      "N  186991  317\n",
      "Y     300  113\n"
     ]
    }
   ],
   "source": [
    "dt = DecisionTreeClassifier()\n",
    "fit_classify(dt)"
   ]
  }
 ],
 "metadata": {
  "kernelspec": {
   "display_name": "Python 3 (ipykernel)",
   "language": "python",
   "name": "python3"
  },
  "language_info": {
   "codemirror_mode": {
    "name": "ipython",
    "version": 3
   },
   "file_extension": ".py",
   "mimetype": "text/x-python",
   "name": "python",
   "nbconvert_exporter": "python",
   "pygments_lexer": "ipython3",
   "version": "3.10.11"
  }
 },
 "nbformat": 4,
 "nbformat_minor": 5
}
