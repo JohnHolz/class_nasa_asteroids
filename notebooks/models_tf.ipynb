{
 "cells": [
  {
   "cell_type": "code",
   "execution_count": null,
   "id": "dce92180-3626-4836-a489-57d7893632c9",
   "metadata": {},
   "outputs": [],
   "source": [
    "import os\n",
    "os.chdir('..')"
   ]
  },
  {
   "cell_type": "code",
   "execution_count": null,
   "id": "431899f4-c514-41c7-85d9-ac1fbff56106",
   "metadata": {},
   "outputs": [],
   "source": [
    "## it’s mine, my own, \n",
    "from modules.get_data import get_x_y\n",
    "from jh_utils.data.pandas.preprocessing import make_dummies\n",
    "from modules.evaluation import fit_classify, print_2_reports, plot_false_negative_rate"
   ]
  },
  {
   "cell_type": "code",
   "execution_count": 4,
   "id": "c8350f7a-1b6f-41e1-a0ee-8eb81c2063a8",
   "metadata": {},
   "outputs": [],
   "source": [
    "import pandas as pd, numpy as np\n",
    "from sklearn.model_selection import train_test_split\n",
    "from sklearn.preprocessing import StandardScaler, MinMaxScaler\n",
    "## posfit\n",
    "from sklearn.metrics import roc_auc_score, precision_recall_curve, det_curve\n",
    "from sklearn.metrics import RocCurveDisplay, PrecisionRecallDisplay\n",
    "from sklearn.metrics import classification_report,confusion_matrix"
   ]
  },
  {
   "cell_type": "code",
   "execution_count": 1,
   "id": "59624443-5e35-4c35-a623-1ec88cfd0764",
   "metadata": {},
   "outputs": [
    {
     "name": "stderr",
     "output_type": "stream",
     "text": [
      "2023-07-17 13:23:40.661279: I tensorflow/core/platform/cpu_feature_guard.cc:182] This TensorFlow binary is optimized to use available CPU instructions in performance-critical operations.\n",
      "To enable the following instructions: AVX2 FMA, in other operations, rebuild TensorFlow with the appropriate compiler flags.\n",
      "2023-07-17 13:23:41.304282: W tensorflow/compiler/tf2tensorrt/utils/py_utils.cc:38] TF-TRT Warning: Could not find TensorRT\n"
     ]
    }
   ],
   "source": [
    "import tensorflow as tf"
   ]
  },
  {
   "cell_type": "code",
   "execution_count": 2,
   "id": "2d5fe533-6c7e-45c2-951f-c993bf8e13dd",
   "metadata": {},
   "outputs": [],
   "source": [
    "from tensorflow.keras.layers import Dense\n",
    "from tensorflow.keras import Sequential"
   ]
  },
  {
   "cell_type": "code",
   "execution_count": 7,
   "id": "0413fce1-0a4d-40c0-911a-a41679353d85",
   "metadata": {},
   "outputs": [],
   "source": [
    "def declare_model():\n",
    "    BC = \"binary_crossentropy\"\n",
    "    adam = \"adam\"\n",
    "    tf_model = Sequential()\n",
    "    tf_model.add(Dense(10, activation='relu', input_shape=(43,)))\n",
    "    tf_model.add(Dense(16, activation='relu'))\n",
    "    tf_model.add(Dense(8, activation='relu'))\n",
    "    tf_model.add(Dense(1, activation='sigmoid'))\n",
    "    tf_model.compile(loss=BC, optimizer=adam, metrics = [tf.keras.metrics.Precision(),'accuracy'])\n",
    "    return tf_model"
   ]
  },
  {
   "cell_type": "code",
   "execution_count": 8,
   "id": "ffe46d88-b8f7-46a6-9f51-2e6162362203",
   "metadata": {},
   "outputs": [],
   "source": [
    "tf_model = declare_model()"
   ]
  },
  {
   "cell_type": "code",
   "execution_count": null,
   "id": "82fd6c2f-730d-4dd4-81f1-1ad71de70887",
   "metadata": {},
   "outputs": [],
   "source": [
    "tf_model.fit(x_train,y_train, epochs=30, batch_size=128, verbose=1)"
   ]
  },
  {
   "cell_type": "code",
   "execution_count": null,
   "id": "4f810d0a-11f9-4172-be68-7bc0135c3dea",
   "metadata": {},
   "outputs": [],
   "source": [
    "y_prob = tf_model.predict(x_test)\n",
    "y_pred = list(map(lambda x: x>0.05, y_prob))\n",
    "print_2_reports(y_test,y_pred)"
   ]
  }
 ],
 "metadata": {
  "kernelspec": {
   "display_name": "Python 3 (ipykernel)",
   "language": "python",
   "name": "python3"
  },
  "language_info": {
   "codemirror_mode": {
    "name": "ipython",
    "version": 3
   },
   "file_extension": ".py",
   "mimetype": "text/x-python",
   "name": "python",
   "nbconvert_exporter": "python",
   "pygments_lexer": "ipython3",
   "version": "3.10.11"
  }
 },
 "nbformat": 4,
 "nbformat_minor": 5
}
