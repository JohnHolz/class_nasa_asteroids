{
 "cells": [
  {
   "cell_type": "code",
   "execution_count": 1,
   "id": "b3087fae-4c58-42cd-bbf0-47e837885eb6",
   "metadata": {},
   "outputs": [],
   "source": [
    "## mine\n",
    "from modules.get_data import get_x_y, get_x_y_no_NaNs\n",
    "from jh_utils.data.pandas.preprocessing import make_dummies"
   ]
  },
  {
   "cell_type": "code",
   "execution_count": 2,
   "id": "c9b5bf7b-0e30-4334-8586-e1d598755e8b",
   "metadata": {},
   "outputs": [],
   "source": [
    "## third\n",
    "import pandas as pd, numpy as np\n",
    "from sklearn.model_selection import train_test_split\n",
    "from sklearn.preprocessing import StandardScaler\n",
    "\n",
    "## models\n",
    "from sklearn.ensemble import RandomForestClassifier\n",
    "from sklearn.tree import DecisionTreeClassifier\n",
    "from sklearn.linear_model import LogisticRegression\n",
    "\n",
    "## pos model\n",
    "from sklearn.metrics import classification_report,confusion_matrix"
   ]
  },
  {
   "cell_type": "markdown",
   "id": "82cebed4-b2c7-470e-9742-d505496863c6",
   "metadata": {},
   "source": [
    "per,per_y,rms,H - drop all na rows"
   ]
  },
  {
   "cell_type": "code",
   "execution_count": 3,
   "id": "e4e20985-f24d-4fee-8c70-290bc5fc8e86",
   "metadata": {},
   "outputs": [
    {
     "name": "stderr",
     "output_type": "stream",
     "text": [
      "/home/joaoholz/Documents/ufes/trabalho_final/modules/get_data.py:5: DtypeWarning: Columns (3,4,5) have mixed types. Specify dtype option on import or set low_memory=False.\n",
      "  return pd.read_csv('asteroides/asteoides.csv').iloc[:,first_columns:]\n"
     ]
    }
   ],
   "source": [
    "x,y = get_x_y()"
   ]
  },
  {
   "cell_type": "code",
   "execution_count": 4,
   "id": "8007c6a0-04a2-415a-bf7e-089e39740954",
   "metadata": {},
   "outputs": [
    {
     "data": {
      "text/html": [
       "<div>\n",
       "<style scoped>\n",
       "    .dataframe tbody tr th:only-of-type {\n",
       "        vertical-align: middle;\n",
       "    }\n",
       "\n",
       "    .dataframe tbody tr th {\n",
       "        vertical-align: top;\n",
       "    }\n",
       "\n",
       "    .dataframe thead th {\n",
       "        text-align: right;\n",
       "    }\n",
       "</style>\n",
       "<table border=\"1\" class=\"dataframe\">\n",
       "  <thead>\n",
       "    <tr style=\"text-align: right;\">\n",
       "      <th></th>\n",
       "      <th>neo</th>\n",
       "      <th>H</th>\n",
       "      <th>epoch</th>\n",
       "      <th>epoch_mjd</th>\n",
       "      <th>epoch_cal</th>\n",
       "      <th>e</th>\n",
       "      <th>a</th>\n",
       "      <th>q</th>\n",
       "      <th>i</th>\n",
       "      <th>om</th>\n",
       "      <th>...</th>\n",
       "      <th>sigma_i</th>\n",
       "      <th>sigma_om</th>\n",
       "      <th>sigma_w</th>\n",
       "      <th>sigma_ma</th>\n",
       "      <th>sigma_ad</th>\n",
       "      <th>sigma_n</th>\n",
       "      <th>sigma_tp</th>\n",
       "      <th>sigma_per</th>\n",
       "      <th>class</th>\n",
       "      <th>rms</th>\n",
       "    </tr>\n",
       "  </thead>\n",
       "  <tbody>\n",
       "  </tbody>\n",
       "</table>\n",
       "<p>0 rows × 33 columns</p>\n",
       "</div>"
      ],
      "text/plain": [
       "Empty DataFrame\n",
       "Columns: [neo, H, epoch, epoch_mjd, epoch_cal, e, a, q, i, om, w, ma, ad, n, tp, tp_cal, per, per_y, moid, moid_ld, sigma_e, sigma_a, sigma_q, sigma_i, sigma_om, sigma_w, sigma_ma, sigma_ad, sigma_n, sigma_tp, sigma_per, class, rms]\n",
       "Index: []\n",
       "\n",
       "[0 rows x 33 columns]"
      ]
     },
     "execution_count": 4,
     "metadata": {},
     "output_type": "execute_result"
    }
   ],
   "source": [
    "x[x.moid.isna()]"
   ]
  },
  {
   "cell_type": "code",
   "execution_count": 5,
   "id": "15ae37e4-9df1-430c-9ce8-3bf93c2203a4",
   "metadata": {},
   "outputs": [
    {
     "data": {
      "text/plain": [
       "932335"
      ]
     },
     "execution_count": 5,
     "metadata": {},
     "output_type": "execute_result"
    }
   ],
   "source": [
    "len(x)"
   ]
  },
  {
   "cell_type": "code",
   "execution_count": 6,
   "id": "e99b23ea-69db-49d8-9b09-06b50f57cbb3",
   "metadata": {},
   "outputs": [
    {
     "data": {
      "text/plain": [
       "neo          0.0\n",
       "sigma_per    0.0\n",
       "sigma_tp     0.0\n",
       "sigma_n      0.0\n",
       "sigma_ad     0.0\n",
       "sigma_ma     0.0\n",
       "sigma_w      0.0\n",
       "sigma_om     0.0\n",
       "sigma_i      0.0\n",
       "sigma_q      0.0\n",
       "sigma_a      0.0\n",
       "sigma_e      0.0\n",
       "moid_ld      0.0\n",
       "moid         0.0\n",
       "per_y        0.0\n",
       "class        0.0\n",
       "per          0.0\n",
       "tp           0.0\n",
       "n            0.0\n",
       "ad           0.0\n",
       "ma           0.0\n",
       "w            0.0\n",
       "om           0.0\n",
       "i            0.0\n",
       "q            0.0\n",
       "a            0.0\n",
       "e            0.0\n",
       "epoch_cal    0.0\n",
       "epoch_mjd    0.0\n",
       "epoch        0.0\n",
       "H            0.0\n",
       "tp_cal       0.0\n",
       "rms          0.0\n",
       "dtype: float64"
      ]
     },
     "execution_count": 6,
     "metadata": {},
     "output_type": "execute_result"
    }
   ],
   "source": [
    "(x.isna().sum()/x.shape[0]).sort_values()"
   ]
  },
  {
   "cell_type": "code",
   "execution_count": 46,
   "id": "e1375d79-316b-424b-9853-f83b9efa5830",
   "metadata": {},
   "outputs": [
    {
     "data": {
      "text/html": [
       "<div>\n",
       "<style scoped>\n",
       "    .dataframe tbody tr th:only-of-type {\n",
       "        vertical-align: middle;\n",
       "    }\n",
       "\n",
       "    .dataframe tbody tr th {\n",
       "        vertical-align: top;\n",
       "    }\n",
       "\n",
       "    .dataframe thead th {\n",
       "        text-align: right;\n",
       "    }\n",
       "</style>\n",
       "<table border=\"1\" class=\"dataframe\">\n",
       "  <thead>\n",
       "    <tr style=\"text-align: right;\">\n",
       "      <th>ma</th>\n",
       "      <th>False</th>\n",
       "      <th>True</th>\n",
       "    </tr>\n",
       "    <tr>\n",
       "      <th>pha</th>\n",
       "      <th></th>\n",
       "      <th></th>\n",
       "    </tr>\n",
       "  </thead>\n",
       "  <tbody>\n",
       "    <tr>\n",
       "      <th>N</th>\n",
       "      <td>936532</td>\n",
       "      <td>1</td>\n",
       "    </tr>\n",
       "    <tr>\n",
       "      <th>Y</th>\n",
       "      <td>2066</td>\n",
       "      <td>0</td>\n",
       "    </tr>\n",
       "  </tbody>\n",
       "</table>\n",
       "</div>"
      ],
      "text/plain": [
       "ma    False  True \n",
       "pha               \n",
       "N    936532      1\n",
       "Y      2066      0"
      ]
     },
     "execution_count": 46,
     "metadata": {},
     "output_type": "execute_result"
    }
   ],
   "source": [
    "pd.crosstab(y,x.ma.isna())"
   ]
  },
  {
   "cell_type": "code",
   "execution_count": 36,
   "id": "a299248c-163e-4201-a1b8-4c84968e516d",
   "metadata": {},
   "outputs": [
    {
     "data": {
      "text/plain": [
       "127"
      ]
     },
     "execution_count": 36,
     "metadata": {},
     "output_type": "execute_result"
    }
   ],
   "source": [
    "x.moid_ld.isna().sum()"
   ]
  },
  {
   "cell_type": "code",
   "execution_count": 42,
   "id": "f14f92c6-0c1f-490d-a6be-e113558c1b85",
   "metadata": {},
   "outputs": [],
   "source": []
  },
  {
   "cell_type": "code",
   "execution_count": 39,
   "id": "c231c29a-cbf5-495a-9d57-1b1e6f6cbe97",
   "metadata": {},
   "outputs": [
    {
     "data": {
      "text/plain": [
       "(958520, 33)"
      ]
     },
     "execution_count": 39,
     "metadata": {},
     "output_type": "execute_result"
    }
   ],
   "source": [
    "x[x['per'].notna()].shape"
   ]
  }
 ],
 "metadata": {
  "kernelspec": {
   "display_name": "Python 3 (ipykernel)",
   "language": "python",
   "name": "python3"
  },
  "language_info": {
   "codemirror_mode": {
    "name": "ipython",
    "version": 3
   },
   "file_extension": ".py",
   "mimetype": "text/x-python",
   "name": "python",
   "nbconvert_exporter": "python",
   "pygments_lexer": "ipython3",
   "version": "3.10.11"
  }
 },
 "nbformat": 4,
 "nbformat_minor": 5
}
