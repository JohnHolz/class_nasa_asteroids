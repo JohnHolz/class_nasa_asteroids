{
 "cells": [
  {
   "cell_type": "code",
   "execution_count": 1,
   "id": "379cf079-dffd-4445-933c-5cf93b77753e",
   "metadata": {},
   "outputs": [],
   "source": [
    "import os\n",
    "os.chdir('..')\n",
    "import pandas as pd, numpy as np\n",
    "from jh_utils.data.pandas.preprocessing import make_dummies\n",
    "from modules.get_data import get_data"
   ]
  },
  {
   "cell_type": "code",
   "execution_count": 2,
   "id": "e6d04e42-817e-41bb-a702-a21803ef4427",
   "metadata": {},
   "outputs": [
    {
     "name": "stderr",
     "output_type": "stream",
     "text": [
      "/tmp/ipykernel_29298/668935226.py:1: DtypeWarning: Columns (3,4,5) have mixed types. Specify dtype option on import or set low_memory=False.\n",
      "  raw = pd.read_csv('asteroides/asteoides.csv')\n"
     ]
    }
   ],
   "source": [
    "raw = pd.read_csv('asteroides/asteoides.csv')"
   ]
  },
  {
   "cell_type": "code",
   "execution_count": 3,
   "id": "b576964a-a467-4243-9c32-17f14fd6ff05",
   "metadata": {},
   "outputs": [
    {
     "data": {
      "text/plain": [
       "(958524, 45)"
      ]
     },
     "execution_count": 3,
     "metadata": {},
     "output_type": "execute_result"
    }
   ],
   "source": [
    "raw.shape"
   ]
  },
  {
   "cell_type": "code",
   "execution_count": 4,
   "id": "b4a14818-4459-4f14-95ac-5f26ebc403c3",
   "metadata": {},
   "outputs": [
    {
     "data": {
      "text/plain": [
       "19921"
      ]
     },
     "execution_count": 4,
     "metadata": {},
     "output_type": "execute_result"
    }
   ],
   "source": [
    "sum(raw['pha'].isna())"
   ]
  },
  {
   "cell_type": "code",
   "execution_count": 5,
   "id": "7d23d5de-edd9-4783-a73f-074b8a295f7e",
   "metadata": {},
   "outputs": [
    {
     "data": {
      "text/plain": [
       "19921"
      ]
     },
     "execution_count": 5,
     "metadata": {},
     "output_type": "execute_result"
    }
   ],
   "source": [
    "raw['pha'].value_counts()\n",
    "sum(raw['pha'].isna())"
   ]
  },
  {
   "cell_type": "code",
   "execution_count": 6,
   "id": "28ebd6b1-9f63-4b80-a4c7-223ac7d29499",
   "metadata": {},
   "outputs": [
    {
     "data": {
      "text/plain": [
       "Index(['id', 'spkid', 'full_name', 'pdes', 'name', 'prefix', 'neo', 'pha', 'H',\n",
       "       'diameter', 'albedo', 'diameter_sigma', 'orbit_id', 'epoch',\n",
       "       'epoch_mjd', 'epoch_cal', 'equinox', 'e', 'a', 'q', 'i', 'om', 'w',\n",
       "       'ma', 'ad', 'n', 'tp', 'tp_cal', 'per', 'per_y', 'moid', 'moid_ld',\n",
       "       'sigma_e', 'sigma_a', 'sigma_q', 'sigma_i', 'sigma_om', 'sigma_w',\n",
       "       'sigma_ma', 'sigma_ad', 'sigma_n', 'sigma_tp', 'sigma_per', 'class',\n",
       "       'rms'],\n",
       "      dtype='object')"
      ]
     },
     "execution_count": 6,
     "metadata": {},
     "output_type": "execute_result"
    }
   ],
   "source": [
    "raw.columns"
   ]
  },
  {
   "cell_type": "code",
   "execution_count": 7,
   "id": "01ff64c5-6da5-4c6c-b7e7-6ba0a28b7aa0",
   "metadata": {
    "scrolled": true
   },
   "outputs": [
    {
     "name": "stdout",
     "output_type": "stream",
     "text": [
      "                              0                1               2\n",
      "id                     a0000001         a0000002        a0000003\n",
      "spkid                   2000001          2000002         2000003\n",
      "full_name               1 Ceres         2 Pallas          3 Juno\n",
      "pdes                          1                2               3\n",
      "name                      Ceres           Pallas            Juno\n",
      "prefix                      NaN              NaN             NaN\n",
      "neo                           N                N               N\n",
      "pha                           N                N               N\n",
      "H                           3.4              4.2            5.33\n",
      "diameter                  939.4            545.0         246.596\n",
      "albedo                     0.09            0.101           0.214\n",
      "diameter_sigma              0.2             18.0          10.594\n",
      "orbit_id                 JPL 47           JPL 37         JPL 112\n",
      "epoch                 2458600.5        2459000.5       2459000.5\n",
      "epoch_mjd                 58600            59000           59000\n",
      "epoch_cal            20190427.0       20200531.0      20200531.0\n",
      "equinox                   J2000            J2000           J2000\n",
      "e                      0.076009         0.229972        0.256936\n",
      "a                      2.769165         2.773841        2.668285\n",
      "q                      2.558684         2.135935        1.982706\n",
      "i                     10.594067        34.832932       12.991043\n",
      "om                    80.305531       173.024741      169.851482\n",
      "w                     73.597695       310.202392      248.066193\n",
      "ma                    77.372098       144.975675      125.435355\n",
      "ad                     2.979647         3.411748        3.353865\n",
      "n                      0.213885         0.213345        0.226129\n",
      "tp               2458238.754129   2458320.962366   2458445.79219\n",
      "tp_cal          20180430.254129  20180721.462366  20181123.29219\n",
      "per                 1683.145703      1687.410992     1592.013769\n",
      "per_y                  4.608202          4.61988        4.358696\n",
      "moid                    1.59478          1.23429         1.03429\n",
      "moid_ld              620.640533       480.348639      402.514639\n",
      "sigma_e                     0.0              0.0             0.0\n",
      "sigma_a                     0.0              0.0             0.0\n",
      "sigma_q                     0.0              0.0             0.0\n",
      "sigma_i                     0.0         0.000003        0.000003\n",
      "sigma_om                    0.0         0.000006        0.000017\n",
      "sigma_w                     0.0         0.000009        0.000018\n",
      "sigma_ma                    0.0         0.000009        0.000008\n",
      "sigma_ad                    0.0              0.0             0.0\n",
      "sigma_n                     0.0              0.0             0.0\n",
      "sigma_tp                    0.0         0.000041        0.000035\n",
      "sigma_per                   0.0         0.000004        0.000003\n",
      "class                       MBA              MBA             MBA\n",
      "rms                     0.43301          0.35936         0.33848\n"
     ]
    }
   ],
   "source": [
    "print(raw.head(3).transpose())"
   ]
  },
  {
   "cell_type": "markdown",
   "id": "da33ba7b-b2df-4abc-8db2-2a3f697be20e",
   "metadata": {},
   "source": [
    "---"
   ]
  },
  {
   "cell_type": "code",
   "execution_count": 8,
   "id": "59cddde8-ba97-4d67-8090-dbb356c5ebe0",
   "metadata": {},
   "outputs": [
    {
     "data": {
      "text/plain": [
       "array(['MBA', 'OMB', 'MCA', 'AMO', 'IMB', 'TJN', 'CEN', 'APO', 'ATE',\n",
       "       'AST', 'TNO', 'IEO', 'HYA'], dtype=object)"
      ]
     },
     "execution_count": 8,
     "metadata": {},
     "output_type": "execute_result"
    }
   ],
   "source": [
    "raw['class'].unique()"
   ]
  },
  {
   "cell_type": "code",
   "execution_count": 9,
   "id": "9dabf0f0-cd22-4cd0-908d-e64203a986bf",
   "metadata": {
    "scrolled": true
   },
   "outputs": [
    {
     "data": {
      "text/plain": [
       "equinox           0.000001\n",
       "prefix            0.000001\n",
       "neo               0.000002\n",
       "pha               0.000002\n",
       "class             0.000014\n",
       "albedo            0.001103\n",
       "diameter_sigma    0.003186\n",
       "orbit_id          0.004893\n",
       "epoch_cal         0.005473\n",
       "epoch_mjd         0.005473\n",
       "epoch             0.005473\n",
       "H                 0.009900\n",
       "diameter          0.017309\n",
       "name              0.023019\n",
       "rms               0.067172\n",
       "sigma_i           0.225076\n",
       "sigma_om          0.232811\n",
       "sigma_q           0.258875\n",
       "sigma_n           0.262643\n",
       "sigma_e           0.265763\n",
       "sigma_w           0.274087\n",
       "sigma_ma          0.278361\n",
       "sigma_ad          0.280891\n",
       "sigma_a           0.285123\n",
       "sigma_per         0.294919\n",
       "sigma_tp          0.303848\n",
       "moid              0.327900\n",
       "moid_ld           0.327901\n",
       "i                 0.999885\n",
       "e                 0.999917\n",
       "tp_cal            0.999974\n",
       "ad                0.999980\n",
       "a                 0.999984\n",
       "q                 0.999984\n",
       "per               0.999985\n",
       "per_y             0.999986\n",
       "n                 0.999990\n",
       "om                0.999994\n",
       "w                 0.999995\n",
       "ma                0.999995\n",
       "tp                0.999995\n",
       "pdes              1.000000\n",
       "full_name         1.000000\n",
       "spkid             1.000000\n",
       "id                1.000000\n",
       "dtype: float64"
      ]
     },
     "execution_count": 9,
     "metadata": {},
     "output_type": "execute_result"
    }
   ],
   "source": [
    "(raw.nunique()/raw.shape[0]).sort_values()"
   ]
  },
  {
   "cell_type": "code",
   "execution_count": 10,
   "id": "a2f537cd-7949-412c-8c92-70317f95226b",
   "metadata": {},
   "outputs": [
    {
     "name": "stderr",
     "output_type": "stream",
     "text": [
      "/home/joaoholz/Documents/ufes/trabalho_final/modules/get_data.py:6: DtypeWarning: Columns (3,4,5) have mixed types. Specify dtype option on import or set low_memory=False.\n",
      "  return pd.read_csv(\"asteroides/asteoides.csv\").iloc[:, first_columns:]\n"
     ]
    }
   ],
   "source": [
    "### get data function implemented\n",
    "## dropeed first id columns\n",
    "raw = get_data()\n",
    "## (df.nunique()/df.shape[0]).sort_values()"
   ]
  },
  {
   "cell_type": "code",
   "execution_count": 11,
   "id": "1ff63298-15a6-4424-b0ed-abace09c5ad5",
   "metadata": {},
   "outputs": [],
   "source": [
    "raw = raw[raw['pha'].notna()]"
   ]
  },
  {
   "cell_type": "code",
   "execution_count": 12,
   "id": "2d79997c-5b6f-4d6e-81d2-205e093b7500",
   "metadata": {},
   "outputs": [
    {
     "data": {
      "text/plain": [
       "(938603, 39)"
      ]
     },
     "execution_count": 12,
     "metadata": {},
     "output_type": "execute_result"
    }
   ],
   "source": [
    "raw.shape"
   ]
  },
  {
   "cell_type": "code",
   "execution_count": 13,
   "id": "d7712fae-6a77-4f19-84df-db1fa27ba914",
   "metadata": {},
   "outputs": [
    {
     "data": {
      "text/plain": [
       "N    936537\n",
       "Y      2066\n",
       "Name: pha, dtype: int64"
      ]
     },
     "execution_count": 13,
     "metadata": {},
     "output_type": "execute_result"
    }
   ],
   "source": [
    "raw['pha'].value_counts()\n"
   ]
  },
  {
   "cell_type": "code",
   "execution_count": 14,
   "id": "d931ecc3-36d9-4e23-884b-37c3c8d6f56d",
   "metadata": {},
   "outputs": [
    {
     "data": {
      "text/plain": [
       "0"
      ]
     },
     "execution_count": 14,
     "metadata": {},
     "output_type": "execute_result"
    }
   ],
   "source": [
    "sum(raw['pha'].isna())"
   ]
  },
  {
   "cell_type": "code",
   "execution_count": 15,
   "id": "0f79e837-04c8-43e7-ac7e-0c9a268b0af4",
   "metadata": {},
   "outputs": [
    {
     "data": {
      "text/plain": [
       "n                 0.000000\n",
       "tp_cal            0.000000\n",
       "tp                0.000000\n",
       "class             0.000000\n",
       "w                 0.000000\n",
       "om                0.000000\n",
       "i                 0.000000\n",
       "q                 0.000000\n",
       "moid              0.000000\n",
       "e                 0.000000\n",
       "a                 0.000000\n",
       "epoch_cal         0.000000\n",
       "epoch_mjd         0.000000\n",
       "epoch             0.000000\n",
       "orbit_id          0.000000\n",
       "pha               0.000000\n",
       "equinox           0.000000\n",
       "moid_ld           0.000000\n",
       "sigma_w           0.000001\n",
       "sigma_ma          0.000001\n",
       "sigma_om          0.000001\n",
       "sigma_i           0.000001\n",
       "sigma_n           0.000001\n",
       "sigma_tp          0.000001\n",
       "sigma_q           0.000001\n",
       "sigma_a           0.000001\n",
       "rms               0.000001\n",
       "per_y             0.000001\n",
       "ma                0.000001\n",
       "sigma_e           0.000001\n",
       "per               0.000004\n",
       "ad                0.000004\n",
       "neo               0.000004\n",
       "sigma_ad          0.000005\n",
       "sigma_per         0.000005\n",
       "H                 0.006672\n",
       "diameter          0.854881\n",
       "diameter_sigma    0.855018\n",
       "albedo            0.856059\n",
       "dtype: float64"
      ]
     },
     "execution_count": 15,
     "metadata": {},
     "output_type": "execute_result"
    }
   ],
   "source": [
    "(raw.isna().sum()/raw.shape[0]).sort_values()"
   ]
  },
  {
   "cell_type": "code",
   "execution_count": null,
   "id": "693037e3-28de-4cae-ad6b-918db4e7db04",
   "metadata": {},
   "outputs": [],
   "source": []
  }
 ],
 "metadata": {
  "kernelspec": {
   "display_name": "Python 3 (ipykernel)",
   "language": "python",
   "name": "python3"
  },
  "language_info": {
   "codemirror_mode": {
    "name": "ipython",
    "version": 3
   },
   "file_extension": ".py",
   "mimetype": "text/x-python",
   "name": "python",
   "nbconvert_exporter": "python",
   "pygments_lexer": "ipython3",
   "version": "3.10.11"
  }
 },
 "nbformat": 4,
 "nbformat_minor": 5
}
