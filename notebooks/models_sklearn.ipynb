{
 "cells": [
  {
   "cell_type": "code",
   "execution_count": 1,
   "id": "40b96e7b-13d4-4a68-ae0f-896dbf733906",
   "metadata": {},
   "outputs": [],
   "source": [
    "import os\n",
    "os.chdir('..')"
   ]
  },
  {
   "cell_type": "code",
   "execution_count": 2,
   "id": "c9790405-d839-43f7-b528-d829ae2ef585",
   "metadata": {},
   "outputs": [],
   "source": [
    "## it’s mine, my own, \n",
    "from modules.get_data import get_x_y\n",
    "from jh_utils.data.pandas.preprocessing import make_dummies\n",
    "from modules.evaluation import fit_classify, print_2_reports, plot_false_negative_rate"
   ]
  },
  {
   "cell_type": "code",
   "execution_count": 3,
   "id": "0bcb356c-d6a2-488d-99f2-2773bf49bfb8",
   "metadata": {},
   "outputs": [],
   "source": [
    "import pandas as pd, numpy as np\n",
    "from sklearn.model_selection import train_test_split\n",
    "from sklearn.preprocessing import StandardScaler, MinMaxScaler\n",
    "## posfit\n",
    "from sklearn.metrics import roc_auc_score, precision_recall_curve, det_curve\n",
    "from sklearn.metrics import RocCurveDisplay, PrecisionRecallDisplay\n",
    "from sklearn.metrics import classification_report,confusion_matrix"
   ]
  },
  {
   "cell_type": "code",
   "execution_count": 4,
   "id": "06b58eaa-4abb-43b1-b2c8-4ec31bcb56f1",
   "metadata": {},
   "outputs": [],
   "source": [
    "## models\n",
    "from sklearn.ensemble import RandomForestClassifier\n",
    "from sklearn.ensemble import AdaBoostClassifier, RandomForestClassifier"
   ]
  },
  {
   "cell_type": "markdown",
   "id": "4432325b-3ecf-4141-b1b6-9b552a4cd12f",
   "metadata": {},
   "source": [
    "---"
   ]
  },
  {
   "cell_type": "markdown",
   "id": "2ec0551a-ef56-4150-b39f-7fcb2c8a88fa",
   "metadata": {},
   "source": [
    "---"
   ]
  },
  {
   "cell_type": "markdown",
   "id": "b5b3cbbf-4d73-454b-b7dd-e099648100b4",
   "metadata": {},
   "source": [
    "## Random Forest Classifier n=50"
   ]
  },
  {
   "cell_type": "code",
   "execution_count": 5,
   "id": "85dc784e-8e9b-4b56-82eb-dcb8dca253c7",
   "metadata": {},
   "outputs": [
    {
     "name": "stderr",
     "output_type": "stream",
     "text": [
      "/home/joaoholz/Documents/ufes/trabalho_final/modules/get_data.py:6: DtypeWarning: Columns (3,4,5) have mixed types. Specify dtype option on import or set low_memory=False.\n",
      "  return pd.read_csv(\"asteroides/asteoides.csv\").iloc[:, first_columns:]\n"
     ]
    }
   ],
   "source": [
    "x,y = get_x_y()\n",
    "x_train,x_test,y_train,y_test = train_test_split(x, y, test_size=0.3, stratify=y, random_state=42)\n",
    "\n",
    "#scaler = MinMaxScaler()\n",
    "scaler = StandardScaler()\n",
    "x_train = scaler.fit_transform(x_train)\n",
    "x_test = scaler.transform(x_test)"
   ]
  },
  {
   "cell_type": "code",
   "execution_count": 6,
   "id": "9e4c63cc-4441-4507-bc3e-99a06dbc8e43",
   "metadata": {},
   "outputs": [],
   "source": [
    "rf = RandomForestClassifier(n_estimators=50) # 80,120,160,200"
   ]
  },
  {
   "cell_type": "code",
   "execution_count": 7,
   "id": "89f4d96a-1b3c-487b-b5c8-20306adb1bf0",
   "metadata": {},
   "outputs": [
    {
     "name": "stderr",
     "output_type": "stream",
     "text": [
      "/tmp/ipykernel_60376/3319219848.py:1: DataConversionWarning: A column-vector y was passed when a 1d array was expected. Please change the shape of y to (n_samples,), for example using ravel().\n",
      "  rf_fit = rf.fit(x_train,y_train)\n"
     ]
    }
   ],
   "source": [
    "rf_fit = rf.fit(x_train,y_train)\n",
    "# the wizard \"arrives precisely when he means to.\""
   ]
  },
  {
   "cell_type": "code",
   "execution_count": 8,
   "id": "e659f4a0-c355-437e-bacc-b6cecbbab736",
   "metadata": {},
   "outputs": [
    {
     "data": {
      "image/png": "[encoded data removed]",
      "text/plain": [
       "<Figure size 640x480 with 1 Axes>"
      ]
     },
     "metadata": {},
     "output_type": "display_data"
    }
   ],
   "source": [
    "y_prob = rf.predict_proba(x_test)[:,1]\n",
    "plot_false_negative_rate(y_test,y_prob)"
   ]
  },
  {
   "cell_type": "code",
   "execution_count": 9,
   "id": "4a02ecd0-7c45-4d49-b834-0daa94afffc2",
   "metadata": {},
   "outputs": [
    {
     "name": "stdout",
     "output_type": "stream",
     "text": [
      "              precision    recall  f1-score   support\n",
      "\n",
      "           0       1.00      1.00      1.00    279081\n",
      "           1       0.99      0.98      0.98       620\n",
      "\n",
      "    accuracy                           1.00    279701\n",
      "   macro avg       0.99      0.99      0.99    279701\n",
      "weighted avg       1.00      1.00      1.00    279701\n",
      "\n",
      "        N    Y\n",
      "N  279073    8\n",
      "Y      14  606\n",
      "              precision    recall  f1-score   support\n",
      "\n",
      "           0       1.00      1.00      1.00    279081\n",
      "           1       0.98      0.98      0.98       620\n",
      "\n",
      "    accuracy                           1.00    279701\n",
      "   macro avg       0.99      0.99      0.99    279701\n",
      "weighted avg       1.00      1.00      1.00    279701\n",
      "\n",
      "        N    Y\n",
      "N  279070   11\n",
      "Y      10  610\n",
      "              precision    recall  f1-score   support\n",
      "\n",
      "           0       1.00      1.00      1.00    279081\n",
      "           1       0.53      1.00      0.69       620\n",
      "\n",
      "    accuracy                           1.00    279701\n",
      "   macro avg       0.77      1.00      0.85    279701\n",
      "weighted avg       1.00      1.00      1.00    279701\n",
      "\n",
      "        N    Y\n",
      "N  278534  547\n",
      "Y       3  617\n"
     ]
    }
   ],
   "source": [
    "y_pred = list(map(lambda x: x> 0.5, y_prob))\n",
    "print_2_reports(y_test,y_pred)\n",
    "\n",
    "y_pred = list(map(lambda x: x> 0.35, y_prob))\n",
    "print_2_reports(y_test,y_pred)\n",
    "\n",
    "y_pred = list(map(lambda x: x> 0.05, y_prob))\n",
    "print_2_reports(y_test,y_pred)"
   ]
  },
  {
   "cell_type": "markdown",
   "id": "83fe7f56-3e62-4195-bd0f-c1dd70c8442f",
   "metadata": {},
   "source": [
    "---"
   ]
  },
  {
   "cell_type": "markdown",
   "id": "c00d6331-b12d-4b57-8a31-42eb9cd2765c",
   "metadata": {},
   "source": [
    "## Random Forest MinMax"
   ]
  },
  {
   "cell_type": "code",
   "execution_count": 10,
   "id": "f6488fe4-cc8a-4dce-813b-0da254856e49",
   "metadata": {},
   "outputs": [
    {
     "name": "stderr",
     "output_type": "stream",
     "text": [
      "/home/joaoholz/Documents/ufes/trabalho_final/modules/get_data.py:6: DtypeWarning: Columns (3,4,5) have mixed types. Specify dtype option on import or set low_memory=False.\n",
      "  return pd.read_csv(\"asteroides/asteoides.csv\").iloc[:, first_columns:]\n"
     ]
    }
   ],
   "source": [
    "x,y = get_x_y()\n",
    "x_train,x_test,y_train,y_test = train_test_split(x, y, test_size=0.3, stratify=y, random_state=42)\n",
    "\n",
    "scaler = MinMaxScaler()\n",
    "#scaler = StandardScaler()\n",
    "x_train = scaler.fit_transform(x_train)\n",
    "x_test = scaler.transform(x_test)"
   ]
  },
  {
   "cell_type": "code",
   "execution_count": 11,
   "id": "4ca42fcc-a73b-451b-99c3-19fcf94739f7",
   "metadata": {},
   "outputs": [],
   "source": [
    "rf = RandomForestClassifier(n_estimators=50) # 80,120,160,200"
   ]
  },
  {
   "cell_type": "code",
   "execution_count": 12,
   "id": "e64b5a38-3104-4478-bb92-c81be0160dcd",
   "metadata": {},
   "outputs": [
    {
     "name": "stderr",
     "output_type": "stream",
     "text": [
      "/tmp/ipykernel_60376/3319219848.py:1: DataConversionWarning: A column-vector y was passed when a 1d array was expected. Please change the shape of y to (n_samples,), for example using ravel().\n",
      "  rf_fit = rf.fit(x_train,y_train)\n"
     ]
    }
   ],
   "source": [
    "rf_fit = rf.fit(x_train,y_train)\n",
    "# the wizard \"arrives precisely when he means to.\""
   ]
  },
  {
   "cell_type": "code",
   "execution_count": 13,
   "id": "21a91460-ee68-4aea-af50-bb39956b8fb6",
   "metadata": {},
   "outputs": [
    {
     "data": {
      "image/png": "[encoded data removed]",
      "text/plain": [
       "<Figure size 640x480 with 1 Axes>"
      ]
     },
     "metadata": {},
     "output_type": "display_data"
    }
   ],
   "source": [
    "y_prob = rf.predict_proba(x_test)[:,1]\n",
    "plot_false_negative_rate(y_test,y_prob)"
   ]
  },
  {
   "cell_type": "code",
   "execution_count": 14,
   "id": "1843299e-8465-4e64-aef2-3ca8991a5b82",
   "metadata": {},
   "outputs": [
    {
     "name": "stdout",
     "output_type": "stream",
     "text": [
      "              precision    recall  f1-score   support\n",
      "\n",
      "           0       1.00      1.00      1.00    279081\n",
      "           1       0.99      0.98      0.98       620\n",
      "\n",
      "    accuracy                           1.00    279701\n",
      "   macro avg       0.99      0.99      0.99    279701\n",
      "weighted avg       1.00      1.00      1.00    279701\n",
      "\n",
      "        N    Y\n",
      "N  279072    9\n",
      "Y      14  606\n",
      "              precision    recall  f1-score   support\n",
      "\n",
      "           0       1.00      1.00      1.00    279081\n",
      "           1       0.98      0.98      0.98       620\n",
      "\n",
      "    accuracy                           1.00    279701\n",
      "   macro avg       0.99      0.99      0.99    279701\n",
      "weighted avg       1.00      1.00      1.00    279701\n",
      "\n",
      "        N    Y\n",
      "N  279070   11\n",
      "Y      10  610\n",
      "              precision    recall  f1-score   support\n",
      "\n",
      "           0       1.00      1.00      1.00    279081\n",
      "           1       0.48      1.00      0.65       620\n",
      "\n",
      "    accuracy                           1.00    279701\n",
      "   macro avg       0.74      1.00      0.82    279701\n",
      "weighted avg       1.00      1.00      1.00    279701\n",
      "\n",
      "        N    Y\n",
      "N  278411  670\n",
      "Y       1  619\n"
     ]
    }
   ],
   "source": [
    "y_pred = list(map(lambda x: x> 0.5, y_prob))\n",
    "print_2_reports(y_test,y_pred)\n",
    "\n",
    "y_pred = list(map(lambda x: x> 0.35, y_prob))\n",
    "print_2_reports(y_test,y_pred)\n",
    "\n",
    "y_pred = list(map(lambda x: x> 0.05, y_prob))\n",
    "print_2_reports(y_test,y_pred)"
   ]
  },
  {
   "cell_type": "markdown",
   "id": "74d65b54-da44-4016-9a29-6fc3153c3fd3",
   "metadata": {},
   "source": [
    "----\n",
    "## Adaboost"
   ]
  },
  {
   "cell_type": "code",
   "execution_count": 15,
   "id": "704e4d97-9c68-4434-a1f6-daa7ead5fc0e",
   "metadata": {},
   "outputs": [
    {
     "name": "stderr",
     "output_type": "stream",
     "text": [
      "/home/joaoholz/Documents/ufes/trabalho_final/modules/get_data.py:6: DtypeWarning: Columns (3,4,5) have mixed types. Specify dtype option on import or set low_memory=False.\n",
      "  return pd.read_csv(\"asteroides/asteoides.csv\").iloc[:, first_columns:]\n"
     ]
    }
   ],
   "source": [
    "x,y = get_x_y()\n",
    "x_train,x_test,y_train,y_test = train_test_split(x, y, test_size=0.3, stratify=y, random_state=42)\n",
    "\n",
    "scaler = MinMaxScaler()\n",
    "#scaler = StandardScaler()\n",
    "x_train = scaler.fit_transform(x_train)\n",
    "x_test = scaler.transform(x_test)"
   ]
  },
  {
   "cell_type": "code",
   "execution_count": 16,
   "id": "4d7a6ebc-9585-4fc0-b8d2-1c4faef9c66e",
   "metadata": {},
   "outputs": [
    {
     "name": "stderr",
     "output_type": "stream",
     "text": [
      "/home/joaoholz/miniconda3/envs/tf/lib/python3.10/site-packages/sklearn/utils/validation.py:1141: DataConversionWarning: A column-vector y was passed when a 1d array was expected. Please change the shape of y to (n_samples, ), for example using ravel().\n",
      "  y = column_or_1d(y, warn=True)\n"
     ]
    }
   ],
   "source": [
    "ada = AdaBoostClassifier()\n",
    "ada_fit = ada.fit(x_train,y_train)\n",
    "y_prob = ada.predict_proba(x_test)[:,1]"
   ]
  },
  {
   "cell_type": "code",
   "execution_count": 17,
   "id": "25346c8d-65e0-48e6-9248-2bd1fa02460d",
   "metadata": {},
   "outputs": [
    {
     "data": {
      "image/png": "[encoded data removed]",
      "text/plain": [
       "<Figure size 640x480 with 1 Axes>"
      ]
     },
     "metadata": {},
     "output_type": "display_data"
    }
   ],
   "source": [
    "plot_false_negative_rate(y_test,y_prob)"
   ]
  },
  {
   "cell_type": "code",
   "execution_count": 18,
   "id": "b97e3b4e-5dcd-4169-890c-16dcd6760c0e",
   "metadata": {},
   "outputs": [
    {
     "name": "stdout",
     "output_type": "stream",
     "text": [
      "              precision    recall  f1-score   support\n",
      "\n",
      "           0       1.00      1.00      1.00    279081\n",
      "           1       0.98      0.97      0.98       620\n",
      "\n",
      "    accuracy                           1.00    279701\n",
      "   macro avg       0.99      0.99      0.99    279701\n",
      "weighted avg       1.00      1.00      1.00    279701\n",
      "\n",
      "        N    Y\n",
      "N  279071   10\n",
      "Y      18  602\n",
      "              precision    recall  f1-score   support\n",
      "\n",
      "           0       1.00      1.00      1.00    279081\n",
      "           1       0.93      1.00      0.96       620\n",
      "\n",
      "    accuracy                           1.00    279701\n",
      "   macro avg       0.96      1.00      0.98    279701\n",
      "weighted avg       1.00      1.00      1.00    279701\n",
      "\n",
      "        N    Y\n",
      "N  279031   50\n",
      "Y       1  619\n",
      "              precision    recall  f1-score   support\n",
      "\n",
      "           0       1.00      1.00      1.00    279081\n",
      "           1       0.81      1.00      0.89       620\n",
      "\n",
      "    accuracy                           1.00    279701\n",
      "   macro avg       0.90      1.00      0.95    279701\n",
      "weighted avg       1.00      1.00      1.00    279701\n",
      "\n",
      "        N    Y\n",
      "N  278934  147\n",
      "Y       1  619\n"
     ]
    }
   ],
   "source": [
    "#y_pred = model.predict(x_test)\n",
    "y_pred = list(map(lambda x: x>0.5, y_prob))\n",
    "print_2_reports(y_test,y_pred)\n",
    "\n",
    "y_pred = list(map(lambda x: x>0.47, y_prob))\n",
    "print_2_reports(y_test,y_pred)\n",
    "\n",
    "y_pred = list(map(lambda x: x>0.40, y_prob))\n",
    "print_2_reports(y_test,y_pred)"
   ]
  },
  {
   "cell_type": "code",
   "execution_count": null,
   "id": "33264bd8-0d2d-4dc3-8c69-053ca79faf11",
   "metadata": {},
   "outputs": [],
   "source": []
  },
  {
   "cell_type": "markdown",
   "id": "c5329f1e-5a84-4e13-a983-2b05b6fbe02e",
   "metadata": {},
   "source": [
    "----\n",
    "## Adaboost Standard"
   ]
  },
  {
   "cell_type": "code",
   "execution_count": 19,
   "id": "1fc10eca-1c00-4c5b-a92c-f16ad58a1949",
   "metadata": {},
   "outputs": [
    {
     "name": "stderr",
     "output_type": "stream",
     "text": [
      "/home/joaoholz/Documents/ufes/trabalho_final/modules/get_data.py:6: DtypeWarning: Columns (3,4,5) have mixed types. Specify dtype option on import or set low_memory=False.\n",
      "  return pd.read_csv(\"asteroides/asteoides.csv\").iloc[:, first_columns:]\n"
     ]
    }
   ],
   "source": [
    "x,y = get_x_y()\n",
    "x_train,x_test,y_train,y_test = train_test_split(x, y, test_size=0.3, stratify=y, random_state=42)\n",
    "\n",
    "#scaler = MinMaxScaler()\n",
    "scaler = StandardScaler()\n",
    "x_train = scaler.fit_transform(x_train)\n",
    "x_test = scaler.transform(x_test)"
   ]
  },
  {
   "cell_type": "code",
   "execution_count": 20,
   "id": "e818cb6f-09ae-4d1e-9974-a2a4944db8d7",
   "metadata": {},
   "outputs": [
    {
     "name": "stderr",
     "output_type": "stream",
     "text": [
      "/home/joaoholz/miniconda3/envs/tf/lib/python3.10/site-packages/sklearn/utils/validation.py:1141: DataConversionWarning: A column-vector y was passed when a 1d array was expected. Please change the shape of y to (n_samples, ), for example using ravel().\n",
      "  y = column_or_1d(y, warn=True)\n"
     ]
    }
   ],
   "source": [
    "ada = AdaBoostClassifier()\n",
    "ada_fit = ada.fit(x_train,y_train)\n",
    "y_prob = ada.predict_proba(x_test)[:,1]"
   ]
  },
  {
   "cell_type": "code",
   "execution_count": 21,
   "id": "602387b9-7a29-4528-be72-c67611351a7a",
   "metadata": {},
   "outputs": [
    {
     "data": {
      "image/png": "[encoded data removed]",
      "text/plain": [
       "<Figure size 640x480 with 1 Axes>"
      ]
     },
     "metadata": {},
     "output_type": "display_data"
    }
   ],
   "source": [
    "plot_false_negative_rate(y_test,y_prob)"
   ]
  },
  {
   "cell_type": "code",
   "execution_count": 22,
   "id": "0442b324-acb7-445c-ba31-2f201e52f49a",
   "metadata": {},
   "outputs": [
    {
     "name": "stdout",
     "output_type": "stream",
     "text": [
      "              precision    recall  f1-score   support\n",
      "\n",
      "           0       1.00      1.00      1.00    279081\n",
      "           1       0.99      0.97      0.98       620\n",
      "\n",
      "    accuracy                           1.00    279701\n",
      "   macro avg       0.99      0.99      0.99    279701\n",
      "weighted avg       1.00      1.00      1.00    279701\n",
      "\n",
      "        N    Y\n",
      "N  279072    9\n",
      "Y      18  602\n",
      "              precision    recall  f1-score   support\n",
      "\n",
      "           0       1.00      1.00      1.00    279081\n",
      "           1       0.93      1.00      0.96       620\n",
      "\n",
      "    accuracy                           1.00    279701\n",
      "   macro avg       0.97      1.00      0.98    279701\n",
      "weighted avg       1.00      1.00      1.00    279701\n",
      "\n",
      "        N    Y\n",
      "N  279038   43\n",
      "Y       2  618\n",
      "              precision    recall  f1-score   support\n",
      "\n",
      "           0       1.00      1.00      1.00    279081\n",
      "           1       0.40      1.00      0.57       620\n",
      "\n",
      "    accuracy                           1.00    279701\n",
      "   macro avg       0.70      1.00      0.78    279701\n",
      "weighted avg       1.00      1.00      1.00    279701\n",
      "\n",
      "        N    Y\n",
      "N  278147  934\n",
      "Y       1  619\n"
     ]
    }
   ],
   "source": [
    "#y_pred = model.predict(x_test)\n",
    "y_pred = list(map(lambda x: x>0.5, y_prob))\n",
    "print_2_reports(y_test,y_pred)\n",
    "\n",
    "y_pred = list(map(lambda x: x>0.47, y_prob))\n",
    "print_2_reports(y_test,y_pred)\n",
    "\n",
    "y_pred = list(map(lambda x: x>0.40, y_prob))\n",
    "print_2_reports(y_test,y_pred)"
   ]
  },
  {
   "cell_type": "code",
   "execution_count": null,
   "id": "3ab1c4cc-6ee1-4daa-abb3-6db713edafff",
   "metadata": {},
   "outputs": [],
   "source": []
  },
  {
   "cell_type": "code",
   "execution_count": null,
   "id": "96ef99af-100a-4014-9edc-19d15ac9e48a",
   "metadata": {},
   "outputs": [],
   "source": []
  }
 ],
 "metadata": {
  "kernelspec": {
   "display_name": "Python 3 (ipykernel)",
   "language": "python",
   "name": "python3"
  },
  "language_info": {
   "codemirror_mode": {
    "name": "ipython",
    "version": 3
   },
   "file_extension": ".py",
   "mimetype": "text/x-python",
   "name": "python",
   "nbconvert_exporter": "python",
   "pygments_lexer": "ipython3",
   "version": "3.10.11"
  }
 },
 "nbformat": 4,
 "nbformat_minor": 5
}
